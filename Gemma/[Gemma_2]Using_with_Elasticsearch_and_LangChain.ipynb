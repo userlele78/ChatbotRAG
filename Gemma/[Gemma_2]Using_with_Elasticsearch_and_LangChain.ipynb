{
  "cells": [
    {
      "cell_type": "markdown",
      "metadata": {
        "id": "Tce3stUlHN0L"
      },
      "source": [
        "##### Copyright 2024 Google LLC."
      ]
    },
    {
      "cell_type": "code",
      "execution_count": 14,
      "metadata": {
        "cellView": "form",
        "id": "tuOe1ymfHZPu"
      },
      "outputs": [],
      "source": [
        "# @title Licensed under the Apache License, Version 2.0 (the \"License\");\n",
        "# you may not use this file except in compliance with the License.\n",
        "# You may obtain a copy of the License at\n",
        "#\n",
        "# https://www.apache.org/licenses/LICENSE-2.0\n",
        "#\n",
        "# Unless required by applicable law or agreed to in writing, software\n",
        "# distributed under the License is distributed on an \"AS IS\" BASIS,\n",
        "# WITHOUT WARRANTIES OR CONDITIONS OF ANY KIND, either express or implied.\n",
        "# See the License for the specific language governing permissions and\n",
        "# limitations under the License."
      ]
    },
    {
      "cell_type": "markdown",
      "metadata": {
        "id": "introduction"
      },
      "source": [
        "# Building a RAG using Gemma with Elasticsearch, Ollama and Langchain\n",
        "\n",
        "This tutorial will guide you through building a **Retrieval-Augmented Generation (RAG)** application using the **Gemma 2 9B** model, **LangChain**, **Ollama**, and **Elasticsearch**. You'll go through each step in detail, ensuring that even if you're new to RAGs or Large Language Models (LLMs), you'll be able to follow along and build your own local AI application."
      ]
    },
    {
      "cell_type": "markdown",
      "metadata": {
        "id": "introduction-gemma"
      },
      "source": [
        "## Introduction\n",
        "\n",
        "**Retrieval-Augmented Generation (RAG)** is a technique that combines large language models (LLMs) with external knowledge sources to generate more accurate and contextually relevant responses. It involves two main components:\n",
        "\n",
        "* **Retriever**: Based on the user's query, the retriever fetches relevant documents from a dataset to provide additional context to the LLM.\n",
        "\n",
        "* **Generator**: The LLM uses the retrieved context along with the user's query to generate accurate and coherent responses.\n",
        "\n",
        "By combining retrieval with generation, RAG systems can produce responses that are both informed and coherent, making them ideal for tasks like question answering over custom datasets.\n",
        "\n",
        "[**Gemma**](https://ai.google.dev/gemma) is a family of lightweight, state-of-the-art open language models from Google. Built from the same research and technology used to create the Gemini models, Gemma models are text-to-text, decoder-only large language models (LLMs) available in English, with open weights, pre-trained variants, and instruction-tuned variants.\n",
        "\n",
        "The **Gemma 2 9B IT Q6 K** model is a quantized instruction-tuned version of the Gemma model, optimized for performance while reducing computational load. This makes it possible to deploy the model in environments with limited resources, such as a laptop, desktop, or your own cloud infrastructure. It democratizes access to state-of-the-art AI models and fosters innovation for everyone.\n",
        "\n",
        "[**LangChain**](https://python.langchain.com/) is a framework for developing applications powered by language models. It provides a suite of tools and integrations that simplify building complex AI applications, such as chatbots, question-answering systems, and more. LangChain allows you to chain together various components like prompts, LLMs, and retrievers to create sophisticated pipelines.\n",
        "\n",
        "[**Ollama**](https://ollama.ai/) is a tool that simplifies running language models locally. It allows you to manage and serve multiple models efficiently, making it easier to deploy and test AI models on your machine. With Ollama, you can switch between different models and versions seamlessly, providing flexibility in development and experimentation. You can browse the available Gemma 2 models at the [Ollama Gemma 2 Model Catalog](https://ollama.com/library/gemma2).\n",
        "\n",
        "[**Elasticsearch**](https://www.elastic.co/elasticsearch/) is a powerful open-source search and analytics engine. It allows you to store, search, and analyze large volumes of data quickly and in near real-time. In this tutorial, Elasticsearch serves as the data source and vector store for our RAG application, enabling efficient retrieval of relevant documents based on user queries.\n",
        "\n",
        "By combining these tools, you can build a local RAG application that leverages the strengths of each component to create a powerful AI application capable of handling tasks like question answering over custom datasets—all running locally on a modest GPU like the T4.\n",
        "\n",
        "<table align=\"left\">\n",
        "  <td>\n",
        "    <a target=\"_blank\" href=\"https://colab.research.google.com/github/google-gemini/gemma-cookbook/blob/main/Gemma/[Gemma_2]Using_with_Elasticsearch_and_LangChain.ipynb\"><img src=\"https://www.tensorflow.org/images/colab_logo_32px.png\" />Run in Google Colab</a>\n",
        "  </td>\n",
        "</table>"
      ]
    },
    {
      "cell_type": "markdown",
      "metadata": {
        "id": "setup"
      },
      "source": [
        "## Setup\n",
        "\n",
        "Before you begin, make sure you have a Google Colab account."
      ]
    },
    {
      "cell_type": "markdown",
      "metadata": {
        "id": "setup-colab-runtime"
      },
      "source": [
        "### Select the Colab Runtime\n",
        "\n",
        "First, you'll need to set up your Google Colab environment:\n",
        "\n",
        "1. **Open Google Colab** and create a new notebook.\n",
        "2. In the upper-right corner of the Colab window, click on the **▾ (Additional connection options)** button.\n",
        "3. Select **Change runtime type**.\n",
        "4. Under **Hardware accelerator**, choose **GPU**.\n",
        "5. Ensure that the **GPU type** is set to **T4**.\n",
        "\n",
        "This will provide sufficient resources to run the Gemma 2 9B model.\n",
        "\n",
        "### Gemma Setup\n",
        "\n",
        "Before diving into the tutorial, let's set up Gemma:\n",
        "\n",
        "1. **Create a Hugging Face Account**: If you don't have one, you can sign up for a free account [here](https://huggingface.co/join).\n",
        "2. **Access the Gemma Model**: Visit the [Gemma model page](https://huggingface.co/collections/google/gemma-2-release-667d6600fd5220e7b967f315) and accept the usage conditions.\n",
        "3. **Generate a Hugging Face Token**: Go to your Hugging Face [settings page](https://huggingface.co/settings/tokens) and generate a new access token (preferably with `write` permissions).\n",
        "\n",
        "**Once you've completed these steps, you're ready to move on to the next section where you'll set up environment variables in your Colab environment.**"
      ]
    },
    {
      "cell_type": "markdown",
      "metadata": {
        "id": "configure-credentials"
      },
      "source": [
        "### Configure Your Credentials\n",
        "\n",
        "\n",
        "Next, we'll securely store your Hugging Face token using the Colab Secrets manager:\n",
        "\n",
        "1. Open your Google Colab notebook and click on the 🔑 Secrets tab in the left panel. <img src=\"https://storage.googleapis.com/generativeai-downloads/images/secrets.jpg\" alt=\"The Secrets tab is found on the left panel.\" width=50%>\n",
        "2. **Add Hugging Face Token**:\n",
        "   - Create a new secret named `HF_TOKEN`.\n",
        "   - Paste your Hugging Face token into the Value input box.\n",
        "   - Toggle the button to allow notebook access to the secret.\n",
        "\n",
        "Now, set the environment variables in your notebook:"
      ]
    },
    {
      "cell_type": "code",
      "execution_count": 1,
      "metadata": {
        "id": "set-env-vars"
      },
      "outputs": [],
      "source": [
        "import os\n",
        "from google.colab import userdata\n",
        "\n",
        "# Set Hugging Face token\n",
        "os.environ[\"HF_TOKEN\"] = userdata.get(\"HF_TOKEN\")"
      ]
    },
    {
      "cell_type": "markdown",
      "metadata": {
        "id": "OkKjRMosdF_a"
      },
      "source": [
        "This code retrieves your secrets and sets them as environment variables, which you will use later in the tutorial."
      ]
    },
    {
      "cell_type": "markdown",
      "metadata": {
        "id": "6B4b-MNldLzF"
      },
      "source": [
        "### Installing Dependencies\n"
      ]
    },
    {
      "cell_type": "markdown",
      "metadata": {
        "id": "install-dependencies"
      },
      "source": [
        "Next, you need to install all the required dependencies. Run the following cell to install them:\n"
      ]
    },
    {
      "cell_type": "code",
      "execution_count": 2,
      "metadata": {
        "id": "install-deps",
        "outputId": "ce071b7b-6545-4378-af30-0aacc4eafb81",
        "colab": {
          "base_uri": "https://localhost:8080/"
        }
      },
      "outputs": [
        {
          "output_type": "stream",
          "name": "stdout",
          "text": [
            "\u001b[?25l   \u001b[90m━━━━━━━━━━━━━━━━━━━━━━━━━━━━━━━━━━━━━━━━\u001b[0m \u001b[32m0.0/275.9 kB\u001b[0m \u001b[31m?\u001b[0m eta \u001b[36m-:--:--\u001b[0m\r\u001b[2K   \u001b[90m━━━━━━━━━━━━━━━━━━━━━━━━━━━━━━━━━━━━━━━━\u001b[0m \u001b[32m275.9/275.9 kB\u001b[0m \u001b[31m16.2 MB/s\u001b[0m eta \u001b[36m0:00:00\u001b[0m\n",
            "\u001b[?25h\u001b[31mERROR: pip's dependency resolver does not currently take into account all the packages that are installed. This behaviour is the source of the following dependency conflicts.\n",
            "langchain-huggingface 0.1.2 requires sentence-transformers>=2.6.0, but you have sentence-transformers 2.2.2 which is incompatible.\u001b[0m\u001b[31m\n",
            "\u001b[0m"
          ]
        }
      ],
      "source": [
        "!pip install -q langchain tiktoken\n",
        "!pip install -q langchainhub langchain-huggingface langchain-text-splitters\n",
        "!pip install -q sentence-transformers==2.2.2\n",
        "!pip install -q -U huggingface-hub\n",
        "!pip install -q -U elasticsearch==8.15.1 langchain-elasticsearch==0.3.0\n",
        "!pip install -q langchain-ollama"
      ]
    },
    {
      "cell_type": "markdown",
      "metadata": {
        "id": "pFZgAcOWhGnW"
      },
      "source": [
        "### Import Dependencies"
      ]
    },
    {
      "cell_type": "code",
      "execution_count": 17,
      "metadata": {
        "id": "8S7QO6QthJlm"
      },
      "outputs": [],
      "source": [
        "import os\n",
        "import time\n",
        "from google.colab import userdata\n",
        "from typing import Dict\n",
        "\n",
        "from elasticsearch import Elasticsearch\n",
        "\n",
        "from langchain_ollama.chat_models import ChatOllama\n",
        "from langchain_huggingface import HuggingFaceEmbeddings\n",
        "from langchain_elasticsearch import ElasticsearchStore, ElasticsearchRetriever\n",
        "from langchain.text_splitter import RecursiveCharacterTextSplitter\n",
        "from langchain import hub\n",
        "from langchain_core.output_parsers import BaseTransformOutputParser\n",
        "from langchain_core.runnables import RunnablePassthrough"
      ]
    },
    {
      "cell_type": "markdown",
      "metadata": {
        "id": "gemma-section"
      },
      "source": [
        "## Gemma\n",
        "\n",
        "Gemma models are designed to be lightweight yet powerful, making them suitable for environments with limited resources. They support various text generation tasks and are available in instruction-tuned variants, which means they've been trained to follow instructions provided in prompts.\n",
        "\n",
        "#### Prompt Formatting\n",
        "\n",
        "Instruction-tuned models use specific control tokens to format prompts:\n",
        "\n",
        "- **`user`**: Indicates a user turn.\n",
        "- **`model`**: Indicates a model turn.\n",
        "- **`<start_of_turn>`**: Marks the beginning of a dialogue turn.\n",
        "- **`<end_of_turn>`**: Marks the end of a dialogue turn.\n",
        "\n",
        "This formatting helps the model understand and generate conversational responses. Refer to the [official documentation](https://ai.google.dev/gemma/docs/formatting) for more details."
      ]
    },
    {
      "cell_type": "markdown",
      "metadata": {
        "id": "install-ollama"
      },
      "source": [
        "### Installing and Running Ollama\n",
        "\n",
        "You will use Ollama to run the Gemma model locally.\n",
        "\n",
        "First, install Ollama by running:"
      ]
    },
    {
      "cell_type": "code",
      "execution_count": 3,
      "metadata": {
        "id": "install-ollama-code",
        "outputId": "8325583c-3ae0-45af-8b01-7a58fab7aa72",
        "colab": {
          "base_uri": "https://localhost:8080/"
        }
      },
      "outputs": [
        {
          "output_type": "stream",
          "name": "stdout",
          "text": [
            ">>> Installing ollama to /usr/local\n",
            ">>> Downloading Linux amd64 bundle\n",
            "############################################################################################# 100.0%\n",
            ">>> Creating ollama user...\n",
            ">>> Adding ollama user to video group...\n",
            ">>> Adding current user to ollama group...\n",
            ">>> Creating ollama systemd service...\n",
            "\u001b[1m\u001b[31mWARNING:\u001b[m systemd is not running\n",
            "\u001b[1m\u001b[31mWARNING:\u001b[m Unable to detect NVIDIA/AMD GPU. Install lspci or lshw to automatically detect and install GPU dependencies.\n",
            ">>> The Ollama API is now available at 127.0.0.1:11434.\n",
            ">>> Install complete. Run \"ollama\" from the command line.\n"
          ]
        }
      ],
      "source": [
        "!curl -fsSL https://ollama.com/install.sh | sh"
      ]
    },
    {
      "cell_type": "markdown",
      "metadata": {
        "id": "5Qky7E72dacP"
      },
      "source": [
        "Then, start the Ollama server in the background.\n"
      ]
    },
    {
      "cell_type": "code",
      "execution_count": 4,
      "metadata": {
        "id": "install-langchain-ollama-code",
        "outputId": "a68b5536-b315-4c83-fd92-10497cccd5fc",
        "colab": {
          "base_uri": "https://localhost:8080/"
        }
      },
      "outputs": [
        {
          "output_type": "stream",
          "name": "stdout",
          "text": [
            "nohup: redirecting stderr to stdout\n"
          ]
        }
      ],
      "source": [
        "!nohup ollama serve > ollama.log &"
      ]
    },
    {
      "cell_type": "markdown",
      "metadata": {
        "id": "ollama-gemma"
      },
      "source": [
        "Ollama provides a library of pre-configured models, including Gemma 2 models. You can browse the available Gemma 2 models at the [Ollama Gemma 2 Model Catalog](https://ollama.com/library/gemma2). This allows you to switch between different Gemma 2 models easily.\n",
        "\n",
        "In this notebook, you'll use the [gemma2:9b-instruct-q6_K](https://ollama.com/library/gemma2:9b-instruct-q6_K) model.\n"
      ]
    },
    {
      "cell_type": "code",
      "execution_count": 24,
      "metadata": {
        "id": "test-ollama",
        "outputId": "6b8415cb-0d26-4c9b-dadc-58ba282c7c12",
        "colab": {
          "base_uri": "https://localhost:8080/"
        }
      },
      "outputs": [
        {
          "output_type": "stream",
          "name": "stdout",
          "text": [
            "The capital of France is **Paris**. 🇫🇷 \n",
            "\n",
            "\n"
          ]
        }
      ],
      "source": [
        "!ollama run gemma2:2b \"What is the capital of France?\" 2> ollama.log"
      ]
    },
    {
      "cell_type": "markdown",
      "metadata": {
        "id": "3jychWGrdp19"
      },
      "source": [
        "You should see the model's response in the output."
      ]
    },
    {
      "cell_type": "markdown",
      "metadata": {
        "id": "integrate-gemma-langchain"
      },
      "source": [
        "### Integrate Gemma with LangChain\n",
        "\n",
        "Now, let's set up the Gemma model with LangChain:"
      ]
    },
    {
      "cell_type": "code",
      "execution_count": 25,
      "metadata": {
        "id": "initialize-llm"
      },
      "outputs": [],
      "source": [
        "llm = ChatOllama(\n",
        "    model=\"gemma2:2b\",\n",
        "    temperature=0.8\n",
        ")"
      ]
    },
    {
      "cell_type": "markdown",
      "metadata": {
        "id": "YH_Gw5YJeJ4k"
      },
      "source": [
        "Test the LLM by asking a simple question:\n"
      ]
    },
    {
      "cell_type": "code",
      "execution_count": 26,
      "metadata": {
        "id": "test-llm",
        "outputId": "aef9cc94-25cf-46c6-cece-b7897582d444",
        "colab": {
          "base_uri": "https://localhost:8080/"
        }
      },
      "outputs": [
        {
          "output_type": "stream",
          "name": "stdout",
          "text": [
            "The capital of France is **Paris**. 🗼  \n",
            "\n"
          ]
        }
      ],
      "source": [
        "response = llm.invoke(\"What is the capital of France?\")\n",
        "print(response.content)"
      ]
    },
    {
      "cell_type": "markdown",
      "metadata": {
        "id": "setup-elasticsearch"
      },
      "source": [
        "## Setting up Elasticsearch\n",
        "\n",
        "Next, you'll set up a local instance of Elasticsearch to serve as our data source and vector store.\n",
        "\n",
        "**Note:** You're choosing to run Elasticsearch locally instead of using [Elastic Cloud](https://www.elastic.co/search-labs/tutorials/install-elasticsearch/elastic-cloud) to keep the tutorial self-contained and to avoid external dependencies. This way, you can run everything on your machine without needing internet access or incurring any cloud costs.\n"
      ]
    },
    {
      "cell_type": "markdown",
      "metadata": {
        "id": "download-install-elasticsearch"
      },
      "source": [
        "### Download and Install Elasticsearch\n",
        "\n",
        "First, you need to download and install Elasticsearch.\n"
      ]
    },
    {
      "cell_type": "code",
      "execution_count": 27,
      "metadata": {
        "id": "remove-elasticsearch"
      },
      "outputs": [],
      "source": [
        "# Removes any previous Elasticsearch installations:\n",
        "!rm -rf elasticsearch*"
      ]
    },
    {
      "cell_type": "markdown",
      "metadata": {
        "id": "download-elasticsearch"
      },
      "source": [
        "Download Elasticsearch Version 8.15.1, extract the archive and set permissions.\n"
      ]
    },
    {
      "cell_type": "code",
      "execution_count": 28,
      "metadata": {
        "id": "4FMqe8NRfFHp"
      },
      "outputs": [],
      "source": [
        "ESVERSION = \"8.15.1\""
      ]
    },
    {
      "cell_type": "code",
      "execution_count": 29,
      "metadata": {
        "id": "download-elasticsearch-code",
        "outputId": "5896b147-b7f2-49a3-b4fd-7703b8948a20",
        "colab": {
          "base_uri": "https://localhost:8080/"
        }
      },
      "outputs": [
        {
          "output_type": "stream",
          "name": "stdout",
          "text": [
            "elasticsearch-8.15.1-linux-x86_64.tar.gz: OK\n",
            "Reading package lists...\n",
            "Building dependency tree...\n",
            "Reading state information...\n",
            "The following additional packages will be installed:\n",
            "  libcgroup1\n",
            "The following NEW packages will be installed:\n",
            "  cgroup-tools libcgroup1\n",
            "0 upgraded, 2 newly installed, 0 to remove and 29 not upgraded.\n",
            "Need to get 121 kB of archives.\n",
            "After this operation, 435 kB of additional disk space will be used.\n",
            "Get:1 http://archive.ubuntu.com/ubuntu jammy/universe amd64 libcgroup1 amd64 2.0-2 [49.8 kB]\n",
            "Get:2 http://archive.ubuntu.com/ubuntu jammy/universe amd64 cgroup-tools amd64 2.0-2 [70.8 kB]\n",
            "Fetched 121 kB in 1s (116 kB/s)\n",
            "Selecting previously unselected package libcgroup1:amd64.\r\n",
            "(Reading database ... \r(Reading database ... 5%\r(Reading database ... 10%\r(Reading database ... 15%\r(Reading database ... 20%\r(Reading database ... 25%\r(Reading database ... 30%\r(Reading database ... 35%\r(Reading database ... 40%\r(Reading database ... 45%\r(Reading database ... 50%\r(Reading database ... 55%\r(Reading database ... 60%\r(Reading database ... 65%\r(Reading database ... 70%\r(Reading database ... 75%\r(Reading database ... 80%\r(Reading database ... 85%\r(Reading database ... 90%\r(Reading database ... 95%\r(Reading database ... 100%\r(Reading database ... 126209 files and directories currently installed.)\r\n",
            "Preparing to unpack .../libcgroup1_2.0-2_amd64.deb ...\r\n",
            "Unpacking libcgroup1:amd64 (2.0-2) ...\r\n",
            "Selecting previously unselected package cgroup-tools.\r\n",
            "Preparing to unpack .../cgroup-tools_2.0-2_amd64.deb ...\r\n",
            "Unpacking cgroup-tools (2.0-2) ...\r\n",
            "Setting up libcgroup1:amd64 (2.0-2) ...\r\n",
            "Setting up cgroup-tools (2.0-2) ...\r\n",
            "Processing triggers for libc-bin (2.35-0ubuntu3.8) ...\r\n",
            "/sbin/ldconfig.real: /usr/local/lib/libtbbbind_2_5.so.3 is not a symbolic link\r\n",
            "\r\n",
            "/sbin/ldconfig.real: /usr/local/lib/libtbbmalloc.so.2 is not a symbolic link\r\n",
            "\r\n",
            "/sbin/ldconfig.real: /usr/local/lib/libtbbbind_2_0.so.3 is not a symbolic link\r\n",
            "\r\n",
            "/sbin/ldconfig.real: /usr/local/lib/libhwloc.so.15 is not a symbolic link\r\n",
            "\r\n",
            "/sbin/ldconfig.real: /usr/local/lib/libtbbbind.so.3 is not a symbolic link\r\n",
            "\r\n",
            "/sbin/ldconfig.real: /usr/local/lib/libtcm.so.1 is not a symbolic link\r\n",
            "\r\n",
            "/sbin/ldconfig.real: /usr/local/lib/libtbbmalloc_proxy.so.2 is not a symbolic link\r\n",
            "\r\n",
            "/sbin/ldconfig.real: /usr/local/lib/libumf.so.0 is not a symbolic link\r\n",
            "\r\n",
            "/sbin/ldconfig.real: /usr/local/lib/libur_loader.so.0 is not a symbolic link\r\n",
            "\r\n",
            "/sbin/ldconfig.real: /usr/local/lib/libtbb.so.12 is not a symbolic link\r\n",
            "\r\n",
            "/sbin/ldconfig.real: /usr/local/lib/libtcm_debug.so.1 is not a symbolic link\r\n",
            "\r\n",
            "/sbin/ldconfig.real: /usr/local/lib/libur_adapter_level_zero.so.0 is not a symbolic link\r\n",
            "\r\n",
            "/sbin/ldconfig.real: /usr/local/lib/libur_adapter_opencl.so.0 is not a symbolic link\r\n",
            "\r\n",
            "Processing triggers for man-db (2.10.2-1) ...\r\n"
          ]
        },
        {
          "output_type": "stream",
          "name": "stderr",
          "text": [
            "\n",
            "WARNING: apt does not have a stable CLI interface. Use with caution in scripts.\n",
            "\n"
          ]
        }
      ],
      "source": [
        "%%bash -s \"$ESVERSION\"\n",
        "export ESVERSION=$1\n",
        "\n",
        "# Download and extract ES\n",
        "wget -q https://artifacts.elastic.co/downloads/elasticsearch/elasticsearch-${ESVERSION}-linux-x86_64.tar.gz\n",
        "wget -q https://artifacts.elastic.co/downloads/elasticsearch/elasticsearch-${ESVERSION}-linux-x86_64.tar.gz.sha512\n",
        "tar -xzf elasticsearch-${ESVERSION}-linux-x86_64.tar.gz\n",
        "\n",
        "# The binary's integrity is verified using SHA-512\n",
        "shasum -a 512 -c elasticsearch-${ESVERSION}-linux-x86_64.tar.gz.sha512\n",
        "\n",
        "# Set up user to run ES daemon and configure cgroups\n",
        "umount /sys/fs/cgroup\n",
        "apt install cgroup-tools\n",
        "sudo chown -R daemon:daemon elasticsearch-${ESVERSION}/"
      ]
    },
    {
      "cell_type": "markdown",
      "metadata": {
        "id": "configure-elasticsearch"
      },
      "source": [
        "### Configure Elasticsearch\n",
        "\n",
        "For demonstration purposes, let's disable security settings.   \n",
        "**Note**: In a production environment, always enable security features.\n",
        "\n",
        "Open the Elasticsearch configuration file and append the following settings:"
      ]
    },
    {
      "cell_type": "code",
      "execution_count": 30,
      "metadata": {
        "id": "configure-elasticsearch-code"
      },
      "outputs": [],
      "source": [
        "with open(f'./elasticsearch-{ESVERSION}/config/elasticsearch.yml', 'a') as f:\n",
        "    f.write(\"xpack.security.enabled: false\\n\")\n",
        "    f.write(\"xpack.security.authc:\\n\")\n",
        "    f.write(\"  anonymous:\\n\")\n",
        "    f.write(\"    username: anonymous_user\\n\")\n",
        "    f.write(\"    roles: superuser\\n\")\n",
        "    f.write(\"    authz_exception: true\\n\")"
      ]
    },
    {
      "cell_type": "markdown",
      "metadata": {
        "id": "OVJJf42gejqx"
      },
      "source": [
        "If you want to verify that the **elasticsearch.yml** file is written correctly, you can uncomment and run the following code block."
      ]
    },
    {
      "cell_type": "code",
      "execution_count": 31,
      "metadata": {
        "id": "JY7AmN20ekqN"
      },
      "outputs": [],
      "source": [
        "# with open(f'./elasticsearch-{ESVERSION}/config/elasticsearch.yml', 'r') as f:\n",
        "#     print(f.read())"
      ]
    },
    {
      "cell_type": "markdown",
      "metadata": {
        "id": "run-elasticsearch"
      },
      "source": [
        "### Run Elasticsearch\n",
        "\n",
        "Now, let's start Elasticsearch as a daemon process:\n"
      ]
    },
    {
      "cell_type": "code",
      "execution_count": 32,
      "metadata": {
        "id": "start-elasticsearch-code"
      },
      "outputs": [],
      "source": [
        "%%bash --bg -s \"$ESVERSION\"\n",
        "\n",
        "export ESVERSION=$1\n",
        "\n",
        "sudo -H -u daemon elasticsearch-${ESVERSION}/bin/elasticsearch"
      ]
    },
    {
      "cell_type": "markdown",
      "metadata": {
        "id": "wait-elasticsearch"
      },
      "source": [
        "It takes Elasticsearch a while to get running, so be sure to wait a few seconds. You can run a manual 60-second sleep command to ensure Elasticsearch has enough time to start:"
      ]
    },
    {
      "cell_type": "code",
      "execution_count": 33,
      "metadata": {
        "id": "wait-elasticsearch-code"
      },
      "outputs": [],
      "source": [
        "time.sleep(60)"
      ]
    },
    {
      "cell_type": "markdown",
      "metadata": {
        "id": "verify-elasticsearch"
      },
      "source": [
        "Once the instance has been started, you can check if Elasticsearch is running by listing the processes. You should see several elasticsearch processes running."
      ]
    },
    {
      "cell_type": "code",
      "execution_count": 34,
      "metadata": {
        "id": "verify-elasticsearch-code",
        "outputId": "48226dfb-1776-4857-aa73-4f683afc31f3",
        "colab": {
          "base_uri": "https://localhost:8080/"
        }
      },
      "outputs": [
        {
          "output_type": "stream",
          "name": "stdout",
          "text": [
            "root        4604    4602  0 16:38 ?        00:00:00 sudo -H -u daemon elasticsearch-8.15.1/bin/elast\n",
            "daemon      4605    4604  1 16:38 ?        00:00:05 /content/elasticsearch-8.15.1/jdk/bin/java -Xms4\n",
            "daemon      4675    4605 13 16:38 ?        00:01:02 /content/elasticsearch-8.15.1/jdk/bin/java -Des.\n",
            "daemon      4719    4675  0 16:38 ?        00:00:00 /content/elasticsearch-8.15.1/modules/x-pack-ml/\n",
            "root        6673     857  0 16:46 ?        00:00:00 /bin/bash -c ps -ef | grep elastic\n",
            "root        6675    6673  0 16:46 ?        00:00:00 grep elastic\n"
          ]
        }
      ],
      "source": [
        "!ps -ef | grep elastic"
      ]
    },
    {
      "cell_type": "markdown",
      "metadata": {
        "id": "initialize-elasticsearch"
      },
      "source": [
        "Verify Elasticsearch is running by making a request to the cluster. Here, you use the default elastic superuser and password password to initialize the cluster so that you can perform anonymous calls moving forward.\n",
        "\n",
        "**WARNING**: Do not pass user passwords like this in real life."
      ]
    },
    {
      "cell_type": "code",
      "execution_count": 35,
      "metadata": {
        "id": "initialize-elasticsearch-code",
        "outputId": "6e4d0947-6b3c-4740-d61c-0e6c289ec8aa",
        "colab": {
          "base_uri": "https://localhost:8080/"
        }
      },
      "outputs": [
        {
          "output_type": "stream",
          "name": "stdout",
          "text": [
            "{\n",
            "  \"name\" : \"4239b4775fb9\",\n",
            "  \"cluster_name\" : \"elasticsearch\",\n",
            "  \"cluster_uuid\" : \"G3Z3Yhg5TwCfHPZVC1uFPA\",\n",
            "  \"version\" : {\n",
            "    \"number\" : \"8.15.1\",\n",
            "    \"build_flavor\" : \"default\",\n",
            "    \"build_type\" : \"tar\",\n",
            "    \"build_hash\" : \"253e8544a65ad44581194068936f2a5d57c2c051\",\n",
            "    \"build_date\" : \"2024-09-02T22:04:47.310170297Z\",\n",
            "    \"build_snapshot\" : false,\n",
            "    \"lucene_version\" : \"9.11.1\",\n",
            "    \"minimum_wire_compatibility_version\" : \"7.17.0\",\n",
            "    \"minimum_index_compatibility_version\" : \"7.0.0\"\n",
            "  },\n",
            "  \"tagline\" : \"You Know, for Search\"\n",
            "}\n"
          ]
        }
      ],
      "source": [
        "!curl -u elastic:password -H 'Content-Type: application/json' -XGET http://localhost:9200/?pretty=true"
      ]
    },
    {
      "cell_type": "markdown",
      "metadata": {
        "id": "qa-rag-elasticsearch"
      },
      "source": [
        "## QA with RAG Using Elasticsearch\n",
        "\n",
        "Now, you'll perform question answering using Retrieval-Augmented Generation (RAG) with Elasticsearch by implementing the two stages in a RAG-based architecture:\n",
        "\n",
        "1. **Retrieval**: Retrieves relevant context based on the user's query.\n",
        "2. **Generation**: Uses the LLM to generate answers using the retrieved context."
      ]
    },
    {
      "cell_type": "markdown",
      "metadata": {
        "id": "index-documents"
      },
      "source": [
        "### Retrieval\n",
        "\n",
        "In this stage, you will perform the following steps:\n",
        "\n",
        "* **Create a sample dataset**: Use sample Pokémon data.\n",
        "* **Preparing Documents for Indexing**: Split documents into manageable chunks.\n",
        "* **Create Embeddings of the Data**: Convert text data into numerical vectors.\n",
        "* **Store the Embeddings in the Vector Store**: Index the embeddings in Elasticsearch.\n",
        "* **Create a Retriever**: Set up a retriever to fetch relevant documents.\n"
      ]
    },
    {
      "cell_type": "markdown",
      "metadata": {
        "id": "connect-elasticsearch"
      },
      "source": [
        "Initialize the Elasticsearch client by connecting to the local instance.\n"
      ]
    },
    {
      "cell_type": "code",
      "execution_count": 36,
      "metadata": {
        "id": "connect-elasticsearch-code",
        "outputId": "b0eb4b27-9f6a-44eb-f721-c2536ae4820b",
        "colab": {
          "base_uri": "https://localhost:8080/"
        }
      },
      "outputs": [
        {
          "output_type": "stream",
          "name": "stdout",
          "text": [
            "Connected to Elasticsearch\n",
            "{'name': '4239b4775fb9', 'cluster_name': 'elasticsearch', 'cluster_uuid': 'G3Z3Yhg5TwCfHPZVC1uFPA', 'version': {'number': '8.15.1', 'build_flavor': 'default', 'build_type': 'tar', 'build_hash': '253e8544a65ad44581194068936f2a5d57c2c051', 'build_date': '2024-09-02T22:04:47.310170297Z', 'build_snapshot': False, 'lucene_version': '9.11.1', 'minimum_wire_compatibility_version': '7.17.0', 'minimum_index_compatibility_version': '7.0.0'}, 'tagline': 'You Know, for Search'}\n"
          ]
        }
      ],
      "source": [
        "es_url = \"http://localhost:9200\"\n",
        "client = Elasticsearch(hosts=[es_url])\n",
        "\n",
        "# Verify connection\n",
        "if client.ping():\n",
        "    print(\"Connected to Elasticsearch\")\n",
        "else:\n",
        "    print(\"Could not connect to Elasticsearch\")\n",
        "\n",
        "print(client.info())"
      ]
    },
    {
      "cell_type": "markdown",
      "metadata": {
        "id": "C35LOhwa7cXq"
      },
      "source": [
        "#### Create a sample dataset\n",
        "\n",
        "First, create some sample data to index. To do this, let's use descriptions of various Pokémon:"
      ]
    },
    {
      "cell_type": "code",
      "execution_count": 37,
      "metadata": {
        "id": "create-sample-data"
      },
      "outputs": [],
      "source": [
        "data = [\n",
        "    {\n",
        "        \"name\": \"Bulbasaur\",\n",
        "        \"description\": \"Bulbasaur has a strange seed planted on its back at birth. The plant sprouts and grows with Bulbasaur.\",\n",
        "        \"type\": \"Grass/Poison\"\n",
        "    },\n",
        "    {\n",
        "        \"name\": \"Charmander\",\n",
        "        \"description\": \"Charmander obviously prefers hot places. When it rains, steam is said to spout from the tip of Charmander's tail.\",\n",
        "        \"type\": \"Fire\"\n",
        "    },\n",
        "    {\n",
        "        \"name\": \"Squirtle\",\n",
        "        \"description\": \"After birth, Squirtle's back swells and hardens into a shell. Squirtle powerfully sprays foam from its mouth.\",\n",
        "        \"type\": \"Water\"\n",
        "    },\n",
        "    {\n",
        "        \"name\": \"Pikachu\",\n",
        "        \"description\": \"When several Pikachu gather, their electricity could build and cause lightning storms.\",\n",
        "        \"type\": \"Electric\"\n",
        "    },\n",
        "    {\n",
        "        \"name\": \"Jigglypuff\",\n",
        "        \"description\": \"When Jigglypuff sings, it never pauses to breathe. If Jigglypuff is in battle against an opponent that does not easily fall asleep, it cannot breathe, endangering its life.\",\n",
        "        \"type\": \"Normal/Fairy\"\n",
        "    },\n",
        "    {\n",
        "        \"name\": \"Meowth\",\n",
        "        \"description\": \"Meowth adores round objects. It wanders the streets on a nightly basis to look for dropped loose change.\",\n",
        "        \"type\": \"Normal\"\n",
        "    },\n",
        "    {\n",
        "        \"name\": \"Psyduck\",\n",
        "        \"description\": \"While lulling its enemies with its vacant look, this wily Psyduck will use psychokinetic powers.\",\n",
        "        \"type\": \"Water\"\n",
        "    },\n",
        "    {\n",
        "        \"name\": \"Mewtwo\",\n",
        "        \"description\": \"Mewtwo was created by a scientist after years of horrific gene splicing and DNA engineering experiments.\",\n",
        "        \"type\": \"Psychic\"\n",
        "    },\n",
        "    {\n",
        "        \"name\": \"Snorlax\",\n",
        "        \"description\": \"Snorlax's daily routine consists of nothing more than eating and sleeping. It is such a docile Pokémon that children use Snorlax's expansive belly as a place to play.\",\n",
        "        \"type\": \"Normal\"\n",
        "    },\n",
        "    {\n",
        "        \"name\": \"Gengar\",\n",
        "        \"description\": \"Sometimes, on a dark night, your shadow thrown by a streetlight will suddenly and startlingly overtake you. It is actually a Gengar running past you.\",\n",
        "        \"type\": \"Ghost/Poison\"\n",
        "    },\n",
        "    {\n",
        "        \"name\": \"Lapras\",\n",
        "        \"description\": \"People have driven Lapras almost to the point of extinction. In the evenings, Lapras is said to sing plaintively as it seeks what few others of its kind still remain.\",\n",
        "        \"type\": \"Water/Ice\"\n",
        "    },\n",
        "    {\n",
        "        \"name\": \"Dragonite\",\n",
        "        \"description\": \"Dragonite is capable of circling the globe in just sixteen hours. It is a kindhearted Pokémon that leads lost ships in a storm to the safety of land.\",\n",
        "        \"type\": \"Dragon/Flying\"\n",
        "    },\n",
        "    {\n",
        "        \"name\": \"Ditto\",\n",
        "        \"description\": \"Ditto rearranges its cell structure to transform itself into other shapes. However, if Ditto tries to transform itself by relying on its memory, it may get details wrong.\",\n",
        "        \"type\": \"Normal\"\n",
        "    },\n",
        "    {\n",
        "        \"name\": \"Magikarp\",\n",
        "        \"description\": \"Magikarp is a pathetic excuse for a Pokémon that is only capable of flopping and splashing. This behavior prompted scientists to undertake research into Magikarp.\",\n",
        "        \"type\": \"Water\"\n",
        "    },\n",
        "    {\n",
        "        \"name\": \"Charizard\",\n",
        "        \"description\": \"Charizard flies around the sky in search of powerful opponents. Charizard breathes fire of such great heat that it melts anything.\",\n",
        "        \"type\": \"Fire/Flying\"\n",
        "    },\n",
        "    {\n",
        "        \"name\": \"Onix\",\n",
        "        \"description\": \"Onix burrows at high speed in search of food. The tunnels Onix leaves are used as homes by Diglett.\",\n",
        "        \"type\": \"Rock/Ground\"\n",
        "    }\n",
        "]"
      ]
    },
    {
      "cell_type": "markdown",
      "metadata": {
        "id": "prepare-index-documents"
      },
      "source": [
        "#### Preparing Documents for Indexing\n",
        "\n",
        "Splitting documents into smaller manageable chunks is ideal for efficient Elasticsearch indexing and search, especially for larger descriptions.\n",
        "\n",
        "The following code prepares the documents for efficient processing by splitting them into manageable chunks while preserving metadata. It first extracts the descriptions and metadata, then uses `RecursiveCharacterTextSplitter` to break each description into overlapping segments. The result is a collection of smaller, context-rich text chunks, each paired with relevant metadata, ready for indexing."
      ]
    },
    {
      "cell_type": "code",
      "execution_count": 38,
      "metadata": {
        "id": "split-documents"
      },
      "outputs": [],
      "source": [
        "metadata = []\n",
        "content = []\n",
        "\n",
        "for doc in data:\n",
        "    content.append(doc[\"description\"])\n",
        "    metadata.append({\"name\": doc[\"name\"], \"type\": doc[\"type\"]})\n",
        "\n",
        "text_splitter = RecursiveCharacterTextSplitter.from_tiktoken_encoder(\n",
        "    chunk_size=512, chunk_overlap=256\n",
        ")\n",
        "docs = text_splitter.create_documents(content, metadatas=metadata)"
      ]
    },
    {
      "cell_type": "markdown",
      "metadata": {
        "id": "initialize-embeddings"
      },
      "source": [
        "#### Create Embeddings of the Data\n",
        "\n",
        "Embeddings are numerical representations (vectors) of text. Text with similar meaning will have similar embedding vectors. You'll use an embedding model to create the embedding vectors of the data.\n",
        "\n",
        "Initialize the embeddings using the `sentence-transformers/all-MiniLM-L12-v2` HuggingFace embedding model. You specify the `device` as `cuda` to utilize the GPU for faster computations and any additional paramaters like `normalize_embeddings` can be customized too.\n"
      ]
    },
    {
      "cell_type": "code",
      "execution_count": 42,
      "metadata": {
        "id": "initialize-embeddings-code",
        "outputId": "f51c6f22-74af-445f-92b3-a6a8adb49966",
        "colab": {
          "base_uri": "https://localhost:8080/",
          "height": 1000,
          "referenced_widgets": [
            "891605fd0a714709a189e16686a942b7",
            "331651aabc274bca8124412eba374144",
            "75997946bc774b78b35c3a89069f2cca",
            "809a1f4055d1473eb16a01007a2760f2",
            "85501cd7f5e74dd199d9640f5107ef48",
            "880f988d2cfd48a1b4d1902ae7e5e24e",
            "afb8c7563bd6449f9e553f471a3b97f5",
            "a3489092d3fd42b7b3a289f849f28781",
            "781f68978ff44139b41b7c86da4125c6",
            "39b56e68d7cb4b12abc6a235816a3375",
            "4852761fed314439b815ca41d73dcaa4",
            "fe33c4c2b3cf4345bafc28a2bf815825",
            "2343303720554e00987c8da29c9fde25",
            "0c290e4cd64c4619b367b95b2d3c797c",
            "5366eaceb4f1458aac7b8f3c0a0214d4",
            "32916263e34041e9a9ffc1fcb6dd30b4",
            "85b55324f98c410cb93b6634507f9c1e",
            "76ef60e5f2a747f8bb9b015c307de01b",
            "dfb6a368c67c4850a5542f5ef61b59bd",
            "58fe902c08634f35898f25fc2647f411",
            "6d12862359fb4f2bb213dd38dad00f89",
            "da56ccccacb44bf4a9344cfba7d1ad0f",
            "15ebcde5415b44f9b3e721dc8bf497ec",
            "228739261bea40a1b771025a1c20a2ea",
            "86d46a410a9348ab912bc4f61cf37318",
            "5ad572a3158d4523ab59f7b8da0849e1",
            "1242eb3838844f5187499b81c24b3e9c",
            "86bed6c0461842edb8073f43c8230f95",
            "74144e67530e41f2b8163237164d2a8f",
            "131f521e0c0e404ba5496af53d6b1a78",
            "09c569ec5da54b6fb27f63f9f9628818",
            "559ee60f6efc4dc9a1c5742e5475a120",
            "0e697dddb5df4985bd7585447382dd41",
            "75545ae50a1041b9ac28574889c2486c",
            "f9b8f515554d48fd8ab49a146a075dc9",
            "2d1c2a1c4d7d4c8096599d254697297d",
            "61b30270f44e499bb329d6c6cc5da8a1",
            "b175d2b05b4d44a3bd3774b6aa2e70d3",
            "87e145fbc5cf46b395f5f398c2ffa7bb",
            "7720c958f7484c528f44c121e09cb5db",
            "9dabb624e9a34990bbed91f89145edfa",
            "7121fd7d637145278be15a63db4f4cac",
            "2e1e90837fea445c8e5fb3fda5d80506",
            "49d9a70dcf044b6f90219069d2cdc003",
            "34de9224564248dea6323b46ca4a0d03",
            "bfcfb3e70c154f8f8ea662a4ead8379c",
            "8ff6c1f0bc994cedbc1c08774f77030b",
            "a6a1ba1739d7490896243d1717a5fb57",
            "eec33f6074c0415b83571b5c1a16c0ea",
            "b76b10ed781b4a23bd9283e090271c9c",
            "6a202bc539a2447cb2dc8a1b51824352",
            "978dba2317e9438a91e805ef9b0d127d",
            "a02c8de2219f49d7b6e6460f62997a59",
            "c4354178e3e841479ef0d1548c21a2c0",
            "f62befa45f8f4e7a8aadf96b1eed1416",
            "241d9d0a1fcc47ebb30f63bba41577a7",
            "1bfb5cd5c61a4902bde3f77164fe260f",
            "58cfbbdb4e344bc0b1d1fbc1930e1da5",
            "463d3e956dcd4f659e560094b898d3ed",
            "b5af3278834e458e8366f52f8c278cb0",
            "fce00eb235904a1a9523c2ad919d1626",
            "842b313205f4459f89bf520c56b98745",
            "72d52d47f6724192b5841ecf70d3bb89",
            "befe793834f74751b3fb77f648531e83",
            "12d88f6eebeb43f399105cd786a72c2b",
            "37f00f0274f246fcbb3b6fd5e8f45384",
            "0700a3071c28400f86acd36060e402f0",
            "3ed1e0249b8841b6ac30eeff57a4d7c3",
            "b78efd52e9e7411a9fdfe4b416fa417c",
            "639d649e1fdf43ef878277cabfeb68ab",
            "8ab516505955486da98990751e3cd0f3",
            "a436d237eab94fdaaf07a4e5d3568d4d",
            "9a9f1b6232ac4b0f9f794f6e0cacc72b",
            "95c13dc6fe9948eca43e489da1435e85",
            "558efb3aed7e4de688fa1024564742b5",
            "efed31b8acc144d9b278abb265f5a285",
            "8a63264d792a4fa1b9605cd62cdc43b6",
            "88ae8cc9e825478eb8c9934fc53652a6",
            "ccd6215fd62c4153af6632f1bdbac277",
            "9908d0d6c01443dbb266d03e08e861f3",
            "aee6de44098b462881501b9b0bce788c",
            "4b185eac5d1d47f39cb45928677a5d8a",
            "892ff56c0d0b407ea0e9259c1c907fce",
            "468f90d620464c3f946d67a2773d4f23",
            "49cce0a0219c4579902b755f007cb96e",
            "bfe42e35e3344dc3b4d3718b4c1d29a5",
            "0c942fd1557643a4bf28f1206fa00fd5",
            "26de118bd9534d7ca44be9fea359354b",
            "9445a23ce3ce467d80b8c2cabefe8fc1",
            "73a2ae1b98c042f4a97d66cba7108e62",
            "fae04fbd00b542499087443766f67ad2",
            "2bfa69ad7e8343e1b1f6425caa61be2e",
            "a714723ad1404c469b8683e3273a1415",
            "861d5078342b4be6948a1bb87c151ebb",
            "879c16d1e91240d89e6431b7203ba0a1",
            "a52eef888c8f4405951744d03d1622c2",
            "35892c81d52f46b9a4b7a33160f03c56",
            "88c63e5d2b834a119ceea63282d3c4a3",
            "3be34001677842079c761450eed3935b",
            "3955a9598f8943578ffe52f7a54b6095",
            "61009fdf8e434b54a744c768fccad1db",
            "b20cdecaea8c4846afad112080876829",
            "2109dee2bf45469da98a853ccaff64b9",
            "1126df99dde6443e885debe2f2ba831f",
            "a1374eda22c94f94804dcdcb31eb7ab4",
            "7529c384dd304b1e91440928c7ca324d",
            "848cc124561745a6b8325bcadc2070be",
            "616854baa6274f9a9c3308b6ce752b28",
            "7de7c719b994459f9f4a484a549c47c6",
            "77bce0d27eb044f3812984428eac7cef",
            "60859bf830ee4e6baaef87ef7204b634",
            "965bab5d03f44276a76c144da6ad96a1",
            "18ccd3ec63b94b7ebf376b7ee8697930",
            "26b71ea927674c14b78ad7fc10cb8497",
            "c19388bb011741808b7381eb51f04517",
            "00f544c2142a4efc85c9bf72f5c9d48b",
            "b3a6f6a7454742d0a58aedbca35c8039",
            "04df43e1b6ce4532ab2b212fb11b2f39",
            "a8fc1a98bd954a159e4fe018c8723743",
            "bea08253910c419d898f74d8eba0159d",
            "9c31c434ead742699bfcc9137616487a"
          ]
        }
      },
      "outputs": [
        {
          "output_type": "stream",
          "name": "stdout",
          "text": [
            "Requirement already satisfied: sentence-transformers in /usr/local/lib/python3.11/dist-packages (2.2.2)\n",
            "Collecting sentence-transformers\n",
            "  Using cached sentence_transformers-3.4.1-py3-none-any.whl.metadata (10 kB)\n",
            "Requirement already satisfied: transformers<5.0.0,>=4.41.0 in /usr/local/lib/python3.11/dist-packages (from sentence-transformers) (4.49.0)\n",
            "Requirement already satisfied: tqdm in /usr/local/lib/python3.11/dist-packages (from sentence-transformers) (4.67.1)\n",
            "Requirement already satisfied: torch>=1.11.0 in /usr/local/lib/python3.11/dist-packages (from sentence-transformers) (2.6.0+cu124)\n",
            "Requirement already satisfied: scikit-learn in /usr/local/lib/python3.11/dist-packages (from sentence-transformers) (1.6.1)\n",
            "Requirement already satisfied: scipy in /usr/local/lib/python3.11/dist-packages (from sentence-transformers) (1.14.1)\n",
            "Requirement already satisfied: huggingface-hub>=0.20.0 in /usr/local/lib/python3.11/dist-packages (from sentence-transformers) (0.29.3)\n",
            "Requirement already satisfied: Pillow in /usr/local/lib/python3.11/dist-packages (from sentence-transformers) (11.1.0)\n",
            "Requirement already satisfied: filelock in /usr/local/lib/python3.11/dist-packages (from huggingface-hub>=0.20.0->sentence-transformers) (3.18.0)\n",
            "Requirement already satisfied: fsspec>=2023.5.0 in /usr/local/lib/python3.11/dist-packages (from huggingface-hub>=0.20.0->sentence-transformers) (2025.3.0)\n",
            "Requirement already satisfied: packaging>=20.9 in /usr/local/lib/python3.11/dist-packages (from huggingface-hub>=0.20.0->sentence-transformers) (24.2)\n",
            "Requirement already satisfied: pyyaml>=5.1 in /usr/local/lib/python3.11/dist-packages (from huggingface-hub>=0.20.0->sentence-transformers) (6.0.2)\n",
            "Requirement already satisfied: requests in /usr/local/lib/python3.11/dist-packages (from huggingface-hub>=0.20.0->sentence-transformers) (2.32.3)\n",
            "Requirement already satisfied: typing-extensions>=3.7.4.3 in /usr/local/lib/python3.11/dist-packages (from huggingface-hub>=0.20.0->sentence-transformers) (4.12.2)\n",
            "Requirement already satisfied: networkx in /usr/local/lib/python3.11/dist-packages (from torch>=1.11.0->sentence-transformers) (3.4.2)\n",
            "Requirement already satisfied: jinja2 in /usr/local/lib/python3.11/dist-packages (from torch>=1.11.0->sentence-transformers) (3.1.6)\n",
            "Requirement already satisfied: nvidia-cuda-nvrtc-cu12==12.4.127 in /usr/local/lib/python3.11/dist-packages (from torch>=1.11.0->sentence-transformers) (12.4.127)\n",
            "Requirement already satisfied: nvidia-cuda-runtime-cu12==12.4.127 in /usr/local/lib/python3.11/dist-packages (from torch>=1.11.0->sentence-transformers) (12.4.127)\n",
            "Requirement already satisfied: nvidia-cuda-cupti-cu12==12.4.127 in /usr/local/lib/python3.11/dist-packages (from torch>=1.11.0->sentence-transformers) (12.4.127)\n",
            "Requirement already satisfied: nvidia-cudnn-cu12==9.1.0.70 in /usr/local/lib/python3.11/dist-packages (from torch>=1.11.0->sentence-transformers) (9.1.0.70)\n",
            "Requirement already satisfied: nvidia-cublas-cu12==12.4.5.8 in /usr/local/lib/python3.11/dist-packages (from torch>=1.11.0->sentence-transformers) (12.4.5.8)\n",
            "Requirement already satisfied: nvidia-cufft-cu12==11.2.1.3 in /usr/local/lib/python3.11/dist-packages (from torch>=1.11.0->sentence-transformers) (11.2.1.3)\n",
            "Requirement already satisfied: nvidia-curand-cu12==10.3.5.147 in /usr/local/lib/python3.11/dist-packages (from torch>=1.11.0->sentence-transformers) (10.3.5.147)\n",
            "Requirement already satisfied: nvidia-cusolver-cu12==11.6.1.9 in /usr/local/lib/python3.11/dist-packages (from torch>=1.11.0->sentence-transformers) (11.6.1.9)\n",
            "Requirement already satisfied: nvidia-cusparse-cu12==12.3.1.170 in /usr/local/lib/python3.11/dist-packages (from torch>=1.11.0->sentence-transformers) (12.3.1.170)\n",
            "Requirement already satisfied: nvidia-cusparselt-cu12==0.6.2 in /usr/local/lib/python3.11/dist-packages (from torch>=1.11.0->sentence-transformers) (0.6.2)\n",
            "Requirement already satisfied: nvidia-nccl-cu12==2.21.5 in /usr/local/lib/python3.11/dist-packages (from torch>=1.11.0->sentence-transformers) (2.21.5)\n",
            "Requirement already satisfied: nvidia-nvtx-cu12==12.4.127 in /usr/local/lib/python3.11/dist-packages (from torch>=1.11.0->sentence-transformers) (12.4.127)\n",
            "Requirement already satisfied: nvidia-nvjitlink-cu12==12.4.127 in /usr/local/lib/python3.11/dist-packages (from torch>=1.11.0->sentence-transformers) (12.4.127)\n",
            "Requirement already satisfied: triton==3.2.0 in /usr/local/lib/python3.11/dist-packages (from torch>=1.11.0->sentence-transformers) (3.2.0)\n",
            "Requirement already satisfied: sympy==1.13.1 in /usr/local/lib/python3.11/dist-packages (from torch>=1.11.0->sentence-transformers) (1.13.1)\n",
            "Requirement already satisfied: mpmath<1.4,>=1.1.0 in /usr/local/lib/python3.11/dist-packages (from sympy==1.13.1->torch>=1.11.0->sentence-transformers) (1.3.0)\n",
            "Requirement already satisfied: numpy>=1.17 in /usr/local/lib/python3.11/dist-packages (from transformers<5.0.0,>=4.41.0->sentence-transformers) (2.0.2)\n",
            "Requirement already satisfied: regex!=2019.12.17 in /usr/local/lib/python3.11/dist-packages (from transformers<5.0.0,>=4.41.0->sentence-transformers) (2024.11.6)\n",
            "Requirement already satisfied: tokenizers<0.22,>=0.21 in /usr/local/lib/python3.11/dist-packages (from transformers<5.0.0,>=4.41.0->sentence-transformers) (0.21.1)\n",
            "Requirement already satisfied: safetensors>=0.4.1 in /usr/local/lib/python3.11/dist-packages (from transformers<5.0.0,>=4.41.0->sentence-transformers) (0.5.3)\n",
            "Requirement already satisfied: joblib>=1.2.0 in /usr/local/lib/python3.11/dist-packages (from scikit-learn->sentence-transformers) (1.4.2)\n",
            "Requirement already satisfied: threadpoolctl>=3.1.0 in /usr/local/lib/python3.11/dist-packages (from scikit-learn->sentence-transformers) (3.6.0)\n",
            "Requirement already satisfied: MarkupSafe>=2.0 in /usr/local/lib/python3.11/dist-packages (from jinja2->torch>=1.11.0->sentence-transformers) (3.0.2)\n",
            "Requirement already satisfied: charset-normalizer<4,>=2 in /usr/local/lib/python3.11/dist-packages (from requests->huggingface-hub>=0.20.0->sentence-transformers) (3.4.1)\n",
            "Requirement already satisfied: idna<4,>=2.5 in /usr/local/lib/python3.11/dist-packages (from requests->huggingface-hub>=0.20.0->sentence-transformers) (3.10)\n",
            "Requirement already satisfied: urllib3<3,>=1.21.1 in /usr/local/lib/python3.11/dist-packages (from requests->huggingface-hub>=0.20.0->sentence-transformers) (2.3.0)\n",
            "Requirement already satisfied: certifi>=2017.4.17 in /usr/local/lib/python3.11/dist-packages (from requests->huggingface-hub>=0.20.0->sentence-transformers) (2025.1.31)\n",
            "Using cached sentence_transformers-3.4.1-py3-none-any.whl (275 kB)\n",
            "Installing collected packages: sentence-transformers\n",
            "  Attempting uninstall: sentence-transformers\n",
            "    Found existing installation: sentence-transformers 2.2.2\n",
            "    Uninstalling sentence-transformers-2.2.2:\n",
            "      Successfully uninstalled sentence-transformers-2.2.2\n",
            "Successfully installed sentence-transformers-3.4.1\n"
          ]
        },
        {
          "output_type": "display_data",
          "data": {
            "text/plain": [
              "modules.json:   0%|          | 0.00/349 [00:00<?, ?B/s]"
            ],
            "application/vnd.jupyter.widget-view+json": {
              "version_major": 2,
              "version_minor": 0,
              "model_id": "891605fd0a714709a189e16686a942b7"
            }
          },
          "metadata": {}
        },
        {
          "output_type": "display_data",
          "data": {
            "text/plain": [
              "config_sentence_transformers.json:   0%|          | 0.00/116 [00:00<?, ?B/s]"
            ],
            "application/vnd.jupyter.widget-view+json": {
              "version_major": 2,
              "version_minor": 0,
              "model_id": "fe33c4c2b3cf4345bafc28a2bf815825"
            }
          },
          "metadata": {}
        },
        {
          "output_type": "display_data",
          "data": {
            "text/plain": [
              "README.md:   0%|          | 0.00/10.5k [00:00<?, ?B/s]"
            ],
            "application/vnd.jupyter.widget-view+json": {
              "version_major": 2,
              "version_minor": 0,
              "model_id": "15ebcde5415b44f9b3e721dc8bf497ec"
            }
          },
          "metadata": {}
        },
        {
          "output_type": "display_data",
          "data": {
            "text/plain": [
              "sentence_bert_config.json:   0%|          | 0.00/53.0 [00:00<?, ?B/s]"
            ],
            "application/vnd.jupyter.widget-view+json": {
              "version_major": 2,
              "version_minor": 0,
              "model_id": "75545ae50a1041b9ac28574889c2486c"
            }
          },
          "metadata": {}
        },
        {
          "output_type": "display_data",
          "data": {
            "text/plain": [
              "config.json:   0%|          | 0.00/615 [00:00<?, ?B/s]"
            ],
            "application/vnd.jupyter.widget-view+json": {
              "version_major": 2,
              "version_minor": 0,
              "model_id": "34de9224564248dea6323b46ca4a0d03"
            }
          },
          "metadata": {}
        },
        {
          "output_type": "display_data",
          "data": {
            "text/plain": [
              "model.safetensors:   0%|          | 0.00/133M [00:00<?, ?B/s]"
            ],
            "application/vnd.jupyter.widget-view+json": {
              "version_major": 2,
              "version_minor": 0,
              "model_id": "241d9d0a1fcc47ebb30f63bba41577a7"
            }
          },
          "metadata": {}
        },
        {
          "output_type": "display_data",
          "data": {
            "text/plain": [
              "tokenizer_config.json:   0%|          | 0.00/352 [00:00<?, ?B/s]"
            ],
            "application/vnd.jupyter.widget-view+json": {
              "version_major": 2,
              "version_minor": 0,
              "model_id": "0700a3071c28400f86acd36060e402f0"
            }
          },
          "metadata": {}
        },
        {
          "output_type": "display_data",
          "data": {
            "text/plain": [
              "vocab.txt:   0%|          | 0.00/232k [00:00<?, ?B/s]"
            ],
            "application/vnd.jupyter.widget-view+json": {
              "version_major": 2,
              "version_minor": 0,
              "model_id": "88ae8cc9e825478eb8c9934fc53652a6"
            }
          },
          "metadata": {}
        },
        {
          "output_type": "display_data",
          "data": {
            "text/plain": [
              "tokenizer.json:   0%|          | 0.00/466k [00:00<?, ?B/s]"
            ],
            "application/vnd.jupyter.widget-view+json": {
              "version_major": 2,
              "version_minor": 0,
              "model_id": "9445a23ce3ce467d80b8c2cabefe8fc1"
            }
          },
          "metadata": {}
        },
        {
          "output_type": "display_data",
          "data": {
            "text/plain": [
              "special_tokens_map.json:   0%|          | 0.00/112 [00:00<?, ?B/s]"
            ],
            "application/vnd.jupyter.widget-view+json": {
              "version_major": 2,
              "version_minor": 0,
              "model_id": "3955a9598f8943578ffe52f7a54b6095"
            }
          },
          "metadata": {}
        },
        {
          "output_type": "display_data",
          "data": {
            "text/plain": [
              "config.json:   0%|          | 0.00/190 [00:00<?, ?B/s]"
            ],
            "application/vnd.jupyter.widget-view+json": {
              "version_major": 2,
              "version_minor": 0,
              "model_id": "60859bf830ee4e6baaef87ef7204b634"
            }
          },
          "metadata": {}
        }
      ],
      "source": [
        "!pip install -U sentence-transformers\n",
        "\n",
        "embeddings = HuggingFaceEmbeddings(\n",
        "    model_name=\"sentence-transformers/all-MiniLM-L12-v2\",\n",
        "    model_kwargs={'device': 'cuda'},\n",
        "    encode_kwargs={'normalize_embeddings': False}\n",
        ")"
      ]
    },
    {
      "cell_type": "markdown",
      "metadata": {
        "id": "index-documents-code"
      },
      "source": [
        "#### Store the Embeddings in the Vector Store\n",
        "\n",
        "Set up the `ElasticsearchStore` index using the `langchain-elasticsearch` integration. You'll also use the same index while querying the vector store using the RAG later.\n",
        "\n",
        "Run the following cell to start indexing the documents."
      ]
    },
    {
      "cell_type": "code",
      "execution_count": 43,
      "metadata": {
        "id": "index-documents-code-cell"
      },
      "outputs": [],
      "source": [
        "index_name = \"es-rag-pokemon\"\n",
        "\n",
        "documents = ElasticsearchStore.from_documents(\n",
        "    docs,\n",
        "    embeddings,\n",
        "    index_name=index_name,\n",
        "    es_url=es_url\n",
        ")"
      ]
    },
    {
      "cell_type": "markdown",
      "metadata": {
        "id": "creating-retriever"
      },
      "source": [
        "#### Create a Retriever\n",
        "\n",
        "Next, you'll create a retriever to fetch relevant documents based on user queries. You'll design a hybrid search query for Elasticsearch that combines both traditional keyword-based search and vector similarity search.\n",
        "\n",
        "* [**Keyword Matching using BM25**](https://www.elastic.co/blog/practical-bm25-part-2-the-bm25-algorithm-and-its-variables): Ensures that documents containing the exact or similar terms (with fuzziness) are retrieved. This is useful for precise term matching and accommodates typos.\n",
        "\n",
        "* [**Vector Similarity (KNN)**](https://en.wikipedia.org/wiki/K-nearest_neighbors_algorithm): Retrieves documents that are semantically similar to the search query, even if they don't contain the exact search terms. This captures the meaning behind the words.\n",
        "\n",
        "\n",
        "So, let's define a hybrid query function that uses both techniques.\n"
      ]
    },
    {
      "cell_type": "code",
      "execution_count": 44,
      "metadata": {
        "id": "define-hybrid-query"
      },
      "outputs": [],
      "source": [
        "def hybrid_query(search_query: str) -> Dict:\n",
        "    vector = embeddings.embed_query(search_query)\n",
        "    return {\n",
        "        # Keyword matching\n",
        "        \"query\": {\n",
        "            \"match\": {\n",
        "                \"text\": {\n",
        "                    \"query\": search_query,\n",
        "                    # Keyword matching with typo tolerance\n",
        "                    \"fuzziness\": \"AUTO\",\n",
        "                }\n",
        "            },\n",
        "        },\n",
        "        # K-Nearest Neighbors\n",
        "        \"knn\": {\n",
        "            # The default vector field name in LangChain is \"vector\"\n",
        "            \"field\": \"vector\",\n",
        "            \"query_vector\": vector,\n",
        "            \"k\": 5,\n",
        "            \"num_candidates\": 10,\n",
        "        }\n",
        "    }"
      ]
    },
    {
      "cell_type": "markdown",
      "metadata": {
        "id": "rF35C94sgeBO"
      },
      "source": [
        "Initialize the retriever."
      ]
    },
    {
      "cell_type": "code",
      "execution_count": 45,
      "metadata": {
        "id": "initialize-retriever"
      },
      "outputs": [],
      "source": [
        "retriever = ElasticsearchRetriever.from_es_params(\n",
        "    index_name=index_name,\n",
        "    body_func=hybrid_query,\n",
        "    content_field=\"text\",\n",
        "    url=es_url,\n",
        ")"
      ]
    },
    {
      "cell_type": "markdown",
      "metadata": {
        "id": "SDhcyaqEgf-k"
      },
      "source": [
        "Here, you'll test if the retriever is working as intended."
      ]
    },
    {
      "cell_type": "code",
      "execution_count": 46,
      "metadata": {
        "id": "test-retriever",
        "outputId": "1f0368fd-36fb-48fe-eec7-9c2dc7d45e44",
        "colab": {
          "base_uri": "https://localhost:8080/"
        }
      },
      "outputs": [
        {
          "output_type": "execute_result",
          "data": {
            "text/plain": [
              "[Document(metadata={'_index': 'es-rag-pokemon', '_id': '277d8ba0-2778-494d-bd20-9d06e6663809', '_score': 3.7311673, '_source': {'metadata': {'name': 'Pikachu', 'type': 'Electric'}, 'vector': [-0.08204592019319534, 0.040552400052547455, -0.017693540081381798, 0.09651298075914383, -0.05067732557654381, -0.0397016704082489, 0.007839432917535305, 0.056036271154880524, -0.013275082223117352, 0.023567529395222664, 0.03249923139810562, 0.014013098552823067, 0.054716791957616806, 0.020771976560354233, 0.03376133739948273, 0.04162945598363876, -0.0982939749956131, -0.022955622524023056, -0.04961521923542023, -0.0022519598715007305, 0.020477814599871635, -0.027227040380239487, -0.03955269604921341, 0.05996553972363472, -0.016906335949897766, -0.016677657142281532, -0.03829752653837204, -0.006165575236082077, -0.0014378922060132027, -0.018529055640101433, 0.03166741505265236, -0.009889976121485233, 0.0027327565476298332, 0.11636561155319214, -0.033894993364810944, -0.0017111323541030288, 0.0042508807964622974, 0.009003438986837864, -0.022382069379091263, 0.07923794537782669, 0.03549870476126671, 0.040162794291973114, 0.06590274721384048, -0.004114517010748386, 0.027711451053619385, 0.02593987248837948, -0.0033613143023103476, -0.07354915887117386, -0.0476517491042614, -0.048416342586278915, 0.023181216791272163, -0.012103903107345104, 0.020964914932847023, 0.020535487681627274, 0.003655320731922984, -0.12429524213075638, -0.02645672857761383, -0.0283970907330513, 0.041112229228019714, 0.039628561586141586, -0.004559304565191269, 0.04896419867873192, 0.027311427518725395, 0.0008705840446054935, 0.07229048758745193, 0.003456495236605406, -0.08831790834665298, 0.07491612434387207, 0.04098498821258545, -0.016621170565485954, 0.03349078819155693, -0.037612635642290115, -0.06718966364860535, 0.006566149182617664, 0.014487732201814651, 0.06546003371477127, -0.06740349531173706, 0.0011830494040623307, -0.10165691375732422, -0.020786810666322708, -0.03753552958369255, -0.01620224490761757, -0.11259434372186661, 0.03899214044213295, 0.07722625881433487, 0.12271483242511749, 0.06456699967384338, -0.02899974212050438, -0.07094445079565048, 0.07274880260229111, 0.04290954768657684, 0.05416920408606529, 0.006402594968676567, 0.02556684985756874, -0.02269470877945423, 0.014840121380984783, -0.004578155465424061, -0.08577128499746323, -0.010643469169735909, 0.03994675725698471, -0.009839382953941822, -0.008877203799784184, 0.045015860348939896, -0.0034928550012409687, 0.017623569816350937, -0.029315389692783356, -0.00756318774074316, -0.03549332916736603, 0.029214002192020416, -0.04309339076280594, 0.054600790143013, -0.047791242599487305, -0.017796587198972702, 0.06065385788679123, 0.028455626219511032, 0.0015012965304777026, -0.009522655047476292, 0.05946730822324753, -0.0974465161561966, 0.03659406676888466, 0.06296256929636002, 0.02929145283997059, -0.05115882307291031, -0.0245511531829834, 0.06864606589078903, -0.00019391192472539842, -0.009390756487846375, -0.010379144921898842, 0.07249178737401962, 0.004313962534070015, 0.0609523206949234, 0.063076913356781, 0.0252835713326931, -0.02658694051206112, -0.07990515232086182, 0.03815809637308121, 0.05879315361380577, 0.0065732900984585285, -0.10599453002214432, 0.0954766720533371, 0.020881330594420433, 0.062088314443826675, 0.024406244978308678, -0.07838267832994461, -0.011397277936339378, -0.09031416475772858, -0.018025387078523636, 0.03201131522655487, -0.018905680626630783, 0.00867981743067503, -0.005875058472156525, 0.015161579474806786, -0.007695088163018227, -0.0030736681073904037, 0.10258868336677551, -0.007562203798443079, 0.06699910759925842, 0.0584762766957283, 0.15020491182804108, 0.008925189264118671, 0.02941500023007393, 0.122528575360775, -0.041536685079336166, 0.0076562147587537766, -0.05251850560307503, -0.05496182292699814, -0.08388864248991013, 0.06105639040470123, -0.08818792551755905, -0.041392698884010315, -0.07110083848237991, 0.03006233274936676, 0.08946215361356735, 0.010058814659714699, -0.044462114572525024, -0.07754508405923843, -0.015095575712621212, -0.06189648061990738, -0.10872422158718109, 0.09966861456632614, 0.05482574179768562, -0.013101980090141296, 0.05436703562736511, -0.03540276736021042, 0.03918851912021637, -0.035567913204431534, 0.0554528571665287, -0.0091091338545084, 0.04592296853661537, -0.027537953108549118, 0.006930502597242594, -0.00021913574892096221, 0.005357104353606701, 0.07924450933933258, 0.021626323461532593, 0.004716459196060896, 0.01346537098288536, -0.019223688170313835, -0.01227068156003952, -0.054334938526153564, -0.10922948271036148, -0.08843708038330078, -0.041655655950307846, -0.04821210727095604, -0.03062760829925537, 0.041794102638959885, 0.016812900081276894, 0.008784412406384945, -0.023651638999581337, -0.12118668109178543, 0.05463138967752457, 0.011729059740900993, 0.020083056762814522, 0.033206284046173096, 0.009009290486574173, 0.0136240404099226, -0.15044671297073364, 0.024120397865772247, 0.04108573868870735, 0.08953378349542618, 0.08015605807304382, -0.0714380145072937, -0.038505565375089645, 1.3173270012670092e-32, 0.020113609731197357, -0.050617750734090805, -0.055310215801000595, -0.004459460731595755, 0.03472229838371277, 0.015269809402525425, -0.07235007733106613, 0.007384121417999268, -0.03254343569278717, 0.04464999958872795, -0.12309039384126663, 0.007731279358267784, -0.013848861679434776, 0.04283936694264412, 0.06004674360156059, -0.027784645557403564, 0.055378399789333344, 0.02136429026722908, 0.05407707393169403, 0.041156597435474396, -0.06622451543807983, -0.007251150440424681, 0.037383101880550385, 0.027570560574531555, -0.06971302628517151, 0.06136569753289223, 0.01978585124015808, -0.11250239610671997, -0.04071919620037079, 0.00920185074210167, -0.07400231808423996, -0.048462819308042526, -0.03168978542089462, 0.03256934881210327, -0.03548584133386612, 0.016535280272364616, 0.016002172604203224, -0.07227426022291183, -0.026780685409903526, -0.058963388204574585, 0.02681342326104641, -0.021473102271556854, 0.04391048848628998, 0.07400118559598923, -0.02787400409579277, -0.006745325401425362, 0.037747979164123535, 0.038294240832328796, -0.06755135953426361, 0.01804909110069275, 0.048956818878650665, -0.022696293890476227, -0.05265795812010765, -0.059407465159893036, -0.026826510205864906, -0.1301766186952591, 0.03169058635830879, -0.10604778677225113, -0.01840115711092949, 0.05483413115143776, -0.0039709461852908134, -0.051165156066417694, 0.09840323776006699, -0.06589071452617645, 0.0008262709598056972, 0.012078074738383293, -0.029890798032283783, 0.010112657211720943, 0.05751842260360718, 0.009176802821457386, 0.0707814171910286, -0.018121393397450447, 0.025066740810871124, -0.021826747804880142, -0.02591989003121853, -0.05792452394962311, -0.10280676186084747, 0.09589388966560364, 0.048254888504743576, 0.008974655531346798, -0.04584226384758949, 0.011455519124865532, -0.016466666013002396, -0.034863606095314026, -0.01929921656847, -0.054922450333833694, -0.002848681528121233, -0.009695091284811497, 0.09668812155723572, -0.02466854453086853, 0.019040605053305626, 0.007594098336994648, 0.028027284890413284, -0.00835211481899023, 0.030070455744862556, 4.088477203766604e-32, 0.011026948690414429, 0.06976502388715744, -0.04608796536922455, 0.038022033870220184, 0.03154800832271576, -0.00045597119606100023, 0.015248144045472145, 0.1365245133638382, 0.06315691769123077, -0.020459391176700592, 0.06701256334781647, -0.013170035555958748, 0.09197276085615158, 0.0569194070994854, 0.011625519022345543, 0.07539438456296921, -0.04572896286845207, -0.025978006422519684, 0.01567372865974903, 0.03006729669868946, -0.023981690406799316, 0.003717986634001136, -0.07590997219085693, 0.03244110569357872, -0.012291470542550087, 0.04755678027868271, -0.036781348288059235, -0.04660210758447647, 0.016926512122154236, -0.00947430171072483, 0.09481994062662125, -0.08085662126541138, -0.05529706925153732, 0.025174278765916824, -0.0731106549501419, 0.020284797996282578, 0.010880288667976856, -0.0468178354203701, -0.008815846405923367, -0.0504087433218956, -0.0008552552317269146, -0.035066694021224976, 0.018617719411849976, 0.013630662113428116, -0.07665509730577469, -0.010605351999402046, -0.022294936701655388, -0.07126875966787338, -0.09141112864017487, 0.006868713069707155, -0.034961920231580734, -0.01929081231355667, 0.018936773762106895, -0.10573287308216095, -0.013732978142797947, 0.04260988533496857, 0.08719304203987122, -0.013973463326692581, 0.0046951607801020145, 0.023601006716489792, -0.00963591318577528, 0.07712384313344955, -0.007730054669082165, 0.12454807013273239]}}, page_content='When several Pikachu gather, their electricity could build and cause lightning storms.'),\n",
              " Document(metadata={'_index': 'es-rag-pokemon', '_id': 'd3d53005-fddb-455a-bca8-f3c6dc51e796', '_score': 0.66927814, '_source': {'metadata': {'name': 'Magikarp', 'type': 'Water'}, 'vector': [0.01308690570294857, 0.007860949262976646, -0.004501074552536011, 0.018112223595380783, -0.021210789680480957, -0.03808398172259331, 0.0005765908281318843, -0.015156934969127178, -0.10029208660125732, -0.02430667355656624, 0.029399655759334564, -0.05131371691823006, 0.03494066372513771, -0.00924741756170988, 0.015388033352792263, 0.008901337161660194, 0.00900179985910654, -0.002803248818963766, 0.018408192321658134, -0.03427940607070923, 0.06156470626592636, 0.03337988257408142, 0.012087386101484299, 0.007050496991723776, -0.01999395154416561, 0.022997194901108742, -0.02565123327076435, -0.12096252292394638, -0.01764046400785446, -0.03084658272564411, 0.04186735302209854, 0.08083594590425491, 0.05685870349407196, 0.0067895459942519665, -0.0067229848355054855, 0.005671209190040827, -0.062357231974601746, -0.019731992855668068, -0.05424344912171364, 0.07627344876527786, -0.06347546726465225, 0.013904018327593803, 0.06539912521839142, -0.03482826426625252, 0.06739585101604462, -0.09817854315042496, 0.06893269717693329, 0.011648868210613728, -0.008864345960319042, -0.016866758465766907, -0.06527438014745712, -0.0832751989364624, 0.05620258301496506, -0.059348128736019135, -0.022900203242897987, -0.00525875948369503, -0.023464571684598923, -0.03363744542002678, -0.05329402536153793, -0.015808220952749252, 0.007370355073362589, 0.061075106263160706, -0.022809889167547226, -0.012401292100548744, -0.02949485182762146, 0.01103414036333561, -0.09619754552841187, -0.05306648463010788, 0.09456165134906769, -0.007204975001513958, 0.031497713178396225, -0.027568038552999496, -0.0927710309624672, 0.05669878423213959, -0.08244341611862183, 0.040606677532196045, -0.005171461962163448, 0.027280697599053383, -0.027028748765587807, 0.07679997384548187, 0.013889769092202187, -0.09565138816833496, 0.005662430543452501, 0.017836179584264755, 0.06592563539743423, 0.05778961628675461, 0.05404212698340416, -0.026667047291994095, -0.028511909767985344, 0.027262719348073006, 0.019939832389354706, 0.07837911695241928, -0.02339549921452999, 0.08103810250759125, -0.02161511965095997, 0.06501204520463943, -0.004868389572948217, -0.04430640861392021, -0.03556060791015625, -0.02364736795425415, 0.08000778406858444, -0.013710069470107555, -0.03789900615811348, 0.03706475719809532, -0.0015613448340445757, -0.06340627372264862, -0.02518428862094879, -0.05203964188694954, -0.05525892600417137, -0.04011070355772972, 0.054587267339229584, -0.00633004168048501, -0.010540959425270557, 0.13454093039035797, 0.016827592626214027, 0.015912126749753952, -0.08034460991621017, 0.025079792365431786, -0.07306474447250366, -0.024586042389273643, 0.008002263493835926, 0.03421333059668541, -0.026975860819220543, 0.0034342485014349222, 0.06617797166109085, -0.016850341111421585, -0.09102872014045715, 0.019773397594690323, 0.034456245601177216, 0.048368267714977264, -0.01878204755485058, -0.024195309728384018, -0.05605049431324005, -0.00036759127397090197, 0.012834629975259304, 0.03238046169281006, 0.050412438809871674, -0.02944711036980152, -0.012698720209300518, 0.02814115211367607, -0.12202320247888565, 0.03959299623966217, 0.022083424031734467, -0.022259216755628586, 0.022956812754273415, 0.03356889262795448, 0.0680677741765976, -0.028557365760207176, 0.08478812128305435, 0.0954291895031929, -0.04924161732196808, -0.01728980429470539, 0.061647944152355194, 0.14286859333515167, -0.00789794884622097, -0.075653575360775, -0.008723966777324677, 0.13425074517726898, 0.048433076590299606, -0.023142250254750252, -0.0775260254740715, -0.007896852679550648, -0.014711940661072731, -0.02815317176282406, 0.016810592263936996, -0.08386854827404022, -0.10212275385856628, -0.0006030519143678248, -0.017113476991653442, -0.05647503584623337, -0.11089354008436203, 0.08240867406129837, -0.016307031735777855, -0.018701886758208275, -0.07344761490821838, -0.1309797763824463, -0.02174377627670765, -0.01552463136613369, -0.04817597195506096, 0.03422534465789795, 0.07594071328639984, 0.058233510702848434, 0.05026405677199364, 0.049439385533332825, -0.014131397008895874, 0.029029332101345062, 0.017587658017873764, 0.0366588830947876, 0.028512708842754364, -0.04639831930398941, -0.029020003974437714, -0.012050041928887367, 0.05239797756075859, -0.009152327664196491, -0.01711130514740944, -0.04260352626442909, 0.056121695786714554, 0.05274016410112381, 0.09925132244825363, -0.06668494641780853, -0.08343756198883057, -0.0063649071380496025, 0.003364493837580085, -0.049509502947330475, 0.042921971529722214, -0.0030732364393770695, 0.09103652834892273, -0.05621374770998955, -0.01058612484484911, 0.03176770359277725, 0.06536872684955597, -0.08223249763250351, -0.12028433382511139, 0.07134682685136795, 0.06087825819849968, 0.10784558951854706, -0.032060109078884125, -0.03005368262529373, 0.06634276360273361, -0.018432391807436943, 0.013850625604391098, 0.017236102372407913, -0.05209344998002052, 1.1056808597061887e-32, -0.04237471893429756, -0.08731584250926971, -0.024875110015273094, 0.044452209025621414, -0.024573637172579765, 0.09354318678379059, -0.03609342873096466, -0.023368604481220245, 0.005832845810800791, 0.04925108700990677, -0.136105477809906, -0.08641558140516281, -0.010374195873737335, -0.01629110984504223, -0.012824930250644684, -0.08394104242324829, 0.004291383549571037, -0.04091896116733551, 0.051237840205430984, 0.11938699334859848, -0.07563219964504242, 0.00367148220539093, -0.0003085385251324624, 0.0710558369755745, -0.11224183440208435, 0.027086980640888214, 0.07873453944921494, -0.12222833186388016, -0.06571989506483078, -0.027102528139948845, -0.023246532306075096, -0.0032475388143211603, -0.0037659674417227507, -0.126571923494339, -0.007811721879988909, 0.05731862038373947, -0.044328730553388596, -0.021686244755983353, 0.021007701754570007, -0.02919892407953739, -0.015351636335253716, -0.07440559566020966, 0.005620117299258709, 0.05955882743000984, 0.05927566811442375, -0.002381701720878482, 0.05241937190294266, -0.01787041872739792, 0.00827393401414156, 0.07579246163368225, 0.015095443464815617, -0.010451170615851879, 0.03517647087574005, 0.017509639263153076, 0.04766707494854927, -0.05192141234874725, -0.01759323477745056, -0.011030687019228935, 0.01183866523206234, 0.005545693915337324, -0.03241756558418274, -0.01636776328086853, -0.03545001149177551, -0.0006630124989897013, -0.0008707039523869753, 0.0830049067735672, 0.056401029229164124, 0.013922532089054585, 0.009087612852454185, 0.059389498084783554, 0.03818851709365845, 0.0247377697378397, 0.07227757573127747, 0.027507545426487923, -0.0023307346273213625, 0.061516497284173965, -0.01649116352200508, -0.024133557453751564, 0.014612174592912197, 0.02745581977069378, 0.06332023441791534, 0.027811622247099876, -0.018702207133173943, -0.020794449374079704, 0.016867006197571754, -0.07302208244800568, -0.08158276975154877, -0.033229708671569824, -0.012894990853965282, -0.023780710995197296, 0.04929676279425621, -0.05997106805443764, 0.0042560589499771595, 0.03218790143728256, 0.09376359730958939, 5.753822091095617e-32, 0.1056969165802002, 0.011482849717140198, 0.03528711572289467, 0.049992796033620834, -0.02372906170785427, 0.03714903071522713, 0.01789679378271103, 0.0872197225689888, 0.1095220074057579, -0.051959820091724396, -0.035013604909181595, -0.000868248927872628, 0.041755311191082, 0.05020112916827202, 0.008700968697667122, 0.04829123616218567, 0.041843440383672714, -0.0003114035353064537, -0.023750487715005875, 0.02742549404501915, -0.03906181827187538, -0.04448698088526726, 0.0067476858384907246, -0.024242255836725235, -0.020028183236718178, -0.043553244322538376, 0.02794037200510502, -0.011384902521967888, 0.023946302011609077, -0.08753469586372375, -0.036007363349199295, -0.02003108337521553, 0.002166551537811756, -0.028652386739850044, 0.03308919072151184, 0.014323926530778408, 0.04702266678214073, -0.04777020588517189, -0.008773540146648884, -0.02595670334994793, -0.02919497899711132, -0.08870169520378113, -0.007967815734446049, -0.036616165190935135, -0.10938240587711334, 0.06999009102582932, -0.013681063428521156, -0.04564685747027397, -0.02319534868001938, -0.04883468151092529, -0.021992577239871025, 0.04891299456357956, 0.01529571134597063, -0.03705959767103195, 0.042102012783288956, 0.07670995593070984, -0.002065889071673155, -0.030933260917663574, -0.011568058282136917, 0.03887053579092026, 0.11789005994796753, 0.03483971208333969, 0.08728975802659988, 0.09188470989465714]}}, page_content='Magikarp is a pathetic excuse for a Pokémon that is only capable of flopping and splashing. This behavior prompted scientists to undertake research into Magikarp.'),\n",
              " Document(metadata={'_index': 'es-rag-pokemon', '_id': 'daa2f93d-b9c1-4fe5-b711-a309b8daf16e', '_score': 0.6297102, '_source': {'metadata': {'name': 'Squirtle', 'type': 'Water'}, 'vector': [0.0602307952940464, -0.011670404113829136, -0.007054172921925783, 0.015136726200580597, -0.11276693642139435, -0.03149959817528725, 0.08776451647281647, 0.09880851954221725, -0.07963110506534576, -0.030867816880345345, 0.0025323275476694107, -0.010893899016082287, 0.030862852931022644, 0.024131659418344498, -0.005635073408484459, -0.014271055348217487, -0.05883339047431946, 0.10425769537687302, -0.07868024706840515, 0.039936747401952744, 0.05364801734685898, 0.030563583597540855, 0.07601337134838104, -0.026819616556167603, -0.040982965379953384, 0.06520947813987732, -0.06320877373218536, -0.003540651174262166, 0.06348587572574615, -0.04132978618144989, 0.003613368608057499, -0.017241360619664192, 0.004473257809877396, 0.020885108038783073, 0.0195004865527153, 0.019604969769716263, 0.08371016383171082, 0.0012530467938631773, -0.03178761526942253, 0.018638547509908676, 0.07972919940948486, 0.02002403512597084, -0.005936007015407085, -0.005967703647911549, 0.09885100275278091, 0.025641463696956635, 0.058280739933252335, -0.10350821912288666, 0.04870077967643738, 0.006244825664907694, 0.01318869274109602, -0.05888985097408295, -0.017847616225481033, 0.012747948057949543, -0.09863965213298798, 0.04909610003232956, 0.05789812654256821, -0.007310394663363695, 0.04199754819273949, 0.02372334524989128, -0.037892088294029236, 0.004789309110492468, 0.03544432297348976, 0.053371284157037735, -0.006169954780489206, -0.007698161527514458, -0.0495012104511261, 0.03609175235033035, -0.03232495114207268, 0.045081280171871185, 0.045738402754068375, 0.03836318477988243, -0.008795367553830147, 0.013074580579996109, 0.016858484596014023, -0.020584890618920326, -0.06250070035457611, 0.013859103433787823, 0.01648777723312378, 0.06334678083658218, -0.02730267494916916, -0.008880212903022766, 0.049639858305454254, -0.0536535382270813, -0.04661419615149498, 0.0029725865460932255, 0.006432327441871166, -0.04338764771819115, -0.1115134209394455, 0.013050801120698452, -0.005364913027733564, -0.04162662848830223, -0.019309058785438538, -0.027794796973466873, 0.08139604330062866, 0.07752403616905212, -0.004925969056785107, -0.03364979848265648, -0.03970222547650337, 0.010088152252137661, -0.04167455807328224, -0.022251874208450317, 0.015425518155097961, 0.05399974063038826, 0.07441648095846176, 0.00423786835744977, -0.00645090127363801, -0.04414701834321022, 0.04956740885972977, 0.047260139137506485, -0.021062765270471573, 0.003258510958403349, 0.04762406647205353, 0.08942059427499771, -0.020975261926651, -0.05533162131905556, -0.09701454639434814, -0.0025693662464618683, -0.05928317457437515, -0.017750253900885582, -0.010485910810530186, 0.014615826308727264, 0.019708875566720963, -0.025644145905971527, -0.0030569154769182205, -0.07305563986301422, 0.025454118847846985, 0.04710805043578148, -0.016288241371512413, -0.01590883359313011, 0.06200483441352844, 0.0659288689494133, -0.07807715982198715, 0.02942819334566593, -0.040040966123342514, -0.013814171776175499, 0.06036758795380592, -0.001346489298157394, -0.06486336141824722, 0.05496782436966896, -0.10400720685720444, -0.0023126178421080112, -0.0007620304240845144, -0.048086412250995636, -0.037917520850896835, -0.0011062276316806674, 0.041375771164894104, -0.020455949008464813, -0.013856286182999611, 0.0979510173201561, -0.04013694450259209, -0.009537122212350368, -0.02237122505903244, -0.05933768302202225, -0.012972797267138958, 0.008489768020808697, -0.05098852515220642, 0.0744933933019638, 0.045862533152103424, -0.02018522284924984, 0.054878681898117065, -0.025474829599261284, -0.07573165744543076, -0.01448086742311716, 0.03381023928523064, 0.009832893498241901, -0.05132278800010681, -0.008056134916841984, 0.06370598077774048, 0.041605256497859955, 0.009465815499424934, 0.06577228754758835, 0.0033278579358011484, -0.07849347591400146, -0.06789848208427429, -0.02899889647960663, -0.014830567874014378, -0.010376611724495888, 0.13203231990337372, -0.05977310985326767, 0.07558373361825943, 0.03368046134710312, 0.02826744131743908, 0.020060628652572632, 0.02497677691280842, -0.06402179598808289, 0.0034882936161011457, 0.04129911959171295, 0.11981670558452606, -0.029428333044052124, -0.02308099903166294, -0.03861565142869949, -0.02723325416445732, -0.07235369086265564, -0.0026496672071516514, -0.011801802553236485, 0.0042187729850411415, -0.0014942287234589458, -0.006101589184254408, 0.01666874997317791, -0.09140869975090027, -0.05515099689364433, 0.04114864766597748, 0.022871190682053566, 0.011230413801968098, 0.031047111377120018, 0.032099127769470215, -0.020679306238889694, 0.11786317080259323, -0.035968147218227386, 0.037337567657232285, -0.043618567287921906, -0.014957509934902191, 0.05432629957795143, -0.09749915450811386, 0.038104504346847534, -0.0824986919760704, 0.009757488034665585, 0.03559976816177368, -0.13131725788116455, -0.02007613331079483, -0.02440592832863331, 0.001963183516636491, 1.61221577528131e-32, 0.006071621086448431, -0.1310623437166214, -0.01721390150487423, 0.14199768006801605, -0.0389079712331295, 0.06732061505317688, 0.0237143412232399, 0.15340548753738403, -0.057635895907878876, 0.013813233934342861, -0.05632399395108223, 0.03905027359724045, 0.048138756304979324, 0.03375466540455818, 0.006233378313481808, 0.08643236756324768, 0.02757967635989189, 0.02822604961693287, -0.003357456298545003, -0.012226205319166183, -0.04790186882019043, -0.003330084728077054, 0.006151813548058271, -0.0005568970227614045, -0.057384733110666275, 0.022456085309386253, -0.018760770559310913, -0.03904695063829422, 0.10863946378231049, 0.04423324763774872, 0.021502532064914703, -0.04752914980053902, -0.08360876888036728, 0.04296910762786865, -0.06432875245809555, 0.1079159528017044, -0.047696445137262344, -0.032467320561409, 0.01130596175789833, -0.1447056531906128, -0.041666995733976364, -0.08607594668865204, -0.052306633442640305, -0.015817634761333466, -0.02123553864657879, 0.04504500702023506, 0.00705993827432394, 0.043680258095264435, 0.019377360120415688, 0.0374208427965641, 0.033733874559402466, 0.007914237678050995, 0.012979257851839066, -0.03712228313088417, -0.016151653602719307, 0.01788678579032421, 0.03425600007176399, -0.04101277515292168, -0.03492900729179382, -0.03545273467898369, -0.002645108848810196, 0.04294683784246445, -0.03347148001194, -0.0005476693622767925, -0.06534206867218018, -0.0293415654450655, -0.054412003606557846, -0.00210490426979959, 0.008349144831299782, 0.004721975885331631, -0.015192218124866486, -0.036500345915555954, -3.610123894759454e-05, -0.010044516995549202, -0.012490957975387573, -0.003064353484660387, 0.005855062510818243, -0.06364207714796066, 0.010097523219883442, 0.13161727786064148, -0.097956582903862, 0.06632042676210403, -0.0460173673927784, 0.006216620560735464, -0.043864358216524124, -0.06244455277919769, 0.04612160474061966, 0.047451600432395935, -0.0541449710726738, -0.08155753463506699, -0.061342209577560425, -0.027687765657901764, -0.00039469750481657684, 0.015601636841893196, 0.04166463017463684, 5.684425018853297e-32, 0.009600775316357613, 0.023052610456943512, 0.0595952607691288, 0.03131489455699921, 0.059698935598134995, 0.035223741084337234, 0.03702719882130623, 0.054424550384283066, 0.09506687521934509, -0.09832383692264557, -0.05445984750986099, 0.02915886603295803, -0.02342751808464527, 0.01402929238975048, 0.0432361476123333, 0.09523601830005646, 0.059633854776620865, -0.0014278530143201351, 0.0019440678879618645, -0.07811075448989868, 0.018789034336805344, 0.0019446618389338255, 0.0677226260304451, 0.02600296586751938, 0.016076480969786644, -0.07349257916212082, -0.05885150656104088, -0.054555200040340424, -0.03751232847571373, -0.018892802298069, 0.02148154191672802, -0.002634151838719845, -0.06377430260181427, -0.12954676151275635, -0.021723436191678047, 0.0056718192063272, -0.03797541931271553, 0.017502836883068085, -0.028393730521202087, 0.05612589046359062, 0.03680644556879997, -0.033432088792324066, 0.03922177478671074, -0.003513336181640625, -0.11402155458927155, 0.004339948762208223, 0.038991402834653854, -0.04196695238351822, -0.04772206395864487, 0.0243807565420866, 0.03941704332828522, -0.07381857186555862, -0.026288751512765884, 0.03485211730003357, -0.01758045330643654, 0.038306090980768204, 0.007579313591122627, -0.04452281817793846, 0.0838271826505661, 0.038884010165929794, -0.15447211265563965, 0.058754634112119675, 0.15273192524909973, 0.11179929226636887]}}, page_content=\"After birth, Squirtle's back swells and hardens into a shell. Squirtle powerfully sprays foam from its mouth.\"),\n",
              " Document(metadata={'_index': 'es-rag-pokemon', '_id': '91472869-e4a1-4712-83db-a1392356b2bd', '_score': 0.6226995, '_source': {'metadata': {'name': 'Bulbasaur', 'type': 'Grass/Poison'}, 'vector': [-0.043586503714323044, 0.014636065810918808, -0.047455981373786926, 0.016511913388967514, -0.012825715355575085, 0.02118452452123165, -0.00442430330440402, -0.002051140181720257, -0.03798097372055054, 0.022540487349033356, 0.09714590013027191, -0.025369951501488686, -0.10426604002714157, 0.0001311397791141644, 0.05679773911833763, 0.01744304969906807, -0.06856436282396317, 0.0002772386360447854, -0.015151940286159515, 0.008380072191357613, 0.06566386669874191, 0.0133114755153656, 0.12161983549594879, -0.018861334770917892, 0.06509637087583542, 0.03216256946325302, -0.04961840808391571, -0.003057627473026514, 0.05114605650305748, -0.017159396782517433, 0.09993413835763931, 0.03493262082338333, 0.06382687389850616, -0.044365398585796356, -0.015756849199533463, 0.00792056042701006, 0.030263207852840424, 0.15176479518413544, 0.030323296785354614, 0.06670993566513062, -0.04314500465989113, -0.02067040652036667, 0.012526329606771469, -0.048145271837711334, 0.07395262271165848, -0.04471879452466965, -0.02327873557806015, -0.015233089216053486, 0.028137769550085068, 0.043375492095947266, -0.006532883737236261, -0.10062366724014282, -0.042542748153209686, -0.034524887800216675, -0.03573530539870262, 0.0499628409743309, 0.03092421032488346, 0.024421757087111473, 0.06487327069044113, 0.0244483333081007, 0.06306035816669464, -0.06205674260854721, 0.0018317262874916196, -0.029486576095223427, -0.0718008503317833, 0.02656438760459423, -0.09173138439655304, -0.030321411788463593, 0.0449393130838871, -0.060587164014577866, 0.05700429528951645, -0.04068996384739876, -0.021800732240080833, 0.09176870435476303, -0.04547453299164772, -0.029874274507164955, -0.026080630719661713, 0.02597815915942192, -0.015968123450875282, 0.008775049820542336, -0.04790268465876579, 0.02135174162685871, -0.019315309822559357, 0.051654111593961716, 0.01722108945250511, -0.0038822556380182505, 0.08324979245662689, -0.01349367294460535, 0.004782086703926325, -0.09224589914083481, -0.0608268640935421, -0.06575717777013779, 0.0009113322594203055, 0.01849001832306385, -0.0036052893847227097, 0.10474604368209839, 0.022865643724799156, -0.07012049108743668, -0.07130371779203415, 0.04359796643257141, -0.018015369772911072, -0.002057097852230072, 0.0035979016683995724, 0.06011281535029411, -0.01213155034929514, 0.04456997662782669, -0.08478774130344391, -0.010554584674537182, 0.050347279757261276, -0.013187405653297901, -0.019152425229549408, 0.09736897796392441, -0.05197908729314804, 0.07645558565855026, 0.022339481860399246, -0.0663488358259201, -0.08100012689828873, -0.035692449659109116, -0.0009458273416385055, 0.05909523367881775, -0.026452403515577316, -0.0005538349505513906, 0.096001535654068, -0.0027930685319006443, -0.0922190397977829, -0.061545636504888535, -0.014394969679415226, -0.002824565628543496, 0.0718470886349678, 0.01895892061293125, -0.0471646711230278, -0.012703710235655308, 0.004619728773832321, -0.007910342887043953, -0.03455531597137451, -0.01791425049304962, 0.02937435358762741, -0.02349090203642845, -0.04866247624158859, -0.010617676191031933, -0.03752541169524193, -0.007387780584394932, -0.03133343532681465, -0.010528095066547394, -0.07586675137281418, -0.03895878046751022, -0.030641358345746994, 0.022999126464128494, -0.017092857509851456, 0.12222892791032791, -0.07981530576944351, -0.05362690985202789, -0.008321062661707401, 0.04000280424952507, 0.05679041147232056, -0.016276933252811432, -0.041729606688022614, 0.014301088638603687, 0.13093781471252441, 0.045046739280223846, 0.042304668575525284, 0.04194309189915657, 0.03163689374923706, -0.02764837071299553, -0.049344684928655624, -0.05689285323023796, 0.01773996278643608, 0.014397816732525826, -0.09417751431465149, 0.014767087064683437, 0.08353240042924881, 0.017492644488811493, -0.02585911564528942, -0.03246530890464783, -0.08959713578224182, -0.03441267088055611, 0.014366423711180687, -0.024164430797100067, -0.030357111245393753, -0.008435682393610477, 0.1160210371017456, 0.03435986489057541, 0.08298676460981369, 0.0829819068312645, 0.025783980265259743, 0.0692758709192276, 0.011009395122528076, -0.05021635442972183, 0.0849418044090271, -0.029621848836541176, -0.002433854155242443, -0.08407142013311386, -0.002553266007453203, -0.01358655747026205, -0.049861934036016464, 0.026009105145931244, -0.003776832018047571, -0.04374915733933449, 0.0356890894472599, -0.020498020574450493, -0.15651129186153412, -0.016368569806218147, 0.04726656153798103, -0.01737472042441368, 0.044775281101465225, 0.06678679585456848, -0.030425947159528732, -0.07289155572652817, -0.02094367705285549, -0.06069742888212204, -0.053614478558301926, -0.025359923020005226, -0.07263293117284775, 0.18998461961746216, -0.13548961281776428, 0.013786261901259422, -0.05376282334327698, -0.043056193739175797, 0.08722468465566635, 0.030523085966706276, 0.07084492594003677, -0.03323955833911896, 0.0030412471387535334, 6.679610732013335e-33, -0.0039585065096616745, -0.08165637403726578, -0.04812982678413391, 0.02056240104138851, 0.028836689889431, 0.035726044327020645, 0.017080752179026604, 0.030529025942087173, -0.10885553061962128, 0.03935578092932701, -0.025034893304109573, 0.04457973316311836, 0.12452484667301178, -0.07164857536554337, -0.0028724863659590483, 0.04554395005106926, 0.07162376493215561, 0.03918222710490227, 0.006009730976074934, 0.07312493026256561, -0.014419506303966045, 0.029570190235972404, -0.050559524446725845, -0.0930018275976181, -0.0984567329287529, 0.024761496111750603, 0.07332170754671097, -0.041856586933135986, -0.09469602257013321, 0.011574309319257736, 0.02258612960577011, -0.03784329444169998, -0.04017137363553047, 0.020236199721693993, -0.03750915452837944, 0.018270455300807953, -0.08827006816864014, -0.11869143694639206, 0.006088612601161003, -0.07324092090129852, 0.0021059210412204266, -0.01842566579580307, -0.009573559276759624, 0.022894248366355896, -0.029752390459179878, -0.021429438143968582, 0.0612458698451519, 0.10193752497434616, 0.014546568505465984, 0.029572471976280212, 0.045297808945178986, 0.030052905902266502, 0.05530627816915512, 0.006720324978232384, 0.03567463532090187, 0.004189103376120329, 0.04012885317206383, -0.045583754777908325, 0.031152429059147835, -0.034420985728502274, 0.00978376530110836, -0.01231618132442236, 0.04329443350434303, 0.011667807586491108, 0.004722534213215113, 0.014709867537021637, -0.06523699313402176, 0.04472506791353226, 0.014612514525651932, 0.029500378295779228, 0.03187068924307823, -0.08499941974878311, 0.022091364488005638, 0.012609269469976425, -0.009468082338571548, 0.0615793876349926, 0.025215692818164825, -0.0470392182469368, 0.004537069238722324, 0.014994666911661625, -0.04822619631886482, 0.005084478762000799, 0.014732841402292252, -0.005582866724580526, 0.03450107201933861, -0.10207923501729965, -0.0691145732998848, -0.020289424806833267, 0.003307480365037918, 0.038253139704465866, -0.03795374929904938, 0.06366918236017227, -0.055338867008686066, -0.03830373287200928, 0.02429521270096302, 6.129847452497106e-32, -0.0028078516479581594, -0.03507689759135246, 0.021482475101947784, -0.014046604745090008, 0.05175154656171799, -0.011956481263041496, 0.0390779934823513, 0.006714526563882828, 0.018559865653514862, -0.05994528904557228, -0.0471595823764801, 0.05567026883363724, 0.020087579265236855, 0.003587807063013315, 0.06777920573949814, 0.004159384407103062, 0.08434396982192993, 0.027949774637818336, -0.01905473694205284, 0.001301296753808856, 0.02513168193399906, -0.010842361487448215, 0.09552902728319168, 0.015891730785369873, -0.033332839608192444, 0.042423151433467865, 0.020418958738446236, 0.029752936214208603, 0.004012241959571838, -0.06998386234045029, 0.07886423170566559, -0.009376948699355125, -0.018607743084430695, -0.029913296923041344, -0.0696091502904892, 0.08823461830615997, 0.008593388833105564, 0.005467343609780073, -0.06482315808534622, -0.08796054869890213, 0.04600170999765396, -0.03277768939733505, 0.008511763997375965, -0.05860495567321777, -0.10271168500185013, -0.024052543565630913, -0.007334649097174406, -0.04282199591398239, -0.0513615682721138, -0.03755025193095207, -0.03374144807457924, -0.035791050642728806, 0.04553092271089554, -0.02601897343993187, -0.07180391252040863, -0.0027726744301617146, 0.03233828768134117, -0.07329456508159637, 0.02066117152571678, -0.006179195828735828, -0.009677325375378132, 0.04880545660853386, 0.11757335811853409, 0.09939175099134445]}}, page_content='Bulbasaur has a strange seed planted on its back at birth. The plant sprouts and grows with Bulbasaur.'),\n",
              " Document(metadata={'_index': 'es-rag-pokemon', '_id': '62053508-0a28-4963-8a1c-c0cf1ee5ca16', '_score': 0.6153054, '_source': {'metadata': {'name': 'Charizard', 'type': 'Fire/Flying'}, 'vector': [-0.031221581622958183, 0.049962643533945084, -0.026034416630864143, -0.06319478154182434, 0.0042115445248782635, -0.03734535351395607, 0.08922265470027924, 0.018012437969446182, -0.05347263067960739, -0.04666756093502045, -0.03390045464038849, -0.1030741035938263, -0.050850968807935715, -0.05296778306365013, 0.027323082089424133, 0.028134094551205635, -0.01163019984960556, 0.06279748678207397, -0.04193554446101189, 0.005989542696624994, 0.06417327374219894, 0.011139016598463058, 0.05371231213212013, -0.01161065325140953, -0.028427276760339737, -0.10708204656839371, -0.10658495873212814, 0.06951723992824554, 0.027798384428024292, 0.013867673464119434, -0.01692727953195572, 0.025787215679883957, 0.024095220491290092, 0.03412173315882683, -0.005526694469153881, 0.07657786458730698, -0.018275480717420578, 0.014978576451539993, 0.05096255987882614, 0.05982509255409241, 0.01019779872149229, -0.012360607273876667, 0.027309302240610123, 0.04841306805610657, 0.018107494339346886, -0.01273538637906313, -0.023042412474751472, -0.04638608917593956, 0.05866153910756111, -0.03379681333899498, -0.06529812514781952, -0.04072417691349983, -0.03439861536026001, -0.018303601071238518, -0.03237360343337059, -0.020954782143235207, -0.07867017388343811, -0.0003464682959020138, 0.013611368834972382, -0.06475009024143219, 0.02222265675663948, 0.01658119447529316, 0.002893739379942417, 0.001487231464125216, -0.010868282057344913, -0.060241762548685074, -0.01614374853670597, 0.023877739906311035, 0.12237665802240372, -0.0424976572394371, 0.08253031969070435, -0.009097469039261341, -0.0358920618891716, -0.01911015436053276, -0.06344234198331833, -0.035731229931116104, 0.021944018080830574, -0.05409754067659378, 0.06944404542446136, 0.03444141149520874, 0.06578658521175385, -0.07155884057283401, -0.03402011841535568, 0.06433919817209244, 0.0757666602730751, 0.029987983405590057, -0.00626062648370862, 0.00861851591616869, -0.03740449622273445, 0.01774604432284832, -0.003626810619607568, 0.03106178715825081, 0.01901904307305813, 0.018621955066919327, -0.0614587739109993, 0.039976153522729874, 0.09557880461215973, -0.0616418793797493, 0.01916470006108284, 0.011658875271677971, 0.02466503530740738, -0.049444641917943954, -0.016552956774830818, 0.05779479816555977, 0.04079797491431236, -0.07905285060405731, 0.0801742672920227, -0.00642281724140048, 0.016321545466780663, -0.055588167160749435, 0.0741751566529274, -0.0016499148914590478, -0.026397958397865295, -0.06562136858701706, 0.023340996354818344, -0.002630352508276701, -0.04960649833083153, 0.08403979986906052, -0.2104971557855606, 0.03180553391575813, -0.05272667482495308, 0.0808333232998848, -0.01724819280207157, 0.09483394771814346, 0.038382261991500854, -0.10146807134151459, 0.06770799309015274, -0.007122415583580732, 0.09121065586805344, 0.01576858013868332, 0.0786348432302475, 0.022619206458330154, -0.02865600399672985, -0.029148096218705177, -0.045569635927677155, 0.08517545461654663, -0.039257682859897614, 0.0021223900839686394, 0.013489252887666225, -0.017115501686930656, 0.0006387123139575124, 0.07029729336500168, -0.032861948013305664, -0.05017853528261185, 0.02000454254448414, -0.08344877511262894, -0.028754496946930885, -0.07470309734344482, -0.03579949587583542, 0.04417175427079201, 0.023798182606697083, -0.07516143471002579, 0.03182227909564972, 0.033652372658252716, -0.007455224636942148, -0.01345368754118681, 0.01731221191585064, 0.02661612071096897, 0.10769979655742645, -0.08353297412395477, 0.01143687404692173, 0.11124572157859802, 0.020249614492058754, 0.009524350985884666, -0.07321030646562576, -0.020259249955415726, 0.0149772260338068, 0.13441818952560425, -0.10689791291952133, -0.0006663684034720063, 0.015050506219267845, 0.010832428000867367, 0.0017759795300662518, -0.10293631255626678, -0.019619686529040337, -0.05045232176780701, -0.08190286159515381, 0.010757118463516235, -0.0590362623333931, 0.06596803665161133, 0.1124517098069191, 0.02172716148197651, 0.05902423709630966, 0.025406455621123314, 0.04075083136558533, -0.054535768926143646, -0.03232509270310402, -0.04431354999542236, 0.04979586601257324, -0.05574752017855644, 0.06931085139513016, -0.011784294620156288, -0.066068634390831, 0.03556211665272713, -0.038684215396642685, -0.03654191642999649, -0.056144829839468, 0.06863346695899963, 0.037646159529685974, 0.029818028211593628, -0.10462857782840729, -0.03523920848965645, 0.03087664023041725, 0.022221878170967102, -0.010753142647445202, 0.008613714016973972, -0.04734911024570465, -0.03947173431515694, -0.08082394301891327, -0.08029499650001526, -0.022084319964051247, 0.004002717323601246, -0.08132397383451462, 0.07420679181814194, 0.02761230431497097, -0.014791850000619888, -0.0306028313934803, -0.025530587881803513, 0.02400357276201248, -0.016279423609375954, 0.014891454949975014, -0.07402119785547256, -0.03722326084971428, 4.1796185705104345e-33, -0.03674255311489105, 0.005704184528440237, -0.000681480800267309, 0.04046916216611862, 0.03479780629277229, 0.06556856632232666, -0.07089710980653763, 0.0002461657568346709, -0.027803024277091026, 0.037558186799287796, -0.05623948946595192, 0.01126489881426096, 0.011980966664850712, -0.04721713811159134, -0.030942402780056, 0.029976343736052513, -0.03482339158654213, 0.052154358476400375, 0.07602643966674805, -0.02970527671277523, -0.07287652045488358, -0.02249549888074398, -0.04603970795869827, -0.04239857569336891, -0.055929046124219894, 0.01226363517343998, 0.027542319148778915, -0.13189107179641724, 0.023542342707514763, -0.012439535930752754, 0.027608495205640793, 0.010118046775460243, -0.045245543122291565, 0.05950988456606865, -0.08891881257295609, 0.13317155838012695, -0.05210315063595772, -0.027271250262856483, -0.013698688708245754, -0.038175422698259354, 0.012719730846583843, -0.015219942666590214, 0.05183161795139313, 0.11733264476060867, -0.001437272410839796, 0.054521843791007996, 0.06989429891109467, 0.007579891476780176, 0.01836104318499565, 0.036991093307733536, 0.11063241958618164, -0.014161200262606144, -0.029909856617450714, 0.03095492348074913, 0.018434712663292885, 0.0191297959536314, 0.02241680771112442, -0.05353417620062828, -0.015432027168571949, -0.11166877299547195, 0.040382418781518936, -0.1637023389339447, 0.004490875173360109, 0.03364229574799538, -0.06476230174303055, 0.040347903966903687, -0.04507831111550331, 0.05273066833615303, 0.05208617076277733, -0.009779640473425388, -0.012977912090718746, 0.02454744465649128, 0.04311497136950493, 0.052845221012830734, -0.043849922716617584, 0.05783460661768913, -0.007213511969894171, -0.012219236232340336, 0.005231370218098164, 0.017314881086349487, -0.0432443842291832, 0.009463022463023663, 0.0006703409599140286, -0.037566863000392914, 0.03956243023276329, -0.0118027925491333, 0.020012499764561653, 0.0473286397755146, -0.0030901532154530287, -0.026608623564243317, -0.0071827140636742115, -0.012647757306694984, 0.050372250378131866, -0.021037554368376732, 0.05261170119047165, 5.938663288037843e-32, 0.09818384051322937, 0.06311281025409698, -0.0013507328694686294, 0.03154868260025978, -0.058541227132081985, 0.010168329812586308, 0.10666787624359131, 0.020751701667904854, -0.02713671699166298, 0.047655876725912094, -0.07893988490104675, 0.01865125261247158, 0.0797606110572815, -0.02658228762447834, 0.013924759812653065, 0.0507466085255146, -0.00610150583088398, -0.031934309750795364, -0.07401801645755768, -0.02282469905912876, -0.13876904547214508, 0.00822705589234829, -0.03272610902786255, -0.07329349964857101, -0.04782973229885101, 0.04130202904343605, -0.08370918780565262, -0.03417406603693962, -0.031857557594776154, 0.03593484312295914, 0.047458525747060776, -0.039050307124853134, -0.020333951339125633, 0.016425278037786484, -0.020409423857927322, 0.06495778262615204, 0.02125142328441143, -0.03946333006024361, -0.047629281878471375, 0.034583065658807755, -0.005416504573076963, 0.004762968048453331, -0.047895342111587524, 0.03285878524184227, -0.07209623605012894, 0.04097145423293114, 0.04811752587556839, -0.06700219959020615, -0.048578545451164246, 0.05108843371272087, -0.0010951259173452854, 0.025299089029431343, 0.08245924860239029, -0.06623030453920364, -0.006438021548092365, 0.006268231198191643, 0.01636948250234127, 0.007984314113855362, 0.0674411728978157, 0.03392770141363144, 0.06954199820756912, 0.02066878229379654, 0.03901078179478645, 0.038800351321697235]}}, page_content='Charizard flies around the sky in search of powerful opponents. Charizard breathes fire of such great heat that it melts anything.')]"
            ]
          },
          "metadata": {},
          "execution_count": 46
        }
      ],
      "source": [
        "retriever.invoke(\"Pikachu\")"
      ]
    },
    {
      "cell_type": "markdown",
      "metadata": {
        "id": "creating-rag-chain"
      },
      "source": [
        "### Generation\n",
        "\n",
        "Next, the Generation phase involves prompting the LLM for an answer when the user asks a question. The retriever you created in the previous stage will be used here to provide more context.\n",
        "\n",
        "You'll perform the following steps in this stage:\n",
        "\n",
        "* Load a predefined RAG prompt.\n",
        "* Define a function to format retrieved documents.\n",
        "* Handle Gemma formatting using a custom output parser\n",
        "* Chain everything together"
      ]
    },
    {
      "cell_type": "markdown",
      "metadata": {
        "id": "-IzsYiwwVK-5"
      },
      "source": [
        "#### Load a predefined prompt\n",
        "\n",
        "You will use a [RAG prompt template](https://www.google.com/url?q=https%3A%2F%2Fsmith.langchain.com%2Fhub%2Frlm%2Frag-prompt) from LangChain Hub for the predefined prompt. It is useful for chat, QA, or other applications that rely on passing context to an LLM.\n"
      ]
    },
    {
      "cell_type": "code",
      "execution_count": 47,
      "metadata": {
        "id": "load-prompt",
        "outputId": "e7468901-7eb8-4d4d-90c8-4e6ff4e7906e",
        "colab": {
          "base_uri": "https://localhost:8080/"
        }
      },
      "outputs": [
        {
          "output_type": "stream",
          "name": "stdout",
          "text": [
            "Prompt:\n",
            "\n",
            "You are an assistant for question-answering tasks. Use the following pieces of retrieved context to answer the question. If you don't know the answer, just say that you don't know. Use three sentences maximum and keep the answer concise.\n",
            "Question: {question} \n",
            "Context: {context} \n",
            "Answer:\n"
          ]
        },
        {
          "output_type": "stream",
          "name": "stderr",
          "text": [
            "/usr/local/lib/python3.11/dist-packages/langsmith/client.py:253: LangSmithMissingAPIKeyWarning: API key must be provided when using hosted LangSmith API\n",
            "  warnings.warn(\n"
          ]
        }
      ],
      "source": [
        "prompt = hub.pull(\"rlm/rag-prompt\")\n",
        "print(f\"Prompt:\\n\\n{prompt.messages[0].prompt.template}\")"
      ]
    },
    {
      "cell_type": "markdown",
      "metadata": {
        "id": "6XyiBuYOC_a3"
      },
      "source": [
        "#### The formatted context\n",
        "\n",
        "Define a function to format the retrieved documents."
      ]
    },
    {
      "cell_type": "code",
      "execution_count": 48,
      "metadata": {
        "id": "format-docs"
      },
      "outputs": [],
      "source": [
        "def format_docs(docs):\n",
        "    return \"\\n\\n\".join([doc.page_content for doc in docs])"
      ]
    },
    {
      "cell_type": "markdown",
      "metadata": {
        "id": "Ev-Hnb1bhkRj"
      },
      "source": [
        "#### Custom Gemma Output Parser\n",
        "Since Gemma models use specific formatting, you'll create an output parser to extract the instruction-tuned model's response properly."
      ]
    },
    {
      "cell_type": "code",
      "execution_count": 49,
      "metadata": {
        "id": "gemma-output-parser"
      },
      "outputs": [],
      "source": [
        "class GemmaOutputParser(BaseTransformOutputParser[str]):\n",
        "    def parse(self, text: str) -> str:\n",
        "        model_start_token = \"<start_of_turn>model\\n\"\n",
        "        idx = text.rfind(model_start_token)\n",
        "        return text[idx + len(model_start_token):] if idx > -1 else text"
      ]
    },
    {
      "cell_type": "markdown",
      "metadata": {
        "id": "Ys_tR0JV_f3M"
      },
      "source": [
        "#### Chain everything together\n",
        "\n",
        "Finally, you'll set up the RAG chain that ties everything together while relying on LangChain's [LCEL paradigm](https://python.langchain.com/v0.1/docs/expression_language/why/).\n",
        "\n",
        "[The prompt](https://smith.langchain.com/hub/rlm/rag-prompt) you're using expects an input that includes two keys: `context` and `question`. The user only provides the question, so you need to obtain and format the relevant context using our retriever. Here's how it works:\n",
        "\n",
        "* **Retrieve Relevant Documents**: Use `retriever` to get the relevant documents based on the user's question.\n",
        "\n",
        "* **Format the Documents**: The retrieved documents may not be in a format suitable for our prompt, so you'll use the `format_docs` function to combine and format these documents into a single coherent string. This formatted string becomes our `context`. The pipe symbol here (`|`) is used to chain `retriever` and `format_docs`, resulting in the **formatted context**.\n",
        "\n",
        "* **Pass the Question**: Pass the **user's question** directly under the `question` key via `RunnablePassthrough`. This behaves almost like the identity function, except that `RunnablePassthrough` allows you to pass the user's question directly through the chain to the prompt and the model without any modification (or add more keys to the output via `RunnablePassthrough.assign`). To learn more about this, read [the official documentation](https://python.langchain.com/api_reference/core/runnables/langchain_core.runnables.passthrough.RunnablePassthrough.html).\n",
        "\n",
        "* **Fill the Prompt**: Combine both the **formatted context** and the **user's question** into a single input dictionary for the prompt. This dictionary fills in the placeholders (like `context` and `question`) with the actual values from the dictionary. This results in a complete prompt text that is ready to be sent to the language model.\n",
        "\n",
        "* **Generate Answer with the LLM**: The filled prompt is then passed to the `llm` (the Gemma model via Ollama). The LLM processes the prompt and generates a response based on the provided context and question.\n",
        "\n",
        "* **Parse the LLM's Output**: The raw output from the LLM might include control tokens or additional formatting specific to the Gemma model. You'll use the `GemmaOutputParser` to parse the LLM's output and extract the final answer.\n",
        "\n",
        "\n",
        "In simple terms, you gather the context related to the question, format it appropriately, and then provide both the formatted context and the question to the model to generate an informed answer.\n"
      ]
    },
    {
      "cell_type": "code",
      "execution_count": 50,
      "metadata": {
        "id": "assemble-rag-chain"
      },
      "outputs": [],
      "source": [
        "# Create an actual chain\n",
        "\n",
        "rag_chain = (\n",
        "    # First you need retrieve documents that are relevant to the\n",
        "    # given query\n",
        "    {\"context\": retriever | format_docs, \"question\": RunnablePassthrough()}\n",
        "    # The `context` and `question` are then passed to the prompt\n",
        "    | prompt\n",
        "    # The whole prompt will all the information is passed the LLM\n",
        "    | llm\n",
        "    # The answer of the LLM is parsed by the class defined above\n",
        "    | GemmaOutputParser()\n",
        ")"
      ]
    },
    {
      "cell_type": "markdown",
      "metadata": {
        "id": "try-it-out"
      },
      "source": [
        "### Try It Out!\n",
        "\n",
        "Finally, let's ask some questions and see how the RAG chain performs."
      ]
    },
    {
      "cell_type": "code",
      "execution_count": 51,
      "metadata": {
        "id": "ask-question-1",
        "outputId": "cc361493-d7a3-441a-9e3e-544914a67809",
        "colab": {
          "base_uri": "https://localhost:8080/"
        }
      },
      "outputs": [
        {
          "output_type": "stream",
          "name": "stdout",
          "text": [
            "When several Pikachu gather, their electricity can build up and cause lightning storms.  \n",
            "\n"
          ]
        }
      ],
      "source": [
        "question = \"What happens when several Pikachu gather?\"\n",
        "answer = rag_chain.invoke(question)\n",
        "print(answer)"
      ]
    },
    {
      "cell_type": "code",
      "execution_count": 52,
      "metadata": {
        "id": "ask-question-2",
        "outputId": "830a8120-80e5-4316-dba1-5d4e1c01c0ea",
        "colab": {
          "base_uri": "https://localhost:8080/"
        }
      },
      "outputs": [
        {
          "output_type": "stream",
          "name": "stdout",
          "text": [
            "Charizard is capable of flying, and Dragonite can circle the globe in just sixteen hours.  Both of these Pokémon are known for their ability to fly. \n",
            "\n"
          ]
        }
      ],
      "source": [
        "question = \"Name a few Pokémon that can fly\"\n",
        "answer = rag_chain.invoke(question)\n",
        "print(answer)"
      ]
    },
    {
      "cell_type": "code",
      "execution_count": 53,
      "metadata": {
        "id": "ask-question-3",
        "outputId": "a7e1e315-b6a8-422f-d48b-f148670e1aa8",
        "colab": {
          "base_uri": "https://localhost:8080/"
        }
      },
      "outputs": [
        {
          "output_type": "stream",
          "name": "stdout",
          "text": [
            "Meowth loves round objects like loose change.  \n",
            "It wanders the streets looking for them on a nightly basis. \n",
            "This is likely because it is an association Meowth has formed with its daily life. \n",
            "\n"
          ]
        }
      ],
      "source": [
        "question = \"What's a Pokémon that loves round objects?\"\n",
        "answer = rag_chain.invoke(question)\n",
        "print(answer)"
      ]
    },
    {
      "cell_type": "markdown",
      "metadata": {
        "id": "conclusion"
      },
      "source": [
        "Congratulations! You've successfully built a local Retrieval-Augmented Generation (RAG) application using the quantized Gemma 2 model (Gemma 2 9B IT), LangChain, Ollama, and Elasticsearch.\n",
        "\n",
        "Feel free to explore further by:\n",
        "\n",
        "- Adding more data to Elasticsearch.\n",
        "- Experimenting with different Gemma models from the [Ollama Gemma 2 Model Catalog](https://ollama.com/library/gemma2).\n",
        "- Tweaking model parameters for better performance.\n",
        "- Check [Elastic Cloud deployment](https://www.elastic.co/search-labs/tutorials/install-elasticsearch/elastic-cloud) out and learn how to obtain your Elastic credentials ([ELASTIC_CLOUD_ID](https://www.elastic.co/search-labs/tutorials/install-elasticsearch/elastic-cloud#finding-your-cloud-id) and [ELASTIC_API_KEY](https://www.elastic.co/search-labs/tutorials/install-elasticsearch/elastic-cloud#creating-an-api-key)) for setting up a cloud instance instead.\n",
        "\n",
        "By following this tutorial, you're now equipped to build your own local RAG applications and explore the capabilities of Gemma models combined with LangChain and Elasticsearch.\n"
      ]
    },
    {
      "cell_type": "code",
      "source": [
        "import os\n",
        "from langchain.document_loaders import PyPDFLoader\n",
        "from langchain.text_splitter import RecursiveCharacterTextSplitter\n",
        "from elasticsearch import Elasticsearch\n",
        "from langchain_ollama import ChatOllama\n",
        "\n",
        "# Define Elasticsearch Connection\n",
        "ES_HOST = \"http://localhost:9200\"\n",
        "INDEX_NAME = \"pdf_documents\"\n",
        "es = Elasticsearch([ES_HOST])\n",
        "\n",
        "# Define function to process PDFs\n",
        "def process_pdf_folder(folder_path):\n",
        "    documents = []\n",
        "    for filename in os.listdir(folder_path):\n",
        "        if filename.endswith(\".pdf\"):\n",
        "            file_path = os.path.join(folder_path, filename)\n",
        "            loader = PyPDFLoader(file_path)\n",
        "            documents.extend(loader.load())\n",
        "    return documents\n",
        "\n",
        "# Define function to index documents into Elasticsearch\n",
        "def index_documents(docs):\n",
        "    text_splitter = RecursiveCharacterTextSplitter(chunk_size=500, chunk_overlap=50)\n",
        "    for doc in docs:\n",
        "        split_texts = text_splitter.split_text(doc.page_content)\n",
        "        for i, text_chunk in enumerate(split_texts):\n",
        "            es.index(index=INDEX_NAME, body={\"text\": text_chunk})\n",
        "\n",
        "# Define function to retrieve documents from Elasticsearch\n",
        "def retrieve_documents():\n",
        "    search_body = {\"query\": {\"match_all\": {}}, \"size\": 10}\n",
        "    response = es.search(index=INDEX_NAME, body=search_body)\n",
        "    return [hit[\"_source\"][\"text\"] for hit in response[\"hits\"][\"hits\"]]\n",
        "\n",
        "# Define function to query Ollama using entire PDF context\n",
        "def query_ollama_from_pdfs():\n",
        "    context_docs = retrieve_documents()\n",
        "    context_text = \"\\n\".join(context_docs)\n",
        "    chat_model = ChatOllama(model_name=\"gemma:2b\")\n",
        "    response = chat_model.generate(prompt=f\"Context:\\n{context_text}\\n\\nSummarize the key insights from the PDFs.\")\n",
        "    return response\n",
        "\n",
        "# Usage Example\n",
        "pdf_folder = \"/content/PDFs\"  # Replace with your folder path\n",
        "documents = process_pdf_folder(pdf_folder)\n",
        "index_documents(documents)\n",
        "print(f\"Indexed {len(documents)} documents from PDFs into Elasticsearch!\")\n",
        "\n",
        "# Query Ollama for insights from the PDFs\n",
        "response = query_ollama_from_pdfs()\n",
        "print(\"AI Response:\", response)\n"
      ],
      "metadata": {
        "id": "Sf7GJiH--Upg",
        "outputId": "4cda77e3-8f5d-4eff-cdfc-fb0550a73868",
        "colab": {
          "base_uri": "https://localhost:8080/",
          "height": 1000
        }
      },
      "execution_count": 8,
      "outputs": [
        {
          "output_type": "stream",
          "name": "stderr",
          "text": [
            "WARNING:elastic_transport.node_pool:Node <Urllib3HttpNode(http://localhost:9200)> has failed for 1 times in a row, putting on 1 second timeout\n",
            "WARNING:elastic_transport.transport:Retrying request after failure (attempt 0 of 3)\n",
            "Traceback (most recent call last):\n",
            "  File \"/usr/local/lib/python3.11/dist-packages/urllib3/connection.py\", line 198, in _new_conn\n",
            "    sock = connection.create_connection(\n",
            "           ^^^^^^^^^^^^^^^^^^^^^^^^^^^^^\n",
            "  File \"/usr/local/lib/python3.11/dist-packages/urllib3/util/connection.py\", line 85, in create_connection\n",
            "    raise err\n",
            "  File \"/usr/local/lib/python3.11/dist-packages/urllib3/util/connection.py\", line 73, in create_connection\n",
            "    sock.connect(sa)\n",
            "ConnectionRefusedError: [Errno 111] Connection refused\n",
            "\n",
            "The above exception was the direct cause of the following exception:\n",
            "\n",
            "Traceback (most recent call last):\n",
            "  File \"/usr/local/lib/python3.11/dist-packages/elastic_transport/_node/_http_urllib3.py\", line 167, in perform_request\n",
            "    response = self.pool.urlopen(\n",
            "               ^^^^^^^^^^^^^^^^^^\n",
            "  File \"/usr/local/lib/python3.11/dist-packages/urllib3/connectionpool.py\", line 841, in urlopen\n",
            "    retries = retries.increment(\n",
            "              ^^^^^^^^^^^^^^^^^^\n",
            "  File \"/usr/local/lib/python3.11/dist-packages/urllib3/util/retry.py\", line 449, in increment\n",
            "    raise reraise(type(error), error, _stacktrace)\n",
            "          ^^^^^^^^^^^^^^^^^^^^^^^^^^^^^^^^^^^^^^^^\n",
            "  File \"/usr/local/lib/python3.11/dist-packages/urllib3/util/util.py\", line 39, in reraise\n",
            "    raise value\n",
            "  File \"/usr/local/lib/python3.11/dist-packages/urllib3/connectionpool.py\", line 787, in urlopen\n",
            "    response = self._make_request(\n",
            "               ^^^^^^^^^^^^^^^^^^^\n",
            "  File \"/usr/local/lib/python3.11/dist-packages/urllib3/connectionpool.py\", line 493, in _make_request\n",
            "    conn.request(\n",
            "  File \"/usr/local/lib/python3.11/dist-packages/urllib3/connection.py\", line 445, in request\n",
            "    self.endheaders()\n",
            "  File \"/usr/lib/python3.11/http/client.py\", line 1298, in endheaders\n",
            "    self._send_output(message_body, encode_chunked=encode_chunked)\n",
            "  File \"/usr/lib/python3.11/http/client.py\", line 1058, in _send_output\n",
            "    self.send(msg)\n",
            "  File \"/usr/lib/python3.11/http/client.py\", line 996, in send\n",
            "    self.connect()\n",
            "  File \"/usr/local/lib/python3.11/dist-packages/urllib3/connection.py\", line 276, in connect\n",
            "    self.sock = self._new_conn()\n",
            "                ^^^^^^^^^^^^^^^^\n",
            "  File \"/usr/local/lib/python3.11/dist-packages/urllib3/connection.py\", line 213, in _new_conn\n",
            "    raise NewConnectionError(\n",
            "urllib3.exceptions.NewConnectionError: <urllib3.connection.HTTPConnection object at 0x7e4206280210>: Failed to establish a new connection: [Errno 111] Connection refused\n",
            "\n",
            "The above exception was the direct cause of the following exception:\n",
            "\n",
            "Traceback (most recent call last):\n",
            "  File \"/usr/local/lib/python3.11/dist-packages/elastic_transport/_transport.py\", line 342, in perform_request\n",
            "    resp = node.perform_request(\n",
            "           ^^^^^^^^^^^^^^^^^^^^^\n",
            "  File \"/usr/local/lib/python3.11/dist-packages/elastic_transport/_node/_http_urllib3.py\", line 202, in perform_request\n",
            "    raise err from e\n",
            "elastic_transport.ConnectionError: Connection error caused by: NewConnectionError(<urllib3.connection.HTTPConnection object at 0x7e4206280210>: Failed to establish a new connection: [Errno 111] Connection refused)\n",
            "WARNING:elastic_transport.node_pool:Node <Urllib3HttpNode(http://localhost:9200)> has failed for 2 times in a row, putting on 2 second timeout\n",
            "WARNING:elastic_transport.transport:Retrying request after failure (attempt 1 of 3)\n",
            "Traceback (most recent call last):\n",
            "  File \"/usr/local/lib/python3.11/dist-packages/urllib3/connection.py\", line 198, in _new_conn\n",
            "    sock = connection.create_connection(\n",
            "           ^^^^^^^^^^^^^^^^^^^^^^^^^^^^^\n",
            "  File \"/usr/local/lib/python3.11/dist-packages/urllib3/util/connection.py\", line 85, in create_connection\n",
            "    raise err\n",
            "  File \"/usr/local/lib/python3.11/dist-packages/urllib3/util/connection.py\", line 73, in create_connection\n",
            "    sock.connect(sa)\n",
            "ConnectionRefusedError: [Errno 111] Connection refused\n",
            "\n",
            "The above exception was the direct cause of the following exception:\n",
            "\n",
            "Traceback (most recent call last):\n",
            "  File \"/usr/local/lib/python3.11/dist-packages/elastic_transport/_node/_http_urllib3.py\", line 167, in perform_request\n",
            "    response = self.pool.urlopen(\n",
            "               ^^^^^^^^^^^^^^^^^^\n",
            "  File \"/usr/local/lib/python3.11/dist-packages/urllib3/connectionpool.py\", line 841, in urlopen\n",
            "    retries = retries.increment(\n",
            "              ^^^^^^^^^^^^^^^^^^\n",
            "  File \"/usr/local/lib/python3.11/dist-packages/urllib3/util/retry.py\", line 449, in increment\n",
            "    raise reraise(type(error), error, _stacktrace)\n",
            "          ^^^^^^^^^^^^^^^^^^^^^^^^^^^^^^^^^^^^^^^^\n",
            "  File \"/usr/local/lib/python3.11/dist-packages/urllib3/util/util.py\", line 39, in reraise\n",
            "    raise value\n",
            "  File \"/usr/local/lib/python3.11/dist-packages/urllib3/connectionpool.py\", line 787, in urlopen\n",
            "    response = self._make_request(\n",
            "               ^^^^^^^^^^^^^^^^^^^\n",
            "  File \"/usr/local/lib/python3.11/dist-packages/urllib3/connectionpool.py\", line 493, in _make_request\n",
            "    conn.request(\n",
            "  File \"/usr/local/lib/python3.11/dist-packages/urllib3/connection.py\", line 445, in request\n",
            "    self.endheaders()\n",
            "  File \"/usr/lib/python3.11/http/client.py\", line 1298, in endheaders\n",
            "    self._send_output(message_body, encode_chunked=encode_chunked)\n",
            "  File \"/usr/lib/python3.11/http/client.py\", line 1058, in _send_output\n",
            "    self.send(msg)\n",
            "  File \"/usr/lib/python3.11/http/client.py\", line 996, in send\n",
            "    self.connect()\n",
            "  File \"/usr/local/lib/python3.11/dist-packages/urllib3/connection.py\", line 276, in connect\n",
            "    self.sock = self._new_conn()\n",
            "                ^^^^^^^^^^^^^^^^\n",
            "  File \"/usr/local/lib/python3.11/dist-packages/urllib3/connection.py\", line 213, in _new_conn\n",
            "    raise NewConnectionError(\n",
            "urllib3.exceptions.NewConnectionError: <urllib3.connection.HTTPConnection object at 0x7e4206287b50>: Failed to establish a new connection: [Errno 111] Connection refused\n",
            "\n",
            "The above exception was the direct cause of the following exception:\n",
            "\n",
            "Traceback (most recent call last):\n",
            "  File \"/usr/local/lib/python3.11/dist-packages/elastic_transport/_transport.py\", line 342, in perform_request\n",
            "    resp = node.perform_request(\n",
            "           ^^^^^^^^^^^^^^^^^^^^^\n",
            "  File \"/usr/local/lib/python3.11/dist-packages/elastic_transport/_node/_http_urllib3.py\", line 202, in perform_request\n",
            "    raise err from e\n",
            "elastic_transport.ConnectionError: Connection error caused by: NewConnectionError(<urllib3.connection.HTTPConnection object at 0x7e4206287b50>: Failed to establish a new connection: [Errno 111] Connection refused)\n",
            "WARNING:elastic_transport.node_pool:Node <Urllib3HttpNode(http://localhost:9200)> has failed for 3 times in a row, putting on 4 second timeout\n",
            "WARNING:elastic_transport.transport:Retrying request after failure (attempt 2 of 3)\n",
            "Traceback (most recent call last):\n",
            "  File \"/usr/local/lib/python3.11/dist-packages/urllib3/connection.py\", line 198, in _new_conn\n",
            "    sock = connection.create_connection(\n",
            "           ^^^^^^^^^^^^^^^^^^^^^^^^^^^^^\n",
            "  File \"/usr/local/lib/python3.11/dist-packages/urllib3/util/connection.py\", line 85, in create_connection\n",
            "    raise err\n",
            "  File \"/usr/local/lib/python3.11/dist-packages/urllib3/util/connection.py\", line 73, in create_connection\n",
            "    sock.connect(sa)\n",
            "ConnectionRefusedError: [Errno 111] Connection refused\n",
            "\n",
            "The above exception was the direct cause of the following exception:\n",
            "\n",
            "Traceback (most recent call last):\n",
            "  File \"/usr/local/lib/python3.11/dist-packages/elastic_transport/_node/_http_urllib3.py\", line 167, in perform_request\n",
            "    response = self.pool.urlopen(\n",
            "               ^^^^^^^^^^^^^^^^^^\n",
            "  File \"/usr/local/lib/python3.11/dist-packages/urllib3/connectionpool.py\", line 841, in urlopen\n",
            "    retries = retries.increment(\n",
            "              ^^^^^^^^^^^^^^^^^^\n",
            "  File \"/usr/local/lib/python3.11/dist-packages/urllib3/util/retry.py\", line 449, in increment\n",
            "    raise reraise(type(error), error, _stacktrace)\n",
            "          ^^^^^^^^^^^^^^^^^^^^^^^^^^^^^^^^^^^^^^^^\n",
            "  File \"/usr/local/lib/python3.11/dist-packages/urllib3/util/util.py\", line 39, in reraise\n",
            "    raise value\n",
            "  File \"/usr/local/lib/python3.11/dist-packages/urllib3/connectionpool.py\", line 787, in urlopen\n",
            "    response = self._make_request(\n",
            "               ^^^^^^^^^^^^^^^^^^^\n",
            "  File \"/usr/local/lib/python3.11/dist-packages/urllib3/connectionpool.py\", line 493, in _make_request\n",
            "    conn.request(\n",
            "  File \"/usr/local/lib/python3.11/dist-packages/urllib3/connection.py\", line 445, in request\n",
            "    self.endheaders()\n",
            "  File \"/usr/lib/python3.11/http/client.py\", line 1298, in endheaders\n",
            "    self._send_output(message_body, encode_chunked=encode_chunked)\n",
            "  File \"/usr/lib/python3.11/http/client.py\", line 1058, in _send_output\n",
            "    self.send(msg)\n",
            "  File \"/usr/lib/python3.11/http/client.py\", line 996, in send\n",
            "    self.connect()\n",
            "  File \"/usr/local/lib/python3.11/dist-packages/urllib3/connection.py\", line 276, in connect\n",
            "    self.sock = self._new_conn()\n",
            "                ^^^^^^^^^^^^^^^^\n",
            "  File \"/usr/local/lib/python3.11/dist-packages/urllib3/connection.py\", line 213, in _new_conn\n",
            "    raise NewConnectionError(\n",
            "urllib3.exceptions.NewConnectionError: <urllib3.connection.HTTPConnection object at 0x7e420628ec10>: Failed to establish a new connection: [Errno 111] Connection refused\n",
            "\n",
            "The above exception was the direct cause of the following exception:\n",
            "\n",
            "Traceback (most recent call last):\n",
            "  File \"/usr/local/lib/python3.11/dist-packages/elastic_transport/_transport.py\", line 342, in perform_request\n",
            "    resp = node.perform_request(\n",
            "           ^^^^^^^^^^^^^^^^^^^^^\n",
            "  File \"/usr/local/lib/python3.11/dist-packages/elastic_transport/_node/_http_urllib3.py\", line 202, in perform_request\n",
            "    raise err from e\n",
            "elastic_transport.ConnectionError: Connection error caused by: NewConnectionError(<urllib3.connection.HTTPConnection object at 0x7e420628ec10>: Failed to establish a new connection: [Errno 111] Connection refused)\n",
            "WARNING:elastic_transport.node_pool:Node <Urllib3HttpNode(http://localhost:9200)> has failed for 4 times in a row, putting on 8 second timeout\n"
          ]
        },
        {
          "output_type": "error",
          "ename": "ConnectionError",
          "evalue": "Connection error caused by: ConnectionError(Connection error caused by: NewConnectionError(<urllib3.connection.HTTPConnection object at 0x7e4206280210>: Failed to establish a new connection: [Errno 111] Connection refused))",
          "traceback": [
            "\u001b[0;31m---------------------------------------------------------------------------\u001b[0m",
            "\u001b[0;31mConnectionRefusedError\u001b[0m                    Traceback (most recent call last)",
            "\u001b[0;32m/usr/local/lib/python3.11/dist-packages/urllib3/connection.py\u001b[0m in \u001b[0;36m_new_conn\u001b[0;34m(self)\u001b[0m\n\u001b[1;32m    197\u001b[0m         \u001b[0;32mtry\u001b[0m\u001b[0;34m:\u001b[0m\u001b[0;34m\u001b[0m\u001b[0;34m\u001b[0m\u001b[0m\n\u001b[0;32m--> 198\u001b[0;31m             sock = connection.create_connection(\n\u001b[0m\u001b[1;32m    199\u001b[0m                 \u001b[0;34m(\u001b[0m\u001b[0mself\u001b[0m\u001b[0;34m.\u001b[0m\u001b[0m_dns_host\u001b[0m\u001b[0;34m,\u001b[0m \u001b[0mself\u001b[0m\u001b[0;34m.\u001b[0m\u001b[0mport\u001b[0m\u001b[0;34m)\u001b[0m\u001b[0;34m,\u001b[0m\u001b[0;34m\u001b[0m\u001b[0;34m\u001b[0m\u001b[0m\n",
            "\u001b[0;32m/usr/local/lib/python3.11/dist-packages/urllib3/util/connection.py\u001b[0m in \u001b[0;36mcreate_connection\u001b[0;34m(address, timeout, source_address, socket_options)\u001b[0m\n\u001b[1;32m     84\u001b[0m         \u001b[0;32mtry\u001b[0m\u001b[0;34m:\u001b[0m\u001b[0;34m\u001b[0m\u001b[0;34m\u001b[0m\u001b[0m\n\u001b[0;32m---> 85\u001b[0;31m             \u001b[0;32mraise\u001b[0m \u001b[0merr\u001b[0m\u001b[0;34m\u001b[0m\u001b[0;34m\u001b[0m\u001b[0m\n\u001b[0m\u001b[1;32m     86\u001b[0m         \u001b[0;32mfinally\u001b[0m\u001b[0;34m:\u001b[0m\u001b[0;34m\u001b[0m\u001b[0;34m\u001b[0m\u001b[0m\n",
            "\u001b[0;32m/usr/local/lib/python3.11/dist-packages/urllib3/util/connection.py\u001b[0m in \u001b[0;36mcreate_connection\u001b[0;34m(address, timeout, source_address, socket_options)\u001b[0m\n\u001b[1;32m     72\u001b[0m                 \u001b[0msock\u001b[0m\u001b[0;34m.\u001b[0m\u001b[0mbind\u001b[0m\u001b[0;34m(\u001b[0m\u001b[0msource_address\u001b[0m\u001b[0;34m)\u001b[0m\u001b[0;34m\u001b[0m\u001b[0;34m\u001b[0m\u001b[0m\n\u001b[0;32m---> 73\u001b[0;31m             \u001b[0msock\u001b[0m\u001b[0;34m.\u001b[0m\u001b[0mconnect\u001b[0m\u001b[0;34m(\u001b[0m\u001b[0msa\u001b[0m\u001b[0;34m)\u001b[0m\u001b[0;34m\u001b[0m\u001b[0;34m\u001b[0m\u001b[0m\n\u001b[0m\u001b[1;32m     74\u001b[0m             \u001b[0;31m# Break explicitly a reference cycle\u001b[0m\u001b[0;34m\u001b[0m\u001b[0;34m\u001b[0m\u001b[0m\n",
            "\u001b[0;31mConnectionRefusedError\u001b[0m: [Errno 111] Connection refused",
            "\nThe above exception was the direct cause of the following exception:\n",
            "\u001b[0;31mNewConnectionError\u001b[0m                        Traceback (most recent call last)",
            "\u001b[0;32m/usr/local/lib/python3.11/dist-packages/elastic_transport/_node/_http_urllib3.py\u001b[0m in \u001b[0;36mperform_request\u001b[0;34m(self, method, target, body, headers, request_timeout)\u001b[0m\n\u001b[1;32m    166\u001b[0m \u001b[0;34m\u001b[0m\u001b[0m\n\u001b[0;32m--> 167\u001b[0;31m             response = self.pool.urlopen(\n\u001b[0m\u001b[1;32m    168\u001b[0m                 \u001b[0mmethod\u001b[0m\u001b[0;34m,\u001b[0m\u001b[0;34m\u001b[0m\u001b[0;34m\u001b[0m\u001b[0m\n",
            "\u001b[0;32m/usr/local/lib/python3.11/dist-packages/urllib3/connectionpool.py\u001b[0m in \u001b[0;36murlopen\u001b[0;34m(self, method, url, body, headers, retries, redirect, assert_same_host, timeout, pool_timeout, release_conn, chunked, body_pos, preload_content, decode_content, **response_kw)\u001b[0m\n\u001b[1;32m    840\u001b[0m \u001b[0;34m\u001b[0m\u001b[0m\n\u001b[0;32m--> 841\u001b[0;31m             retries = retries.increment(\n\u001b[0m\u001b[1;32m    842\u001b[0m                 \u001b[0mmethod\u001b[0m\u001b[0;34m,\u001b[0m \u001b[0murl\u001b[0m\u001b[0;34m,\u001b[0m \u001b[0merror\u001b[0m\u001b[0;34m=\u001b[0m\u001b[0mnew_e\u001b[0m\u001b[0;34m,\u001b[0m \u001b[0m_pool\u001b[0m\u001b[0;34m=\u001b[0m\u001b[0mself\u001b[0m\u001b[0;34m,\u001b[0m \u001b[0m_stacktrace\u001b[0m\u001b[0;34m=\u001b[0m\u001b[0msys\u001b[0m\u001b[0;34m.\u001b[0m\u001b[0mexc_info\u001b[0m\u001b[0;34m(\u001b[0m\u001b[0;34m)\u001b[0m\u001b[0;34m[\u001b[0m\u001b[0;36m2\u001b[0m\u001b[0;34m]\u001b[0m\u001b[0;34m\u001b[0m\u001b[0;34m\u001b[0m\u001b[0m\n",
            "\u001b[0;32m/usr/local/lib/python3.11/dist-packages/urllib3/util/retry.py\u001b[0m in \u001b[0;36mincrement\u001b[0;34m(self, method, url, response, error, _pool, _stacktrace)\u001b[0m\n\u001b[1;32m    448\u001b[0m             \u001b[0;31m# Disabled, indicate to re-raise the error.\u001b[0m\u001b[0;34m\u001b[0m\u001b[0;34m\u001b[0m\u001b[0m\n\u001b[0;32m--> 449\u001b[0;31m             \u001b[0;32mraise\u001b[0m \u001b[0mreraise\u001b[0m\u001b[0;34m(\u001b[0m\u001b[0mtype\u001b[0m\u001b[0;34m(\u001b[0m\u001b[0merror\u001b[0m\u001b[0;34m)\u001b[0m\u001b[0;34m,\u001b[0m \u001b[0merror\u001b[0m\u001b[0;34m,\u001b[0m \u001b[0m_stacktrace\u001b[0m\u001b[0;34m)\u001b[0m\u001b[0;34m\u001b[0m\u001b[0;34m\u001b[0m\u001b[0m\n\u001b[0m\u001b[1;32m    450\u001b[0m \u001b[0;34m\u001b[0m\u001b[0m\n",
            "\u001b[0;32m/usr/local/lib/python3.11/dist-packages/urllib3/util/util.py\u001b[0m in \u001b[0;36mreraise\u001b[0;34m(tp, value, tb)\u001b[0m\n\u001b[1;32m     38\u001b[0m             \u001b[0;32mraise\u001b[0m \u001b[0mvalue\u001b[0m\u001b[0;34m.\u001b[0m\u001b[0mwith_traceback\u001b[0m\u001b[0;34m(\u001b[0m\u001b[0mtb\u001b[0m\u001b[0;34m)\u001b[0m\u001b[0;34m\u001b[0m\u001b[0;34m\u001b[0m\u001b[0m\n\u001b[0;32m---> 39\u001b[0;31m         \u001b[0;32mraise\u001b[0m \u001b[0mvalue\u001b[0m\u001b[0;34m\u001b[0m\u001b[0;34m\u001b[0m\u001b[0m\n\u001b[0m\u001b[1;32m     40\u001b[0m     \u001b[0;32mfinally\u001b[0m\u001b[0;34m:\u001b[0m\u001b[0;34m\u001b[0m\u001b[0;34m\u001b[0m\u001b[0m\n",
            "\u001b[0;32m/usr/local/lib/python3.11/dist-packages/urllib3/connectionpool.py\u001b[0m in \u001b[0;36murlopen\u001b[0;34m(self, method, url, body, headers, retries, redirect, assert_same_host, timeout, pool_timeout, release_conn, chunked, body_pos, preload_content, decode_content, **response_kw)\u001b[0m\n\u001b[1;32m    786\u001b[0m             \u001b[0;31m# Make the request on the HTTPConnection object\u001b[0m\u001b[0;34m\u001b[0m\u001b[0;34m\u001b[0m\u001b[0m\n\u001b[0;32m--> 787\u001b[0;31m             response = self._make_request(\n\u001b[0m\u001b[1;32m    788\u001b[0m                 \u001b[0mconn\u001b[0m\u001b[0;34m,\u001b[0m\u001b[0;34m\u001b[0m\u001b[0;34m\u001b[0m\u001b[0m\n",
            "\u001b[0;32m/usr/local/lib/python3.11/dist-packages/urllib3/connectionpool.py\u001b[0m in \u001b[0;36m_make_request\u001b[0;34m(self, conn, method, url, body, headers, retries, timeout, chunked, response_conn, preload_content, decode_content, enforce_content_length)\u001b[0m\n\u001b[1;32m    492\u001b[0m         \u001b[0;32mtry\u001b[0m\u001b[0;34m:\u001b[0m\u001b[0;34m\u001b[0m\u001b[0;34m\u001b[0m\u001b[0m\n\u001b[0;32m--> 493\u001b[0;31m             conn.request(\n\u001b[0m\u001b[1;32m    494\u001b[0m                 \u001b[0mmethod\u001b[0m\u001b[0;34m,\u001b[0m\u001b[0;34m\u001b[0m\u001b[0;34m\u001b[0m\u001b[0m\n",
            "\u001b[0;32m/usr/local/lib/python3.11/dist-packages/urllib3/connection.py\u001b[0m in \u001b[0;36mrequest\u001b[0;34m(self, method, url, body, headers, chunked, preload_content, decode_content, enforce_content_length)\u001b[0m\n\u001b[1;32m    444\u001b[0m             \u001b[0mself\u001b[0m\u001b[0;34m.\u001b[0m\u001b[0mputheader\u001b[0m\u001b[0;34m(\u001b[0m\u001b[0mheader\u001b[0m\u001b[0;34m,\u001b[0m \u001b[0mvalue\u001b[0m\u001b[0;34m)\u001b[0m\u001b[0;34m\u001b[0m\u001b[0;34m\u001b[0m\u001b[0m\n\u001b[0;32m--> 445\u001b[0;31m         \u001b[0mself\u001b[0m\u001b[0;34m.\u001b[0m\u001b[0mendheaders\u001b[0m\u001b[0;34m(\u001b[0m\u001b[0;34m)\u001b[0m\u001b[0;34m\u001b[0m\u001b[0;34m\u001b[0m\u001b[0m\n\u001b[0m\u001b[1;32m    446\u001b[0m \u001b[0;34m\u001b[0m\u001b[0m\n",
            "\u001b[0;32m/usr/lib/python3.11/http/client.py\u001b[0m in \u001b[0;36mendheaders\u001b[0;34m(self, message_body, encode_chunked)\u001b[0m\n\u001b[1;32m   1297\u001b[0m             \u001b[0;32mraise\u001b[0m \u001b[0mCannotSendHeader\u001b[0m\u001b[0;34m(\u001b[0m\u001b[0;34m)\u001b[0m\u001b[0;34m\u001b[0m\u001b[0;34m\u001b[0m\u001b[0m\n\u001b[0;32m-> 1298\u001b[0;31m         \u001b[0mself\u001b[0m\u001b[0;34m.\u001b[0m\u001b[0m_send_output\u001b[0m\u001b[0;34m(\u001b[0m\u001b[0mmessage_body\u001b[0m\u001b[0;34m,\u001b[0m \u001b[0mencode_chunked\u001b[0m\u001b[0;34m=\u001b[0m\u001b[0mencode_chunked\u001b[0m\u001b[0;34m)\u001b[0m\u001b[0;34m\u001b[0m\u001b[0;34m\u001b[0m\u001b[0m\n\u001b[0m\u001b[1;32m   1299\u001b[0m \u001b[0;34m\u001b[0m\u001b[0m\n",
            "\u001b[0;32m/usr/lib/python3.11/http/client.py\u001b[0m in \u001b[0;36m_send_output\u001b[0;34m(self, message_body, encode_chunked)\u001b[0m\n\u001b[1;32m   1057\u001b[0m         \u001b[0;32mdel\u001b[0m \u001b[0mself\u001b[0m\u001b[0;34m.\u001b[0m\u001b[0m_buffer\u001b[0m\u001b[0;34m[\u001b[0m\u001b[0;34m:\u001b[0m\u001b[0;34m]\u001b[0m\u001b[0;34m\u001b[0m\u001b[0;34m\u001b[0m\u001b[0m\n\u001b[0;32m-> 1058\u001b[0;31m         \u001b[0mself\u001b[0m\u001b[0;34m.\u001b[0m\u001b[0msend\u001b[0m\u001b[0;34m(\u001b[0m\u001b[0mmsg\u001b[0m\u001b[0;34m)\u001b[0m\u001b[0;34m\u001b[0m\u001b[0;34m\u001b[0m\u001b[0m\n\u001b[0m\u001b[1;32m   1059\u001b[0m \u001b[0;34m\u001b[0m\u001b[0m\n",
            "\u001b[0;32m/usr/lib/python3.11/http/client.py\u001b[0m in \u001b[0;36msend\u001b[0;34m(self, data)\u001b[0m\n\u001b[1;32m    995\u001b[0m             \u001b[0;32mif\u001b[0m \u001b[0mself\u001b[0m\u001b[0;34m.\u001b[0m\u001b[0mauto_open\u001b[0m\u001b[0;34m:\u001b[0m\u001b[0;34m\u001b[0m\u001b[0;34m\u001b[0m\u001b[0m\n\u001b[0;32m--> 996\u001b[0;31m                 \u001b[0mself\u001b[0m\u001b[0;34m.\u001b[0m\u001b[0mconnect\u001b[0m\u001b[0;34m(\u001b[0m\u001b[0;34m)\u001b[0m\u001b[0;34m\u001b[0m\u001b[0;34m\u001b[0m\u001b[0m\n\u001b[0m\u001b[1;32m    997\u001b[0m             \u001b[0;32melse\u001b[0m\u001b[0;34m:\u001b[0m\u001b[0;34m\u001b[0m\u001b[0;34m\u001b[0m\u001b[0m\n",
            "\u001b[0;32m/usr/local/lib/python3.11/dist-packages/urllib3/connection.py\u001b[0m in \u001b[0;36mconnect\u001b[0;34m(self)\u001b[0m\n\u001b[1;32m    275\u001b[0m     \u001b[0;32mdef\u001b[0m \u001b[0mconnect\u001b[0m\u001b[0;34m(\u001b[0m\u001b[0mself\u001b[0m\u001b[0;34m)\u001b[0m \u001b[0;34m->\u001b[0m \u001b[0;32mNone\u001b[0m\u001b[0;34m:\u001b[0m\u001b[0;34m\u001b[0m\u001b[0;34m\u001b[0m\u001b[0m\n\u001b[0;32m--> 276\u001b[0;31m         \u001b[0mself\u001b[0m\u001b[0;34m.\u001b[0m\u001b[0msock\u001b[0m \u001b[0;34m=\u001b[0m \u001b[0mself\u001b[0m\u001b[0;34m.\u001b[0m\u001b[0m_new_conn\u001b[0m\u001b[0;34m(\u001b[0m\u001b[0;34m)\u001b[0m\u001b[0;34m\u001b[0m\u001b[0;34m\u001b[0m\u001b[0m\n\u001b[0m\u001b[1;32m    277\u001b[0m         \u001b[0;32mif\u001b[0m \u001b[0mself\u001b[0m\u001b[0;34m.\u001b[0m\u001b[0m_tunnel_host\u001b[0m\u001b[0;34m:\u001b[0m\u001b[0;34m\u001b[0m\u001b[0;34m\u001b[0m\u001b[0m\n",
            "\u001b[0;32m/usr/local/lib/python3.11/dist-packages/urllib3/connection.py\u001b[0m in \u001b[0;36m_new_conn\u001b[0;34m(self)\u001b[0m\n\u001b[1;32m    212\u001b[0m         \u001b[0;32mexcept\u001b[0m \u001b[0mOSError\u001b[0m \u001b[0;32mas\u001b[0m \u001b[0me\u001b[0m\u001b[0;34m:\u001b[0m\u001b[0;34m\u001b[0m\u001b[0;34m\u001b[0m\u001b[0m\n\u001b[0;32m--> 213\u001b[0;31m             raise NewConnectionError(\n\u001b[0m\u001b[1;32m    214\u001b[0m                 \u001b[0mself\u001b[0m\u001b[0;34m,\u001b[0m \u001b[0;34mf\"Failed to establish a new connection: {e}\"\u001b[0m\u001b[0;34m\u001b[0m\u001b[0;34m\u001b[0m\u001b[0m\n",
            "\u001b[0;31mNewConnectionError\u001b[0m: <urllib3.connection.HTTPConnection object at 0x7e420628c110>: Failed to establish a new connection: [Errno 111] Connection refused",
            "\nThe above exception was the direct cause of the following exception:\n",
            "\u001b[0;31mConnectionError\u001b[0m                           Traceback (most recent call last)",
            "\u001b[0;32m<ipython-input-8-a7bc02938246>\u001b[0m in \u001b[0;36m<cell line: 0>\u001b[0;34m()\u001b[0m\n\u001b[1;32m     45\u001b[0m \u001b[0mpdf_folder\u001b[0m \u001b[0;34m=\u001b[0m \u001b[0;34m\"/content/PDFs\"\u001b[0m  \u001b[0;31m# Replace with your folder path\u001b[0m\u001b[0;34m\u001b[0m\u001b[0;34m\u001b[0m\u001b[0m\n\u001b[1;32m     46\u001b[0m \u001b[0mdocuments\u001b[0m \u001b[0;34m=\u001b[0m \u001b[0mprocess_pdf_folder\u001b[0m\u001b[0;34m(\u001b[0m\u001b[0mpdf_folder\u001b[0m\u001b[0;34m)\u001b[0m\u001b[0;34m\u001b[0m\u001b[0;34m\u001b[0m\u001b[0m\n\u001b[0;32m---> 47\u001b[0;31m \u001b[0mindex_documents\u001b[0m\u001b[0;34m(\u001b[0m\u001b[0mdocuments\u001b[0m\u001b[0;34m)\u001b[0m\u001b[0;34m\u001b[0m\u001b[0;34m\u001b[0m\u001b[0m\n\u001b[0m\u001b[1;32m     48\u001b[0m \u001b[0mprint\u001b[0m\u001b[0;34m(\u001b[0m\u001b[0;34mf\"Indexed {len(documents)} documents from PDFs into Elasticsearch!\"\u001b[0m\u001b[0;34m)\u001b[0m\u001b[0;34m\u001b[0m\u001b[0;34m\u001b[0m\u001b[0m\n\u001b[1;32m     49\u001b[0m \u001b[0;34m\u001b[0m\u001b[0m\n",
            "\u001b[0;32m<ipython-input-8-a7bc02938246>\u001b[0m in \u001b[0;36mindex_documents\u001b[0;34m(docs)\u001b[0m\n\u001b[1;32m     26\u001b[0m         \u001b[0msplit_texts\u001b[0m \u001b[0;34m=\u001b[0m \u001b[0mtext_splitter\u001b[0m\u001b[0;34m.\u001b[0m\u001b[0msplit_text\u001b[0m\u001b[0;34m(\u001b[0m\u001b[0mdoc\u001b[0m\u001b[0;34m.\u001b[0m\u001b[0mpage_content\u001b[0m\u001b[0;34m)\u001b[0m\u001b[0;34m\u001b[0m\u001b[0;34m\u001b[0m\u001b[0m\n\u001b[1;32m     27\u001b[0m         \u001b[0;32mfor\u001b[0m \u001b[0mi\u001b[0m\u001b[0;34m,\u001b[0m \u001b[0mtext_chunk\u001b[0m \u001b[0;32min\u001b[0m \u001b[0menumerate\u001b[0m\u001b[0;34m(\u001b[0m\u001b[0msplit_texts\u001b[0m\u001b[0;34m)\u001b[0m\u001b[0;34m:\u001b[0m\u001b[0;34m\u001b[0m\u001b[0;34m\u001b[0m\u001b[0m\n\u001b[0;32m---> 28\u001b[0;31m             \u001b[0mes\u001b[0m\u001b[0;34m.\u001b[0m\u001b[0mindex\u001b[0m\u001b[0;34m(\u001b[0m\u001b[0mindex\u001b[0m\u001b[0;34m=\u001b[0m\u001b[0mINDEX_NAME\u001b[0m\u001b[0;34m,\u001b[0m \u001b[0mbody\u001b[0m\u001b[0;34m=\u001b[0m\u001b[0;34m{\u001b[0m\u001b[0;34m\"text\"\u001b[0m\u001b[0;34m:\u001b[0m \u001b[0mtext_chunk\u001b[0m\u001b[0;34m}\u001b[0m\u001b[0;34m)\u001b[0m\u001b[0;34m\u001b[0m\u001b[0;34m\u001b[0m\u001b[0m\n\u001b[0m\u001b[1;32m     29\u001b[0m \u001b[0;34m\u001b[0m\u001b[0m\n\u001b[1;32m     30\u001b[0m \u001b[0;31m# Define function to retrieve documents from Elasticsearch\u001b[0m\u001b[0;34m\u001b[0m\u001b[0;34m\u001b[0m\u001b[0m\n",
            "\u001b[0;32m/usr/local/lib/python3.11/dist-packages/elasticsearch/_sync/client/utils.py\u001b[0m in \u001b[0;36mwrapped\u001b[0;34m(*args, **kwargs)\u001b[0m\n\u001b[1;32m    444\u001b[0m                         \u001b[0;32mpass\u001b[0m\u001b[0;34m\u001b[0m\u001b[0;34m\u001b[0m\u001b[0m\n\u001b[1;32m    445\u001b[0m \u001b[0;34m\u001b[0m\u001b[0m\n\u001b[0;32m--> 446\u001b[0;31m             \u001b[0;32mreturn\u001b[0m \u001b[0mapi\u001b[0m\u001b[0;34m(\u001b[0m\u001b[0;34m*\u001b[0m\u001b[0margs\u001b[0m\u001b[0;34m,\u001b[0m \u001b[0;34m**\u001b[0m\u001b[0mkwargs\u001b[0m\u001b[0;34m)\u001b[0m\u001b[0;34m\u001b[0m\u001b[0;34m\u001b[0m\u001b[0m\n\u001b[0m\u001b[1;32m    447\u001b[0m \u001b[0;34m\u001b[0m\u001b[0m\n\u001b[1;32m    448\u001b[0m         \u001b[0;32mreturn\u001b[0m \u001b[0mwrapped\u001b[0m  \u001b[0;31m# type: ignore[return-value]\u001b[0m\u001b[0;34m\u001b[0m\u001b[0;34m\u001b[0m\u001b[0m\n",
            "\u001b[0;32m/usr/local/lib/python3.11/dist-packages/elasticsearch/_sync/client/__init__.py\u001b[0m in \u001b[0;36mindex\u001b[0;34m(self, index, document, body, id, error_trace, filter_path, human, if_primary_term, if_seq_no, op_type, pipeline, pretty, refresh, require_alias, routing, timeout, version, version_type, wait_for_active_shards)\u001b[0m\n\u001b[1;32m   2426\u001b[0m         \u001b[0m__body\u001b[0m \u001b[0;34m=\u001b[0m \u001b[0mdocument\u001b[0m \u001b[0;32mif\u001b[0m \u001b[0mdocument\u001b[0m \u001b[0;32mis\u001b[0m \u001b[0;32mnot\u001b[0m \u001b[0;32mNone\u001b[0m \u001b[0;32melse\u001b[0m \u001b[0mbody\u001b[0m\u001b[0;34m\u001b[0m\u001b[0;34m\u001b[0m\u001b[0m\n\u001b[1;32m   2427\u001b[0m         \u001b[0m__headers\u001b[0m \u001b[0;34m=\u001b[0m \u001b[0;34m{\u001b[0m\u001b[0;34m\"accept\"\u001b[0m\u001b[0;34m:\u001b[0m \u001b[0;34m\"application/json\"\u001b[0m\u001b[0;34m,\u001b[0m \u001b[0;34m\"content-type\"\u001b[0m\u001b[0;34m:\u001b[0m \u001b[0;34m\"application/json\"\u001b[0m\u001b[0;34m}\u001b[0m\u001b[0;34m\u001b[0m\u001b[0;34m\u001b[0m\u001b[0m\n\u001b[0;32m-> 2428\u001b[0;31m         return self.perform_request(  # type: ignore[return-value]\n\u001b[0m\u001b[1;32m   2429\u001b[0m             \u001b[0m__method\u001b[0m\u001b[0;34m,\u001b[0m\u001b[0;34m\u001b[0m\u001b[0;34m\u001b[0m\u001b[0m\n\u001b[1;32m   2430\u001b[0m             \u001b[0m__path\u001b[0m\u001b[0;34m,\u001b[0m\u001b[0;34m\u001b[0m\u001b[0;34m\u001b[0m\u001b[0m\n",
            "\u001b[0;32m/usr/local/lib/python3.11/dist-packages/elasticsearch/_sync/client/_base.py\u001b[0m in \u001b[0;36mperform_request\u001b[0;34m(self, method, path, params, headers, body, endpoint_id, path_parts)\u001b[0m\n\u001b[1;32m    269\u001b[0m             \u001b[0mpath_parts\u001b[0m\u001b[0;34m=\u001b[0m\u001b[0mpath_parts\u001b[0m \u001b[0;32mor\u001b[0m \u001b[0;34m{\u001b[0m\u001b[0;34m}\u001b[0m\u001b[0;34m,\u001b[0m\u001b[0;34m\u001b[0m\u001b[0;34m\u001b[0m\u001b[0m\n\u001b[1;32m    270\u001b[0m         ) as otel_span:\n\u001b[0;32m--> 271\u001b[0;31m             response = self._perform_request(\n\u001b[0m\u001b[1;32m    272\u001b[0m                 \u001b[0mmethod\u001b[0m\u001b[0;34m,\u001b[0m\u001b[0;34m\u001b[0m\u001b[0;34m\u001b[0m\u001b[0m\n\u001b[1;32m    273\u001b[0m                 \u001b[0mpath\u001b[0m\u001b[0;34m,\u001b[0m\u001b[0;34m\u001b[0m\u001b[0;34m\u001b[0m\u001b[0m\n",
            "\u001b[0;32m/usr/local/lib/python3.11/dist-packages/elasticsearch/_sync/client/_base.py\u001b[0m in \u001b[0;36m_perform_request\u001b[0;34m(self, method, path, params, headers, body, otel_span)\u001b[0m\n\u001b[1;32m    314\u001b[0m             \u001b[0mtarget\u001b[0m \u001b[0;34m=\u001b[0m \u001b[0mpath\u001b[0m\u001b[0;34m\u001b[0m\u001b[0;34m\u001b[0m\u001b[0m\n\u001b[1;32m    315\u001b[0m \u001b[0;34m\u001b[0m\u001b[0m\n\u001b[0;32m--> 316\u001b[0;31m         meta, resp_body = self.transport.perform_request(\n\u001b[0m\u001b[1;32m    317\u001b[0m             \u001b[0mmethod\u001b[0m\u001b[0;34m,\u001b[0m\u001b[0;34m\u001b[0m\u001b[0;34m\u001b[0m\u001b[0m\n\u001b[1;32m    318\u001b[0m             \u001b[0mtarget\u001b[0m\u001b[0;34m,\u001b[0m\u001b[0;34m\u001b[0m\u001b[0;34m\u001b[0m\u001b[0m\n",
            "\u001b[0;32m/usr/local/lib/python3.11/dist-packages/elastic_transport/_transport.py\u001b[0m in \u001b[0;36mperform_request\u001b[0;34m(self, method, target, body, headers, max_retries, retry_on_status, retry_on_timeout, request_timeout, client_meta, otel_span)\u001b[0m\n\u001b[1;32m    340\u001b[0m             \u001b[0;32mtry\u001b[0m\u001b[0;34m:\u001b[0m\u001b[0;34m\u001b[0m\u001b[0;34m\u001b[0m\u001b[0m\n\u001b[1;32m    341\u001b[0m                 \u001b[0motel_span\u001b[0m\u001b[0;34m.\u001b[0m\u001b[0mset_node_metadata\u001b[0m\u001b[0;34m(\u001b[0m\u001b[0mnode\u001b[0m\u001b[0;34m.\u001b[0m\u001b[0mhost\u001b[0m\u001b[0;34m,\u001b[0m \u001b[0mnode\u001b[0m\u001b[0;34m.\u001b[0m\u001b[0mport\u001b[0m\u001b[0;34m,\u001b[0m \u001b[0mnode\u001b[0m\u001b[0;34m.\u001b[0m\u001b[0mbase_url\u001b[0m\u001b[0;34m,\u001b[0m \u001b[0mtarget\u001b[0m\u001b[0;34m)\u001b[0m\u001b[0;34m\u001b[0m\u001b[0;34m\u001b[0m\u001b[0m\n\u001b[0;32m--> 342\u001b[0;31m                 resp = node.perform_request(\n\u001b[0m\u001b[1;32m    343\u001b[0m                     \u001b[0mmethod\u001b[0m\u001b[0;34m,\u001b[0m\u001b[0;34m\u001b[0m\u001b[0;34m\u001b[0m\u001b[0m\n\u001b[1;32m    344\u001b[0m                     \u001b[0mtarget\u001b[0m\u001b[0;34m,\u001b[0m\u001b[0;34m\u001b[0m\u001b[0;34m\u001b[0m\u001b[0m\n",
            "\u001b[0;32m/usr/local/lib/python3.11/dist-packages/elastic_transport/_node/_http_urllib3.py\u001b[0m in \u001b[0;36mperform_request\u001b[0;34m(self, method, target, body, headers, request_timeout)\u001b[0m\n\u001b[1;32m    200\u001b[0m                 \u001b[0mexception\u001b[0m\u001b[0;34m=\u001b[0m\u001b[0merr\u001b[0m\u001b[0;34m,\u001b[0m\u001b[0;34m\u001b[0m\u001b[0;34m\u001b[0m\u001b[0m\n\u001b[1;32m    201\u001b[0m             )\n\u001b[0;32m--> 202\u001b[0;31m             \u001b[0;32mraise\u001b[0m \u001b[0merr\u001b[0m \u001b[0;32mfrom\u001b[0m \u001b[0me\u001b[0m\u001b[0;34m\u001b[0m\u001b[0;34m\u001b[0m\u001b[0m\n\u001b[0m\u001b[1;32m    203\u001b[0m \u001b[0;34m\u001b[0m\u001b[0m\n\u001b[1;32m    204\u001b[0m         meta = ApiResponseMeta(\n",
            "\u001b[0;31mConnectionError\u001b[0m: Connection error caused by: ConnectionError(Connection error caused by: NewConnectionError(<urllib3.connection.HTTPConnection object at 0x7e4206280210>: Failed to establish a new connection: [Errno 111] Connection refused))"
          ]
        }
      ]
    },
    {
      "cell_type": "code",
      "source": [
        "!pip install pypdf\n"
      ],
      "metadata": {
        "id": "3k1ZUyoS-Xmx",
        "outputId": "84d43a39-9858-4bce-a9f0-3bc6b413dae5",
        "colab": {
          "base_uri": "https://localhost:8080/"
        }
      },
      "execution_count": 6,
      "outputs": [
        {
          "output_type": "stream",
          "name": "stdout",
          "text": [
            "Collecting pypdf\n",
            "  Downloading pypdf-5.4.0-py3-none-any.whl.metadata (7.3 kB)\n",
            "Downloading pypdf-5.4.0-py3-none-any.whl (302 kB)\n",
            "\u001b[?25l   \u001b[90m━━━━━━━━━━━━━━━━━━━━━━━━━━━━━━━━━━━━━━━━\u001b[0m \u001b[32m0.0/302.3 kB\u001b[0m \u001b[31m?\u001b[0m eta \u001b[36m-:--:--\u001b[0m\r\u001b[2K   \u001b[90m━━━━━━━━━━━━━━━━━━━━━━━━━━━━━━━━━━━━━━━━\u001b[0m \u001b[32m302.3/302.3 kB\u001b[0m \u001b[31m18.7 MB/s\u001b[0m eta \u001b[36m0:00:00\u001b[0m\n",
            "\u001b[?25hInstalling collected packages: pypdf\n",
            "Successfully installed pypdf-5.4.0\n"
          ]
        }
      ]
    },
    {
      "cell_type": "code",
      "source": [],
      "metadata": {
        "id": "-cFDgtxjBCno"
      },
      "execution_count": null,
      "outputs": []
    }
  ],
  "metadata": {
    "accelerator": "GPU",
    "colab": {
      "name": "[Gemma_2]Using_with_Elasticsearch_and_LangChain.ipynb",
      "provenance": []
    },
    "kernelspec": {
      "display_name": "Python 3",
      "name": "python3"
    },
    "widgets": {
      "application/vnd.jupyter.widget-state+json": {
        "891605fd0a714709a189e16686a942b7": {
          "model_module": "@jupyter-widgets/controls",
          "model_name": "HBoxModel",
          "model_module_version": "1.5.0",
          "state": {
            "_dom_classes": [],
            "_model_module": "@jupyter-widgets/controls",
            "_model_module_version": "1.5.0",
            "_model_name": "HBoxModel",
            "_view_count": null,
            "_view_module": "@jupyter-widgets/controls",
            "_view_module_version": "1.5.0",
            "_view_name": "HBoxView",
            "box_style": "",
            "children": [
              "IPY_MODEL_331651aabc274bca8124412eba374144",
              "IPY_MODEL_75997946bc774b78b35c3a89069f2cca",
              "IPY_MODEL_809a1f4055d1473eb16a01007a2760f2"
            ],
            "layout": "IPY_MODEL_85501cd7f5e74dd199d9640f5107ef48"
          }
        },
        "331651aabc274bca8124412eba374144": {
          "model_module": "@jupyter-widgets/controls",
          "model_name": "HTMLModel",
          "model_module_version": "1.5.0",
          "state": {
            "_dom_classes": [],
            "_model_module": "@jupyter-widgets/controls",
            "_model_module_version": "1.5.0",
            "_model_name": "HTMLModel",
            "_view_count": null,
            "_view_module": "@jupyter-widgets/controls",
            "_view_module_version": "1.5.0",
            "_view_name": "HTMLView",
            "description": "",
            "description_tooltip": null,
            "layout": "IPY_MODEL_880f988d2cfd48a1b4d1902ae7e5e24e",
            "placeholder": "​",
            "style": "IPY_MODEL_afb8c7563bd6449f9e553f471a3b97f5",
            "value": "modules.json: 100%"
          }
        },
        "75997946bc774b78b35c3a89069f2cca": {
          "model_module": "@jupyter-widgets/controls",
          "model_name": "FloatProgressModel",
          "model_module_version": "1.5.0",
          "state": {
            "_dom_classes": [],
            "_model_module": "@jupyter-widgets/controls",
            "_model_module_version": "1.5.0",
            "_model_name": "FloatProgressModel",
            "_view_count": null,
            "_view_module": "@jupyter-widgets/controls",
            "_view_module_version": "1.5.0",
            "_view_name": "ProgressView",
            "bar_style": "success",
            "description": "",
            "description_tooltip": null,
            "layout": "IPY_MODEL_a3489092d3fd42b7b3a289f849f28781",
            "max": 349,
            "min": 0,
            "orientation": "horizontal",
            "style": "IPY_MODEL_781f68978ff44139b41b7c86da4125c6",
            "value": 349
          }
        },
        "809a1f4055d1473eb16a01007a2760f2": {
          "model_module": "@jupyter-widgets/controls",
          "model_name": "HTMLModel",
          "model_module_version": "1.5.0",
          "state": {
            "_dom_classes": [],
            "_model_module": "@jupyter-widgets/controls",
            "_model_module_version": "1.5.0",
            "_model_name": "HTMLModel",
            "_view_count": null,
            "_view_module": "@jupyter-widgets/controls",
            "_view_module_version": "1.5.0",
            "_view_name": "HTMLView",
            "description": "",
            "description_tooltip": null,
            "layout": "IPY_MODEL_39b56e68d7cb4b12abc6a235816a3375",
            "placeholder": "​",
            "style": "IPY_MODEL_4852761fed314439b815ca41d73dcaa4",
            "value": " 349/349 [00:00&lt;00:00, 33.9kB/s]"
          }
        },
        "85501cd7f5e74dd199d9640f5107ef48": {
          "model_module": "@jupyter-widgets/base",
          "model_name": "LayoutModel",
          "model_module_version": "1.2.0",
          "state": {
            "_model_module": "@jupyter-widgets/base",
            "_model_module_version": "1.2.0",
            "_model_name": "LayoutModel",
            "_view_count": null,
            "_view_module": "@jupyter-widgets/base",
            "_view_module_version": "1.2.0",
            "_view_name": "LayoutView",
            "align_content": null,
            "align_items": null,
            "align_self": null,
            "border": null,
            "bottom": null,
            "display": null,
            "flex": null,
            "flex_flow": null,
            "grid_area": null,
            "grid_auto_columns": null,
            "grid_auto_flow": null,
            "grid_auto_rows": null,
            "grid_column": null,
            "grid_gap": null,
            "grid_row": null,
            "grid_template_areas": null,
            "grid_template_columns": null,
            "grid_template_rows": null,
            "height": null,
            "justify_content": null,
            "justify_items": null,
            "left": null,
            "margin": null,
            "max_height": null,
            "max_width": null,
            "min_height": null,
            "min_width": null,
            "object_fit": null,
            "object_position": null,
            "order": null,
            "overflow": null,
            "overflow_x": null,
            "overflow_y": null,
            "padding": null,
            "right": null,
            "top": null,
            "visibility": null,
            "width": null
          }
        },
        "880f988d2cfd48a1b4d1902ae7e5e24e": {
          "model_module": "@jupyter-widgets/base",
          "model_name": "LayoutModel",
          "model_module_version": "1.2.0",
          "state": {
            "_model_module": "@jupyter-widgets/base",
            "_model_module_version": "1.2.0",
            "_model_name": "LayoutModel",
            "_view_count": null,
            "_view_module": "@jupyter-widgets/base",
            "_view_module_version": "1.2.0",
            "_view_name": "LayoutView",
            "align_content": null,
            "align_items": null,
            "align_self": null,
            "border": null,
            "bottom": null,
            "display": null,
            "flex": null,
            "flex_flow": null,
            "grid_area": null,
            "grid_auto_columns": null,
            "grid_auto_flow": null,
            "grid_auto_rows": null,
            "grid_column": null,
            "grid_gap": null,
            "grid_row": null,
            "grid_template_areas": null,
            "grid_template_columns": null,
            "grid_template_rows": null,
            "height": null,
            "justify_content": null,
            "justify_items": null,
            "left": null,
            "margin": null,
            "max_height": null,
            "max_width": null,
            "min_height": null,
            "min_width": null,
            "object_fit": null,
            "object_position": null,
            "order": null,
            "overflow": null,
            "overflow_x": null,
            "overflow_y": null,
            "padding": null,
            "right": null,
            "top": null,
            "visibility": null,
            "width": null
          }
        },
        "afb8c7563bd6449f9e553f471a3b97f5": {
          "model_module": "@jupyter-widgets/controls",
          "model_name": "DescriptionStyleModel",
          "model_module_version": "1.5.0",
          "state": {
            "_model_module": "@jupyter-widgets/controls",
            "_model_module_version": "1.5.0",
            "_model_name": "DescriptionStyleModel",
            "_view_count": null,
            "_view_module": "@jupyter-widgets/base",
            "_view_module_version": "1.2.0",
            "_view_name": "StyleView",
            "description_width": ""
          }
        },
        "a3489092d3fd42b7b3a289f849f28781": {
          "model_module": "@jupyter-widgets/base",
          "model_name": "LayoutModel",
          "model_module_version": "1.2.0",
          "state": {
            "_model_module": "@jupyter-widgets/base",
            "_model_module_version": "1.2.0",
            "_model_name": "LayoutModel",
            "_view_count": null,
            "_view_module": "@jupyter-widgets/base",
            "_view_module_version": "1.2.0",
            "_view_name": "LayoutView",
            "align_content": null,
            "align_items": null,
            "align_self": null,
            "border": null,
            "bottom": null,
            "display": null,
            "flex": null,
            "flex_flow": null,
            "grid_area": null,
            "grid_auto_columns": null,
            "grid_auto_flow": null,
            "grid_auto_rows": null,
            "grid_column": null,
            "grid_gap": null,
            "grid_row": null,
            "grid_template_areas": null,
            "grid_template_columns": null,
            "grid_template_rows": null,
            "height": null,
            "justify_content": null,
            "justify_items": null,
            "left": null,
            "margin": null,
            "max_height": null,
            "max_width": null,
            "min_height": null,
            "min_width": null,
            "object_fit": null,
            "object_position": null,
            "order": null,
            "overflow": null,
            "overflow_x": null,
            "overflow_y": null,
            "padding": null,
            "right": null,
            "top": null,
            "visibility": null,
            "width": null
          }
        },
        "781f68978ff44139b41b7c86da4125c6": {
          "model_module": "@jupyter-widgets/controls",
          "model_name": "ProgressStyleModel",
          "model_module_version": "1.5.0",
          "state": {
            "_model_module": "@jupyter-widgets/controls",
            "_model_module_version": "1.5.0",
            "_model_name": "ProgressStyleModel",
            "_view_count": null,
            "_view_module": "@jupyter-widgets/base",
            "_view_module_version": "1.2.0",
            "_view_name": "StyleView",
            "bar_color": null,
            "description_width": ""
          }
        },
        "39b56e68d7cb4b12abc6a235816a3375": {
          "model_module": "@jupyter-widgets/base",
          "model_name": "LayoutModel",
          "model_module_version": "1.2.0",
          "state": {
            "_model_module": "@jupyter-widgets/base",
            "_model_module_version": "1.2.0",
            "_model_name": "LayoutModel",
            "_view_count": null,
            "_view_module": "@jupyter-widgets/base",
            "_view_module_version": "1.2.0",
            "_view_name": "LayoutView",
            "align_content": null,
            "align_items": null,
            "align_self": null,
            "border": null,
            "bottom": null,
            "display": null,
            "flex": null,
            "flex_flow": null,
            "grid_area": null,
            "grid_auto_columns": null,
            "grid_auto_flow": null,
            "grid_auto_rows": null,
            "grid_column": null,
            "grid_gap": null,
            "grid_row": null,
            "grid_template_areas": null,
            "grid_template_columns": null,
            "grid_template_rows": null,
            "height": null,
            "justify_content": null,
            "justify_items": null,
            "left": null,
            "margin": null,
            "max_height": null,
            "max_width": null,
            "min_height": null,
            "min_width": null,
            "object_fit": null,
            "object_position": null,
            "order": null,
            "overflow": null,
            "overflow_x": null,
            "overflow_y": null,
            "padding": null,
            "right": null,
            "top": null,
            "visibility": null,
            "width": null
          }
        },
        "4852761fed314439b815ca41d73dcaa4": {
          "model_module": "@jupyter-widgets/controls",
          "model_name": "DescriptionStyleModel",
          "model_module_version": "1.5.0",
          "state": {
            "_model_module": "@jupyter-widgets/controls",
            "_model_module_version": "1.5.0",
            "_model_name": "DescriptionStyleModel",
            "_view_count": null,
            "_view_module": "@jupyter-widgets/base",
            "_view_module_version": "1.2.0",
            "_view_name": "StyleView",
            "description_width": ""
          }
        },
        "fe33c4c2b3cf4345bafc28a2bf815825": {
          "model_module": "@jupyter-widgets/controls",
          "model_name": "HBoxModel",
          "model_module_version": "1.5.0",
          "state": {
            "_dom_classes": [],
            "_model_module": "@jupyter-widgets/controls",
            "_model_module_version": "1.5.0",
            "_model_name": "HBoxModel",
            "_view_count": null,
            "_view_module": "@jupyter-widgets/controls",
            "_view_module_version": "1.5.0",
            "_view_name": "HBoxView",
            "box_style": "",
            "children": [
              "IPY_MODEL_2343303720554e00987c8da29c9fde25",
              "IPY_MODEL_0c290e4cd64c4619b367b95b2d3c797c",
              "IPY_MODEL_5366eaceb4f1458aac7b8f3c0a0214d4"
            ],
            "layout": "IPY_MODEL_32916263e34041e9a9ffc1fcb6dd30b4"
          }
        },
        "2343303720554e00987c8da29c9fde25": {
          "model_module": "@jupyter-widgets/controls",
          "model_name": "HTMLModel",
          "model_module_version": "1.5.0",
          "state": {
            "_dom_classes": [],
            "_model_module": "@jupyter-widgets/controls",
            "_model_module_version": "1.5.0",
            "_model_name": "HTMLModel",
            "_view_count": null,
            "_view_module": "@jupyter-widgets/controls",
            "_view_module_version": "1.5.0",
            "_view_name": "HTMLView",
            "description": "",
            "description_tooltip": null,
            "layout": "IPY_MODEL_85b55324f98c410cb93b6634507f9c1e",
            "placeholder": "​",
            "style": "IPY_MODEL_76ef60e5f2a747f8bb9b015c307de01b",
            "value": "config_sentence_transformers.json: 100%"
          }
        },
        "0c290e4cd64c4619b367b95b2d3c797c": {
          "model_module": "@jupyter-widgets/controls",
          "model_name": "FloatProgressModel",
          "model_module_version": "1.5.0",
          "state": {
            "_dom_classes": [],
            "_model_module": "@jupyter-widgets/controls",
            "_model_module_version": "1.5.0",
            "_model_name": "FloatProgressModel",
            "_view_count": null,
            "_view_module": "@jupyter-widgets/controls",
            "_view_module_version": "1.5.0",
            "_view_name": "ProgressView",
            "bar_style": "success",
            "description": "",
            "description_tooltip": null,
            "layout": "IPY_MODEL_dfb6a368c67c4850a5542f5ef61b59bd",
            "max": 116,
            "min": 0,
            "orientation": "horizontal",
            "style": "IPY_MODEL_58fe902c08634f35898f25fc2647f411",
            "value": 116
          }
        },
        "5366eaceb4f1458aac7b8f3c0a0214d4": {
          "model_module": "@jupyter-widgets/controls",
          "model_name": "HTMLModel",
          "model_module_version": "1.5.0",
          "state": {
            "_dom_classes": [],
            "_model_module": "@jupyter-widgets/controls",
            "_model_module_version": "1.5.0",
            "_model_name": "HTMLModel",
            "_view_count": null,
            "_view_module": "@jupyter-widgets/controls",
            "_view_module_version": "1.5.0",
            "_view_name": "HTMLView",
            "description": "",
            "description_tooltip": null,
            "layout": "IPY_MODEL_6d12862359fb4f2bb213dd38dad00f89",
            "placeholder": "​",
            "style": "IPY_MODEL_da56ccccacb44bf4a9344cfba7d1ad0f",
            "value": " 116/116 [00:00&lt;00:00, 6.92kB/s]"
          }
        },
        "32916263e34041e9a9ffc1fcb6dd30b4": {
          "model_module": "@jupyter-widgets/base",
          "model_name": "LayoutModel",
          "model_module_version": "1.2.0",
          "state": {
            "_model_module": "@jupyter-widgets/base",
            "_model_module_version": "1.2.0",
            "_model_name": "LayoutModel",
            "_view_count": null,
            "_view_module": "@jupyter-widgets/base",
            "_view_module_version": "1.2.0",
            "_view_name": "LayoutView",
            "align_content": null,
            "align_items": null,
            "align_self": null,
            "border": null,
            "bottom": null,
            "display": null,
            "flex": null,
            "flex_flow": null,
            "grid_area": null,
            "grid_auto_columns": null,
            "grid_auto_flow": null,
            "grid_auto_rows": null,
            "grid_column": null,
            "grid_gap": null,
            "grid_row": null,
            "grid_template_areas": null,
            "grid_template_columns": null,
            "grid_template_rows": null,
            "height": null,
            "justify_content": null,
            "justify_items": null,
            "left": null,
            "margin": null,
            "max_height": null,
            "max_width": null,
            "min_height": null,
            "min_width": null,
            "object_fit": null,
            "object_position": null,
            "order": null,
            "overflow": null,
            "overflow_x": null,
            "overflow_y": null,
            "padding": null,
            "right": null,
            "top": null,
            "visibility": null,
            "width": null
          }
        },
        "85b55324f98c410cb93b6634507f9c1e": {
          "model_module": "@jupyter-widgets/base",
          "model_name": "LayoutModel",
          "model_module_version": "1.2.0",
          "state": {
            "_model_module": "@jupyter-widgets/base",
            "_model_module_version": "1.2.0",
            "_model_name": "LayoutModel",
            "_view_count": null,
            "_view_module": "@jupyter-widgets/base",
            "_view_module_version": "1.2.0",
            "_view_name": "LayoutView",
            "align_content": null,
            "align_items": null,
            "align_self": null,
            "border": null,
            "bottom": null,
            "display": null,
            "flex": null,
            "flex_flow": null,
            "grid_area": null,
            "grid_auto_columns": null,
            "grid_auto_flow": null,
            "grid_auto_rows": null,
            "grid_column": null,
            "grid_gap": null,
            "grid_row": null,
            "grid_template_areas": null,
            "grid_template_columns": null,
            "grid_template_rows": null,
            "height": null,
            "justify_content": null,
            "justify_items": null,
            "left": null,
            "margin": null,
            "max_height": null,
            "max_width": null,
            "min_height": null,
            "min_width": null,
            "object_fit": null,
            "object_position": null,
            "order": null,
            "overflow": null,
            "overflow_x": null,
            "overflow_y": null,
            "padding": null,
            "right": null,
            "top": null,
            "visibility": null,
            "width": null
          }
        },
        "76ef60e5f2a747f8bb9b015c307de01b": {
          "model_module": "@jupyter-widgets/controls",
          "model_name": "DescriptionStyleModel",
          "model_module_version": "1.5.0",
          "state": {
            "_model_module": "@jupyter-widgets/controls",
            "_model_module_version": "1.5.0",
            "_model_name": "DescriptionStyleModel",
            "_view_count": null,
            "_view_module": "@jupyter-widgets/base",
            "_view_module_version": "1.2.0",
            "_view_name": "StyleView",
            "description_width": ""
          }
        },
        "dfb6a368c67c4850a5542f5ef61b59bd": {
          "model_module": "@jupyter-widgets/base",
          "model_name": "LayoutModel",
          "model_module_version": "1.2.0",
          "state": {
            "_model_module": "@jupyter-widgets/base",
            "_model_module_version": "1.2.0",
            "_model_name": "LayoutModel",
            "_view_count": null,
            "_view_module": "@jupyter-widgets/base",
            "_view_module_version": "1.2.0",
            "_view_name": "LayoutView",
            "align_content": null,
            "align_items": null,
            "align_self": null,
            "border": null,
            "bottom": null,
            "display": null,
            "flex": null,
            "flex_flow": null,
            "grid_area": null,
            "grid_auto_columns": null,
            "grid_auto_flow": null,
            "grid_auto_rows": null,
            "grid_column": null,
            "grid_gap": null,
            "grid_row": null,
            "grid_template_areas": null,
            "grid_template_columns": null,
            "grid_template_rows": null,
            "height": null,
            "justify_content": null,
            "justify_items": null,
            "left": null,
            "margin": null,
            "max_height": null,
            "max_width": null,
            "min_height": null,
            "min_width": null,
            "object_fit": null,
            "object_position": null,
            "order": null,
            "overflow": null,
            "overflow_x": null,
            "overflow_y": null,
            "padding": null,
            "right": null,
            "top": null,
            "visibility": null,
            "width": null
          }
        },
        "58fe902c08634f35898f25fc2647f411": {
          "model_module": "@jupyter-widgets/controls",
          "model_name": "ProgressStyleModel",
          "model_module_version": "1.5.0",
          "state": {
            "_model_module": "@jupyter-widgets/controls",
            "_model_module_version": "1.5.0",
            "_model_name": "ProgressStyleModel",
            "_view_count": null,
            "_view_module": "@jupyter-widgets/base",
            "_view_module_version": "1.2.0",
            "_view_name": "StyleView",
            "bar_color": null,
            "description_width": ""
          }
        },
        "6d12862359fb4f2bb213dd38dad00f89": {
          "model_module": "@jupyter-widgets/base",
          "model_name": "LayoutModel",
          "model_module_version": "1.2.0",
          "state": {
            "_model_module": "@jupyter-widgets/base",
            "_model_module_version": "1.2.0",
            "_model_name": "LayoutModel",
            "_view_count": null,
            "_view_module": "@jupyter-widgets/base",
            "_view_module_version": "1.2.0",
            "_view_name": "LayoutView",
            "align_content": null,
            "align_items": null,
            "align_self": null,
            "border": null,
            "bottom": null,
            "display": null,
            "flex": null,
            "flex_flow": null,
            "grid_area": null,
            "grid_auto_columns": null,
            "grid_auto_flow": null,
            "grid_auto_rows": null,
            "grid_column": null,
            "grid_gap": null,
            "grid_row": null,
            "grid_template_areas": null,
            "grid_template_columns": null,
            "grid_template_rows": null,
            "height": null,
            "justify_content": null,
            "justify_items": null,
            "left": null,
            "margin": null,
            "max_height": null,
            "max_width": null,
            "min_height": null,
            "min_width": null,
            "object_fit": null,
            "object_position": null,
            "order": null,
            "overflow": null,
            "overflow_x": null,
            "overflow_y": null,
            "padding": null,
            "right": null,
            "top": null,
            "visibility": null,
            "width": null
          }
        },
        "da56ccccacb44bf4a9344cfba7d1ad0f": {
          "model_module": "@jupyter-widgets/controls",
          "model_name": "DescriptionStyleModel",
          "model_module_version": "1.5.0",
          "state": {
            "_model_module": "@jupyter-widgets/controls",
            "_model_module_version": "1.5.0",
            "_model_name": "DescriptionStyleModel",
            "_view_count": null,
            "_view_module": "@jupyter-widgets/base",
            "_view_module_version": "1.2.0",
            "_view_name": "StyleView",
            "description_width": ""
          }
        },
        "15ebcde5415b44f9b3e721dc8bf497ec": {
          "model_module": "@jupyter-widgets/controls",
          "model_name": "HBoxModel",
          "model_module_version": "1.5.0",
          "state": {
            "_dom_classes": [],
            "_model_module": "@jupyter-widgets/controls",
            "_model_module_version": "1.5.0",
            "_model_name": "HBoxModel",
            "_view_count": null,
            "_view_module": "@jupyter-widgets/controls",
            "_view_module_version": "1.5.0",
            "_view_name": "HBoxView",
            "box_style": "",
            "children": [
              "IPY_MODEL_228739261bea40a1b771025a1c20a2ea",
              "IPY_MODEL_86d46a410a9348ab912bc4f61cf37318",
              "IPY_MODEL_5ad572a3158d4523ab59f7b8da0849e1"
            ],
            "layout": "IPY_MODEL_1242eb3838844f5187499b81c24b3e9c"
          }
        },
        "228739261bea40a1b771025a1c20a2ea": {
          "model_module": "@jupyter-widgets/controls",
          "model_name": "HTMLModel",
          "model_module_version": "1.5.0",
          "state": {
            "_dom_classes": [],
            "_model_module": "@jupyter-widgets/controls",
            "_model_module_version": "1.5.0",
            "_model_name": "HTMLModel",
            "_view_count": null,
            "_view_module": "@jupyter-widgets/controls",
            "_view_module_version": "1.5.0",
            "_view_name": "HTMLView",
            "description": "",
            "description_tooltip": null,
            "layout": "IPY_MODEL_86bed6c0461842edb8073f43c8230f95",
            "placeholder": "​",
            "style": "IPY_MODEL_74144e67530e41f2b8163237164d2a8f",
            "value": "README.md: 100%"
          }
        },
        "86d46a410a9348ab912bc4f61cf37318": {
          "model_module": "@jupyter-widgets/controls",
          "model_name": "FloatProgressModel",
          "model_module_version": "1.5.0",
          "state": {
            "_dom_classes": [],
            "_model_module": "@jupyter-widgets/controls",
            "_model_module_version": "1.5.0",
            "_model_name": "FloatProgressModel",
            "_view_count": null,
            "_view_module": "@jupyter-widgets/controls",
            "_view_module_version": "1.5.0",
            "_view_name": "ProgressView",
            "bar_style": "success",
            "description": "",
            "description_tooltip": null,
            "layout": "IPY_MODEL_131f521e0c0e404ba5496af53d6b1a78",
            "max": 10467,
            "min": 0,
            "orientation": "horizontal",
            "style": "IPY_MODEL_09c569ec5da54b6fb27f63f9f9628818",
            "value": 10467
          }
        },
        "5ad572a3158d4523ab59f7b8da0849e1": {
          "model_module": "@jupyter-widgets/controls",
          "model_name": "HTMLModel",
          "model_module_version": "1.5.0",
          "state": {
            "_dom_classes": [],
            "_model_module": "@jupyter-widgets/controls",
            "_model_module_version": "1.5.0",
            "_model_name": "HTMLModel",
            "_view_count": null,
            "_view_module": "@jupyter-widgets/controls",
            "_view_module_version": "1.5.0",
            "_view_name": "HTMLView",
            "description": "",
            "description_tooltip": null,
            "layout": "IPY_MODEL_559ee60f6efc4dc9a1c5742e5475a120",
            "placeholder": "​",
            "style": "IPY_MODEL_0e697dddb5df4985bd7585447382dd41",
            "value": " 10.5k/10.5k [00:00&lt;00:00, 909kB/s]"
          }
        },
        "1242eb3838844f5187499b81c24b3e9c": {
          "model_module": "@jupyter-widgets/base",
          "model_name": "LayoutModel",
          "model_module_version": "1.2.0",
          "state": {
            "_model_module": "@jupyter-widgets/base",
            "_model_module_version": "1.2.0",
            "_model_name": "LayoutModel",
            "_view_count": null,
            "_view_module": "@jupyter-widgets/base",
            "_view_module_version": "1.2.0",
            "_view_name": "LayoutView",
            "align_content": null,
            "align_items": null,
            "align_self": null,
            "border": null,
            "bottom": null,
            "display": null,
            "flex": null,
            "flex_flow": null,
            "grid_area": null,
            "grid_auto_columns": null,
            "grid_auto_flow": null,
            "grid_auto_rows": null,
            "grid_column": null,
            "grid_gap": null,
            "grid_row": null,
            "grid_template_areas": null,
            "grid_template_columns": null,
            "grid_template_rows": null,
            "height": null,
            "justify_content": null,
            "justify_items": null,
            "left": null,
            "margin": null,
            "max_height": null,
            "max_width": null,
            "min_height": null,
            "min_width": null,
            "object_fit": null,
            "object_position": null,
            "order": null,
            "overflow": null,
            "overflow_x": null,
            "overflow_y": null,
            "padding": null,
            "right": null,
            "top": null,
            "visibility": null,
            "width": null
          }
        },
        "86bed6c0461842edb8073f43c8230f95": {
          "model_module": "@jupyter-widgets/base",
          "model_name": "LayoutModel",
          "model_module_version": "1.2.0",
          "state": {
            "_model_module": "@jupyter-widgets/base",
            "_model_module_version": "1.2.0",
            "_model_name": "LayoutModel",
            "_view_count": null,
            "_view_module": "@jupyter-widgets/base",
            "_view_module_version": "1.2.0",
            "_view_name": "LayoutView",
            "align_content": null,
            "align_items": null,
            "align_self": null,
            "border": null,
            "bottom": null,
            "display": null,
            "flex": null,
            "flex_flow": null,
            "grid_area": null,
            "grid_auto_columns": null,
            "grid_auto_flow": null,
            "grid_auto_rows": null,
            "grid_column": null,
            "grid_gap": null,
            "grid_row": null,
            "grid_template_areas": null,
            "grid_template_columns": null,
            "grid_template_rows": null,
            "height": null,
            "justify_content": null,
            "justify_items": null,
            "left": null,
            "margin": null,
            "max_height": null,
            "max_width": null,
            "min_height": null,
            "min_width": null,
            "object_fit": null,
            "object_position": null,
            "order": null,
            "overflow": null,
            "overflow_x": null,
            "overflow_y": null,
            "padding": null,
            "right": null,
            "top": null,
            "visibility": null,
            "width": null
          }
        },
        "74144e67530e41f2b8163237164d2a8f": {
          "model_module": "@jupyter-widgets/controls",
          "model_name": "DescriptionStyleModel",
          "model_module_version": "1.5.0",
          "state": {
            "_model_module": "@jupyter-widgets/controls",
            "_model_module_version": "1.5.0",
            "_model_name": "DescriptionStyleModel",
            "_view_count": null,
            "_view_module": "@jupyter-widgets/base",
            "_view_module_version": "1.2.0",
            "_view_name": "StyleView",
            "description_width": ""
          }
        },
        "131f521e0c0e404ba5496af53d6b1a78": {
          "model_module": "@jupyter-widgets/base",
          "model_name": "LayoutModel",
          "model_module_version": "1.2.0",
          "state": {
            "_model_module": "@jupyter-widgets/base",
            "_model_module_version": "1.2.0",
            "_model_name": "LayoutModel",
            "_view_count": null,
            "_view_module": "@jupyter-widgets/base",
            "_view_module_version": "1.2.0",
            "_view_name": "LayoutView",
            "align_content": null,
            "align_items": null,
            "align_self": null,
            "border": null,
            "bottom": null,
            "display": null,
            "flex": null,
            "flex_flow": null,
            "grid_area": null,
            "grid_auto_columns": null,
            "grid_auto_flow": null,
            "grid_auto_rows": null,
            "grid_column": null,
            "grid_gap": null,
            "grid_row": null,
            "grid_template_areas": null,
            "grid_template_columns": null,
            "grid_template_rows": null,
            "height": null,
            "justify_content": null,
            "justify_items": null,
            "left": null,
            "margin": null,
            "max_height": null,
            "max_width": null,
            "min_height": null,
            "min_width": null,
            "object_fit": null,
            "object_position": null,
            "order": null,
            "overflow": null,
            "overflow_x": null,
            "overflow_y": null,
            "padding": null,
            "right": null,
            "top": null,
            "visibility": null,
            "width": null
          }
        },
        "09c569ec5da54b6fb27f63f9f9628818": {
          "model_module": "@jupyter-widgets/controls",
          "model_name": "ProgressStyleModel",
          "model_module_version": "1.5.0",
          "state": {
            "_model_module": "@jupyter-widgets/controls",
            "_model_module_version": "1.5.0",
            "_model_name": "ProgressStyleModel",
            "_view_count": null,
            "_view_module": "@jupyter-widgets/base",
            "_view_module_version": "1.2.0",
            "_view_name": "StyleView",
            "bar_color": null,
            "description_width": ""
          }
        },
        "559ee60f6efc4dc9a1c5742e5475a120": {
          "model_module": "@jupyter-widgets/base",
          "model_name": "LayoutModel",
          "model_module_version": "1.2.0",
          "state": {
            "_model_module": "@jupyter-widgets/base",
            "_model_module_version": "1.2.0",
            "_model_name": "LayoutModel",
            "_view_count": null,
            "_view_module": "@jupyter-widgets/base",
            "_view_module_version": "1.2.0",
            "_view_name": "LayoutView",
            "align_content": null,
            "align_items": null,
            "align_self": null,
            "border": null,
            "bottom": null,
            "display": null,
            "flex": null,
            "flex_flow": null,
            "grid_area": null,
            "grid_auto_columns": null,
            "grid_auto_flow": null,
            "grid_auto_rows": null,
            "grid_column": null,
            "grid_gap": null,
            "grid_row": null,
            "grid_template_areas": null,
            "grid_template_columns": null,
            "grid_template_rows": null,
            "height": null,
            "justify_content": null,
            "justify_items": null,
            "left": null,
            "margin": null,
            "max_height": null,
            "max_width": null,
            "min_height": null,
            "min_width": null,
            "object_fit": null,
            "object_position": null,
            "order": null,
            "overflow": null,
            "overflow_x": null,
            "overflow_y": null,
            "padding": null,
            "right": null,
            "top": null,
            "visibility": null,
            "width": null
          }
        },
        "0e697dddb5df4985bd7585447382dd41": {
          "model_module": "@jupyter-widgets/controls",
          "model_name": "DescriptionStyleModel",
          "model_module_version": "1.5.0",
          "state": {
            "_model_module": "@jupyter-widgets/controls",
            "_model_module_version": "1.5.0",
            "_model_name": "DescriptionStyleModel",
            "_view_count": null,
            "_view_module": "@jupyter-widgets/base",
            "_view_module_version": "1.2.0",
            "_view_name": "StyleView",
            "description_width": ""
          }
        },
        "75545ae50a1041b9ac28574889c2486c": {
          "model_module": "@jupyter-widgets/controls",
          "model_name": "HBoxModel",
          "model_module_version": "1.5.0",
          "state": {
            "_dom_classes": [],
            "_model_module": "@jupyter-widgets/controls",
            "_model_module_version": "1.5.0",
            "_model_name": "HBoxModel",
            "_view_count": null,
            "_view_module": "@jupyter-widgets/controls",
            "_view_module_version": "1.5.0",
            "_view_name": "HBoxView",
            "box_style": "",
            "children": [
              "IPY_MODEL_f9b8f515554d48fd8ab49a146a075dc9",
              "IPY_MODEL_2d1c2a1c4d7d4c8096599d254697297d",
              "IPY_MODEL_61b30270f44e499bb329d6c6cc5da8a1"
            ],
            "layout": "IPY_MODEL_b175d2b05b4d44a3bd3774b6aa2e70d3"
          }
        },
        "f9b8f515554d48fd8ab49a146a075dc9": {
          "model_module": "@jupyter-widgets/controls",
          "model_name": "HTMLModel",
          "model_module_version": "1.5.0",
          "state": {
            "_dom_classes": [],
            "_model_module": "@jupyter-widgets/controls",
            "_model_module_version": "1.5.0",
            "_model_name": "HTMLModel",
            "_view_count": null,
            "_view_module": "@jupyter-widgets/controls",
            "_view_module_version": "1.5.0",
            "_view_name": "HTMLView",
            "description": "",
            "description_tooltip": null,
            "layout": "IPY_MODEL_87e145fbc5cf46b395f5f398c2ffa7bb",
            "placeholder": "​",
            "style": "IPY_MODEL_7720c958f7484c528f44c121e09cb5db",
            "value": "sentence_bert_config.json: 100%"
          }
        },
        "2d1c2a1c4d7d4c8096599d254697297d": {
          "model_module": "@jupyter-widgets/controls",
          "model_name": "FloatProgressModel",
          "model_module_version": "1.5.0",
          "state": {
            "_dom_classes": [],
            "_model_module": "@jupyter-widgets/controls",
            "_model_module_version": "1.5.0",
            "_model_name": "FloatProgressModel",
            "_view_count": null,
            "_view_module": "@jupyter-widgets/controls",
            "_view_module_version": "1.5.0",
            "_view_name": "ProgressView",
            "bar_style": "success",
            "description": "",
            "description_tooltip": null,
            "layout": "IPY_MODEL_9dabb624e9a34990bbed91f89145edfa",
            "max": 53,
            "min": 0,
            "orientation": "horizontal",
            "style": "IPY_MODEL_7121fd7d637145278be15a63db4f4cac",
            "value": 53
          }
        },
        "61b30270f44e499bb329d6c6cc5da8a1": {
          "model_module": "@jupyter-widgets/controls",
          "model_name": "HTMLModel",
          "model_module_version": "1.5.0",
          "state": {
            "_dom_classes": [],
            "_model_module": "@jupyter-widgets/controls",
            "_model_module_version": "1.5.0",
            "_model_name": "HTMLModel",
            "_view_count": null,
            "_view_module": "@jupyter-widgets/controls",
            "_view_module_version": "1.5.0",
            "_view_name": "HTMLView",
            "description": "",
            "description_tooltip": null,
            "layout": "IPY_MODEL_2e1e90837fea445c8e5fb3fda5d80506",
            "placeholder": "​",
            "style": "IPY_MODEL_49d9a70dcf044b6f90219069d2cdc003",
            "value": " 53.0/53.0 [00:00&lt;00:00, 3.57kB/s]"
          }
        },
        "b175d2b05b4d44a3bd3774b6aa2e70d3": {
          "model_module": "@jupyter-widgets/base",
          "model_name": "LayoutModel",
          "model_module_version": "1.2.0",
          "state": {
            "_model_module": "@jupyter-widgets/base",
            "_model_module_version": "1.2.0",
            "_model_name": "LayoutModel",
            "_view_count": null,
            "_view_module": "@jupyter-widgets/base",
            "_view_module_version": "1.2.0",
            "_view_name": "LayoutView",
            "align_content": null,
            "align_items": null,
            "align_self": null,
            "border": null,
            "bottom": null,
            "display": null,
            "flex": null,
            "flex_flow": null,
            "grid_area": null,
            "grid_auto_columns": null,
            "grid_auto_flow": null,
            "grid_auto_rows": null,
            "grid_column": null,
            "grid_gap": null,
            "grid_row": null,
            "grid_template_areas": null,
            "grid_template_columns": null,
            "grid_template_rows": null,
            "height": null,
            "justify_content": null,
            "justify_items": null,
            "left": null,
            "margin": null,
            "max_height": null,
            "max_width": null,
            "min_height": null,
            "min_width": null,
            "object_fit": null,
            "object_position": null,
            "order": null,
            "overflow": null,
            "overflow_x": null,
            "overflow_y": null,
            "padding": null,
            "right": null,
            "top": null,
            "visibility": null,
            "width": null
          }
        },
        "87e145fbc5cf46b395f5f398c2ffa7bb": {
          "model_module": "@jupyter-widgets/base",
          "model_name": "LayoutModel",
          "model_module_version": "1.2.0",
          "state": {
            "_model_module": "@jupyter-widgets/base",
            "_model_module_version": "1.2.0",
            "_model_name": "LayoutModel",
            "_view_count": null,
            "_view_module": "@jupyter-widgets/base",
            "_view_module_version": "1.2.0",
            "_view_name": "LayoutView",
            "align_content": null,
            "align_items": null,
            "align_self": null,
            "border": null,
            "bottom": null,
            "display": null,
            "flex": null,
            "flex_flow": null,
            "grid_area": null,
            "grid_auto_columns": null,
            "grid_auto_flow": null,
            "grid_auto_rows": null,
            "grid_column": null,
            "grid_gap": null,
            "grid_row": null,
            "grid_template_areas": null,
            "grid_template_columns": null,
            "grid_template_rows": null,
            "height": null,
            "justify_content": null,
            "justify_items": null,
            "left": null,
            "margin": null,
            "max_height": null,
            "max_width": null,
            "min_height": null,
            "min_width": null,
            "object_fit": null,
            "object_position": null,
            "order": null,
            "overflow": null,
            "overflow_x": null,
            "overflow_y": null,
            "padding": null,
            "right": null,
            "top": null,
            "visibility": null,
            "width": null
          }
        },
        "7720c958f7484c528f44c121e09cb5db": {
          "model_module": "@jupyter-widgets/controls",
          "model_name": "DescriptionStyleModel",
          "model_module_version": "1.5.0",
          "state": {
            "_model_module": "@jupyter-widgets/controls",
            "_model_module_version": "1.5.0",
            "_model_name": "DescriptionStyleModel",
            "_view_count": null,
            "_view_module": "@jupyter-widgets/base",
            "_view_module_version": "1.2.0",
            "_view_name": "StyleView",
            "description_width": ""
          }
        },
        "9dabb624e9a34990bbed91f89145edfa": {
          "model_module": "@jupyter-widgets/base",
          "model_name": "LayoutModel",
          "model_module_version": "1.2.0",
          "state": {
            "_model_module": "@jupyter-widgets/base",
            "_model_module_version": "1.2.0",
            "_model_name": "LayoutModel",
            "_view_count": null,
            "_view_module": "@jupyter-widgets/base",
            "_view_module_version": "1.2.0",
            "_view_name": "LayoutView",
            "align_content": null,
            "align_items": null,
            "align_self": null,
            "border": null,
            "bottom": null,
            "display": null,
            "flex": null,
            "flex_flow": null,
            "grid_area": null,
            "grid_auto_columns": null,
            "grid_auto_flow": null,
            "grid_auto_rows": null,
            "grid_column": null,
            "grid_gap": null,
            "grid_row": null,
            "grid_template_areas": null,
            "grid_template_columns": null,
            "grid_template_rows": null,
            "height": null,
            "justify_content": null,
            "justify_items": null,
            "left": null,
            "margin": null,
            "max_height": null,
            "max_width": null,
            "min_height": null,
            "min_width": null,
            "object_fit": null,
            "object_position": null,
            "order": null,
            "overflow": null,
            "overflow_x": null,
            "overflow_y": null,
            "padding": null,
            "right": null,
            "top": null,
            "visibility": null,
            "width": null
          }
        },
        "7121fd7d637145278be15a63db4f4cac": {
          "model_module": "@jupyter-widgets/controls",
          "model_name": "ProgressStyleModel",
          "model_module_version": "1.5.0",
          "state": {
            "_model_module": "@jupyter-widgets/controls",
            "_model_module_version": "1.5.0",
            "_model_name": "ProgressStyleModel",
            "_view_count": null,
            "_view_module": "@jupyter-widgets/base",
            "_view_module_version": "1.2.0",
            "_view_name": "StyleView",
            "bar_color": null,
            "description_width": ""
          }
        },
        "2e1e90837fea445c8e5fb3fda5d80506": {
          "model_module": "@jupyter-widgets/base",
          "model_name": "LayoutModel",
          "model_module_version": "1.2.0",
          "state": {
            "_model_module": "@jupyter-widgets/base",
            "_model_module_version": "1.2.0",
            "_model_name": "LayoutModel",
            "_view_count": null,
            "_view_module": "@jupyter-widgets/base",
            "_view_module_version": "1.2.0",
            "_view_name": "LayoutView",
            "align_content": null,
            "align_items": null,
            "align_self": null,
            "border": null,
            "bottom": null,
            "display": null,
            "flex": null,
            "flex_flow": null,
            "grid_area": null,
            "grid_auto_columns": null,
            "grid_auto_flow": null,
            "grid_auto_rows": null,
            "grid_column": null,
            "grid_gap": null,
            "grid_row": null,
            "grid_template_areas": null,
            "grid_template_columns": null,
            "grid_template_rows": null,
            "height": null,
            "justify_content": null,
            "justify_items": null,
            "left": null,
            "margin": null,
            "max_height": null,
            "max_width": null,
            "min_height": null,
            "min_width": null,
            "object_fit": null,
            "object_position": null,
            "order": null,
            "overflow": null,
            "overflow_x": null,
            "overflow_y": null,
            "padding": null,
            "right": null,
            "top": null,
            "visibility": null,
            "width": null
          }
        },
        "49d9a70dcf044b6f90219069d2cdc003": {
          "model_module": "@jupyter-widgets/controls",
          "model_name": "DescriptionStyleModel",
          "model_module_version": "1.5.0",
          "state": {
            "_model_module": "@jupyter-widgets/controls",
            "_model_module_version": "1.5.0",
            "_model_name": "DescriptionStyleModel",
            "_view_count": null,
            "_view_module": "@jupyter-widgets/base",
            "_view_module_version": "1.2.0",
            "_view_name": "StyleView",
            "description_width": ""
          }
        },
        "34de9224564248dea6323b46ca4a0d03": {
          "model_module": "@jupyter-widgets/controls",
          "model_name": "HBoxModel",
          "model_module_version": "1.5.0",
          "state": {
            "_dom_classes": [],
            "_model_module": "@jupyter-widgets/controls",
            "_model_module_version": "1.5.0",
            "_model_name": "HBoxModel",
            "_view_count": null,
            "_view_module": "@jupyter-widgets/controls",
            "_view_module_version": "1.5.0",
            "_view_name": "HBoxView",
            "box_style": "",
            "children": [
              "IPY_MODEL_bfcfb3e70c154f8f8ea662a4ead8379c",
              "IPY_MODEL_8ff6c1f0bc994cedbc1c08774f77030b",
              "IPY_MODEL_a6a1ba1739d7490896243d1717a5fb57"
            ],
            "layout": "IPY_MODEL_eec33f6074c0415b83571b5c1a16c0ea"
          }
        },
        "bfcfb3e70c154f8f8ea662a4ead8379c": {
          "model_module": "@jupyter-widgets/controls",
          "model_name": "HTMLModel",
          "model_module_version": "1.5.0",
          "state": {
            "_dom_classes": [],
            "_model_module": "@jupyter-widgets/controls",
            "_model_module_version": "1.5.0",
            "_model_name": "HTMLModel",
            "_view_count": null,
            "_view_module": "@jupyter-widgets/controls",
            "_view_module_version": "1.5.0",
            "_view_name": "HTMLView",
            "description": "",
            "description_tooltip": null,
            "layout": "IPY_MODEL_b76b10ed781b4a23bd9283e090271c9c",
            "placeholder": "​",
            "style": "IPY_MODEL_6a202bc539a2447cb2dc8a1b51824352",
            "value": "config.json: 100%"
          }
        },
        "8ff6c1f0bc994cedbc1c08774f77030b": {
          "model_module": "@jupyter-widgets/controls",
          "model_name": "FloatProgressModel",
          "model_module_version": "1.5.0",
          "state": {
            "_dom_classes": [],
            "_model_module": "@jupyter-widgets/controls",
            "_model_module_version": "1.5.0",
            "_model_name": "FloatProgressModel",
            "_view_count": null,
            "_view_module": "@jupyter-widgets/controls",
            "_view_module_version": "1.5.0",
            "_view_name": "ProgressView",
            "bar_style": "success",
            "description": "",
            "description_tooltip": null,
            "layout": "IPY_MODEL_978dba2317e9438a91e805ef9b0d127d",
            "max": 615,
            "min": 0,
            "orientation": "horizontal",
            "style": "IPY_MODEL_a02c8de2219f49d7b6e6460f62997a59",
            "value": 615
          }
        },
        "a6a1ba1739d7490896243d1717a5fb57": {
          "model_module": "@jupyter-widgets/controls",
          "model_name": "HTMLModel",
          "model_module_version": "1.5.0",
          "state": {
            "_dom_classes": [],
            "_model_module": "@jupyter-widgets/controls",
            "_model_module_version": "1.5.0",
            "_model_name": "HTMLModel",
            "_view_count": null,
            "_view_module": "@jupyter-widgets/controls",
            "_view_module_version": "1.5.0",
            "_view_name": "HTMLView",
            "description": "",
            "description_tooltip": null,
            "layout": "IPY_MODEL_c4354178e3e841479ef0d1548c21a2c0",
            "placeholder": "​",
            "style": "IPY_MODEL_f62befa45f8f4e7a8aadf96b1eed1416",
            "value": " 615/615 [00:00&lt;00:00, 31.1kB/s]"
          }
        },
        "eec33f6074c0415b83571b5c1a16c0ea": {
          "model_module": "@jupyter-widgets/base",
          "model_name": "LayoutModel",
          "model_module_version": "1.2.0",
          "state": {
            "_model_module": "@jupyter-widgets/base",
            "_model_module_version": "1.2.0",
            "_model_name": "LayoutModel",
            "_view_count": null,
            "_view_module": "@jupyter-widgets/base",
            "_view_module_version": "1.2.0",
            "_view_name": "LayoutView",
            "align_content": null,
            "align_items": null,
            "align_self": null,
            "border": null,
            "bottom": null,
            "display": null,
            "flex": null,
            "flex_flow": null,
            "grid_area": null,
            "grid_auto_columns": null,
            "grid_auto_flow": null,
            "grid_auto_rows": null,
            "grid_column": null,
            "grid_gap": null,
            "grid_row": null,
            "grid_template_areas": null,
            "grid_template_columns": null,
            "grid_template_rows": null,
            "height": null,
            "justify_content": null,
            "justify_items": null,
            "left": null,
            "margin": null,
            "max_height": null,
            "max_width": null,
            "min_height": null,
            "min_width": null,
            "object_fit": null,
            "object_position": null,
            "order": null,
            "overflow": null,
            "overflow_x": null,
            "overflow_y": null,
            "padding": null,
            "right": null,
            "top": null,
            "visibility": null,
            "width": null
          }
        },
        "b76b10ed781b4a23bd9283e090271c9c": {
          "model_module": "@jupyter-widgets/base",
          "model_name": "LayoutModel",
          "model_module_version": "1.2.0",
          "state": {
            "_model_module": "@jupyter-widgets/base",
            "_model_module_version": "1.2.0",
            "_model_name": "LayoutModel",
            "_view_count": null,
            "_view_module": "@jupyter-widgets/base",
            "_view_module_version": "1.2.0",
            "_view_name": "LayoutView",
            "align_content": null,
            "align_items": null,
            "align_self": null,
            "border": null,
            "bottom": null,
            "display": null,
            "flex": null,
            "flex_flow": null,
            "grid_area": null,
            "grid_auto_columns": null,
            "grid_auto_flow": null,
            "grid_auto_rows": null,
            "grid_column": null,
            "grid_gap": null,
            "grid_row": null,
            "grid_template_areas": null,
            "grid_template_columns": null,
            "grid_template_rows": null,
            "height": null,
            "justify_content": null,
            "justify_items": null,
            "left": null,
            "margin": null,
            "max_height": null,
            "max_width": null,
            "min_height": null,
            "min_width": null,
            "object_fit": null,
            "object_position": null,
            "order": null,
            "overflow": null,
            "overflow_x": null,
            "overflow_y": null,
            "padding": null,
            "right": null,
            "top": null,
            "visibility": null,
            "width": null
          }
        },
        "6a202bc539a2447cb2dc8a1b51824352": {
          "model_module": "@jupyter-widgets/controls",
          "model_name": "DescriptionStyleModel",
          "model_module_version": "1.5.0",
          "state": {
            "_model_module": "@jupyter-widgets/controls",
            "_model_module_version": "1.5.0",
            "_model_name": "DescriptionStyleModel",
            "_view_count": null,
            "_view_module": "@jupyter-widgets/base",
            "_view_module_version": "1.2.0",
            "_view_name": "StyleView",
            "description_width": ""
          }
        },
        "978dba2317e9438a91e805ef9b0d127d": {
          "model_module": "@jupyter-widgets/base",
          "model_name": "LayoutModel",
          "model_module_version": "1.2.0",
          "state": {
            "_model_module": "@jupyter-widgets/base",
            "_model_module_version": "1.2.0",
            "_model_name": "LayoutModel",
            "_view_count": null,
            "_view_module": "@jupyter-widgets/base",
            "_view_module_version": "1.2.0",
            "_view_name": "LayoutView",
            "align_content": null,
            "align_items": null,
            "align_self": null,
            "border": null,
            "bottom": null,
            "display": null,
            "flex": null,
            "flex_flow": null,
            "grid_area": null,
            "grid_auto_columns": null,
            "grid_auto_flow": null,
            "grid_auto_rows": null,
            "grid_column": null,
            "grid_gap": null,
            "grid_row": null,
            "grid_template_areas": null,
            "grid_template_columns": null,
            "grid_template_rows": null,
            "height": null,
            "justify_content": null,
            "justify_items": null,
            "left": null,
            "margin": null,
            "max_height": null,
            "max_width": null,
            "min_height": null,
            "min_width": null,
            "object_fit": null,
            "object_position": null,
            "order": null,
            "overflow": null,
            "overflow_x": null,
            "overflow_y": null,
            "padding": null,
            "right": null,
            "top": null,
            "visibility": null,
            "width": null
          }
        },
        "a02c8de2219f49d7b6e6460f62997a59": {
          "model_module": "@jupyter-widgets/controls",
          "model_name": "ProgressStyleModel",
          "model_module_version": "1.5.0",
          "state": {
            "_model_module": "@jupyter-widgets/controls",
            "_model_module_version": "1.5.0",
            "_model_name": "ProgressStyleModel",
            "_view_count": null,
            "_view_module": "@jupyter-widgets/base",
            "_view_module_version": "1.2.0",
            "_view_name": "StyleView",
            "bar_color": null,
            "description_width": ""
          }
        },
        "c4354178e3e841479ef0d1548c21a2c0": {
          "model_module": "@jupyter-widgets/base",
          "model_name": "LayoutModel",
          "model_module_version": "1.2.0",
          "state": {
            "_model_module": "@jupyter-widgets/base",
            "_model_module_version": "1.2.0",
            "_model_name": "LayoutModel",
            "_view_count": null,
            "_view_module": "@jupyter-widgets/base",
            "_view_module_version": "1.2.0",
            "_view_name": "LayoutView",
            "align_content": null,
            "align_items": null,
            "align_self": null,
            "border": null,
            "bottom": null,
            "display": null,
            "flex": null,
            "flex_flow": null,
            "grid_area": null,
            "grid_auto_columns": null,
            "grid_auto_flow": null,
            "grid_auto_rows": null,
            "grid_column": null,
            "grid_gap": null,
            "grid_row": null,
            "grid_template_areas": null,
            "grid_template_columns": null,
            "grid_template_rows": null,
            "height": null,
            "justify_content": null,
            "justify_items": null,
            "left": null,
            "margin": null,
            "max_height": null,
            "max_width": null,
            "min_height": null,
            "min_width": null,
            "object_fit": null,
            "object_position": null,
            "order": null,
            "overflow": null,
            "overflow_x": null,
            "overflow_y": null,
            "padding": null,
            "right": null,
            "top": null,
            "visibility": null,
            "width": null
          }
        },
        "f62befa45f8f4e7a8aadf96b1eed1416": {
          "model_module": "@jupyter-widgets/controls",
          "model_name": "DescriptionStyleModel",
          "model_module_version": "1.5.0",
          "state": {
            "_model_module": "@jupyter-widgets/controls",
            "_model_module_version": "1.5.0",
            "_model_name": "DescriptionStyleModel",
            "_view_count": null,
            "_view_module": "@jupyter-widgets/base",
            "_view_module_version": "1.2.0",
            "_view_name": "StyleView",
            "description_width": ""
          }
        },
        "241d9d0a1fcc47ebb30f63bba41577a7": {
          "model_module": "@jupyter-widgets/controls",
          "model_name": "HBoxModel",
          "model_module_version": "1.5.0",
          "state": {
            "_dom_classes": [],
            "_model_module": "@jupyter-widgets/controls",
            "_model_module_version": "1.5.0",
            "_model_name": "HBoxModel",
            "_view_count": null,
            "_view_module": "@jupyter-widgets/controls",
            "_view_module_version": "1.5.0",
            "_view_name": "HBoxView",
            "box_style": "",
            "children": [
              "IPY_MODEL_1bfb5cd5c61a4902bde3f77164fe260f",
              "IPY_MODEL_58cfbbdb4e344bc0b1d1fbc1930e1da5",
              "IPY_MODEL_463d3e956dcd4f659e560094b898d3ed"
            ],
            "layout": "IPY_MODEL_b5af3278834e458e8366f52f8c278cb0"
          }
        },
        "1bfb5cd5c61a4902bde3f77164fe260f": {
          "model_module": "@jupyter-widgets/controls",
          "model_name": "HTMLModel",
          "model_module_version": "1.5.0",
          "state": {
            "_dom_classes": [],
            "_model_module": "@jupyter-widgets/controls",
            "_model_module_version": "1.5.0",
            "_model_name": "HTMLModel",
            "_view_count": null,
            "_view_module": "@jupyter-widgets/controls",
            "_view_module_version": "1.5.0",
            "_view_name": "HTMLView",
            "description": "",
            "description_tooltip": null,
            "layout": "IPY_MODEL_fce00eb235904a1a9523c2ad919d1626",
            "placeholder": "​",
            "style": "IPY_MODEL_842b313205f4459f89bf520c56b98745",
            "value": "model.safetensors: 100%"
          }
        },
        "58cfbbdb4e344bc0b1d1fbc1930e1da5": {
          "model_module": "@jupyter-widgets/controls",
          "model_name": "FloatProgressModel",
          "model_module_version": "1.5.0",
          "state": {
            "_dom_classes": [],
            "_model_module": "@jupyter-widgets/controls",
            "_model_module_version": "1.5.0",
            "_model_name": "FloatProgressModel",
            "_view_count": null,
            "_view_module": "@jupyter-widgets/controls",
            "_view_module_version": "1.5.0",
            "_view_name": "ProgressView",
            "bar_style": "success",
            "description": "",
            "description_tooltip": null,
            "layout": "IPY_MODEL_72d52d47f6724192b5841ecf70d3bb89",
            "max": 133466304,
            "min": 0,
            "orientation": "horizontal",
            "style": "IPY_MODEL_befe793834f74751b3fb77f648531e83",
            "value": 133466304
          }
        },
        "463d3e956dcd4f659e560094b898d3ed": {
          "model_module": "@jupyter-widgets/controls",
          "model_name": "HTMLModel",
          "model_module_version": "1.5.0",
          "state": {
            "_dom_classes": [],
            "_model_module": "@jupyter-widgets/controls",
            "_model_module_version": "1.5.0",
            "_model_name": "HTMLModel",
            "_view_count": null,
            "_view_module": "@jupyter-widgets/controls",
            "_view_module_version": "1.5.0",
            "_view_name": "HTMLView",
            "description": "",
            "description_tooltip": null,
            "layout": "IPY_MODEL_12d88f6eebeb43f399105cd786a72c2b",
            "placeholder": "​",
            "style": "IPY_MODEL_37f00f0274f246fcbb3b6fd5e8f45384",
            "value": " 133M/133M [00:02&lt;00:00, 86.0MB/s]"
          }
        },
        "b5af3278834e458e8366f52f8c278cb0": {
          "model_module": "@jupyter-widgets/base",
          "model_name": "LayoutModel",
          "model_module_version": "1.2.0",
          "state": {
            "_model_module": "@jupyter-widgets/base",
            "_model_module_version": "1.2.0",
            "_model_name": "LayoutModel",
            "_view_count": null,
            "_view_module": "@jupyter-widgets/base",
            "_view_module_version": "1.2.0",
            "_view_name": "LayoutView",
            "align_content": null,
            "align_items": null,
            "align_self": null,
            "border": null,
            "bottom": null,
            "display": null,
            "flex": null,
            "flex_flow": null,
            "grid_area": null,
            "grid_auto_columns": null,
            "grid_auto_flow": null,
            "grid_auto_rows": null,
            "grid_column": null,
            "grid_gap": null,
            "grid_row": null,
            "grid_template_areas": null,
            "grid_template_columns": null,
            "grid_template_rows": null,
            "height": null,
            "justify_content": null,
            "justify_items": null,
            "left": null,
            "margin": null,
            "max_height": null,
            "max_width": null,
            "min_height": null,
            "min_width": null,
            "object_fit": null,
            "object_position": null,
            "order": null,
            "overflow": null,
            "overflow_x": null,
            "overflow_y": null,
            "padding": null,
            "right": null,
            "top": null,
            "visibility": null,
            "width": null
          }
        },
        "fce00eb235904a1a9523c2ad919d1626": {
          "model_module": "@jupyter-widgets/base",
          "model_name": "LayoutModel",
          "model_module_version": "1.2.0",
          "state": {
            "_model_module": "@jupyter-widgets/base",
            "_model_module_version": "1.2.0",
            "_model_name": "LayoutModel",
            "_view_count": null,
            "_view_module": "@jupyter-widgets/base",
            "_view_module_version": "1.2.0",
            "_view_name": "LayoutView",
            "align_content": null,
            "align_items": null,
            "align_self": null,
            "border": null,
            "bottom": null,
            "display": null,
            "flex": null,
            "flex_flow": null,
            "grid_area": null,
            "grid_auto_columns": null,
            "grid_auto_flow": null,
            "grid_auto_rows": null,
            "grid_column": null,
            "grid_gap": null,
            "grid_row": null,
            "grid_template_areas": null,
            "grid_template_columns": null,
            "grid_template_rows": null,
            "height": null,
            "justify_content": null,
            "justify_items": null,
            "left": null,
            "margin": null,
            "max_height": null,
            "max_width": null,
            "min_height": null,
            "min_width": null,
            "object_fit": null,
            "object_position": null,
            "order": null,
            "overflow": null,
            "overflow_x": null,
            "overflow_y": null,
            "padding": null,
            "right": null,
            "top": null,
            "visibility": null,
            "width": null
          }
        },
        "842b313205f4459f89bf520c56b98745": {
          "model_module": "@jupyter-widgets/controls",
          "model_name": "DescriptionStyleModel",
          "model_module_version": "1.5.0",
          "state": {
            "_model_module": "@jupyter-widgets/controls",
            "_model_module_version": "1.5.0",
            "_model_name": "DescriptionStyleModel",
            "_view_count": null,
            "_view_module": "@jupyter-widgets/base",
            "_view_module_version": "1.2.0",
            "_view_name": "StyleView",
            "description_width": ""
          }
        },
        "72d52d47f6724192b5841ecf70d3bb89": {
          "model_module": "@jupyter-widgets/base",
          "model_name": "LayoutModel",
          "model_module_version": "1.2.0",
          "state": {
            "_model_module": "@jupyter-widgets/base",
            "_model_module_version": "1.2.0",
            "_model_name": "LayoutModel",
            "_view_count": null,
            "_view_module": "@jupyter-widgets/base",
            "_view_module_version": "1.2.0",
            "_view_name": "LayoutView",
            "align_content": null,
            "align_items": null,
            "align_self": null,
            "border": null,
            "bottom": null,
            "display": null,
            "flex": null,
            "flex_flow": null,
            "grid_area": null,
            "grid_auto_columns": null,
            "grid_auto_flow": null,
            "grid_auto_rows": null,
            "grid_column": null,
            "grid_gap": null,
            "grid_row": null,
            "grid_template_areas": null,
            "grid_template_columns": null,
            "grid_template_rows": null,
            "height": null,
            "justify_content": null,
            "justify_items": null,
            "left": null,
            "margin": null,
            "max_height": null,
            "max_width": null,
            "min_height": null,
            "min_width": null,
            "object_fit": null,
            "object_position": null,
            "order": null,
            "overflow": null,
            "overflow_x": null,
            "overflow_y": null,
            "padding": null,
            "right": null,
            "top": null,
            "visibility": null,
            "width": null
          }
        },
        "befe793834f74751b3fb77f648531e83": {
          "model_module": "@jupyter-widgets/controls",
          "model_name": "ProgressStyleModel",
          "model_module_version": "1.5.0",
          "state": {
            "_model_module": "@jupyter-widgets/controls",
            "_model_module_version": "1.5.0",
            "_model_name": "ProgressStyleModel",
            "_view_count": null,
            "_view_module": "@jupyter-widgets/base",
            "_view_module_version": "1.2.0",
            "_view_name": "StyleView",
            "bar_color": null,
            "description_width": ""
          }
        },
        "12d88f6eebeb43f399105cd786a72c2b": {
          "model_module": "@jupyter-widgets/base",
          "model_name": "LayoutModel",
          "model_module_version": "1.2.0",
          "state": {
            "_model_module": "@jupyter-widgets/base",
            "_model_module_version": "1.2.0",
            "_model_name": "LayoutModel",
            "_view_count": null,
            "_view_module": "@jupyter-widgets/base",
            "_view_module_version": "1.2.0",
            "_view_name": "LayoutView",
            "align_content": null,
            "align_items": null,
            "align_self": null,
            "border": null,
            "bottom": null,
            "display": null,
            "flex": null,
            "flex_flow": null,
            "grid_area": null,
            "grid_auto_columns": null,
            "grid_auto_flow": null,
            "grid_auto_rows": null,
            "grid_column": null,
            "grid_gap": null,
            "grid_row": null,
            "grid_template_areas": null,
            "grid_template_columns": null,
            "grid_template_rows": null,
            "height": null,
            "justify_content": null,
            "justify_items": null,
            "left": null,
            "margin": null,
            "max_height": null,
            "max_width": null,
            "min_height": null,
            "min_width": null,
            "object_fit": null,
            "object_position": null,
            "order": null,
            "overflow": null,
            "overflow_x": null,
            "overflow_y": null,
            "padding": null,
            "right": null,
            "top": null,
            "visibility": null,
            "width": null
          }
        },
        "37f00f0274f246fcbb3b6fd5e8f45384": {
          "model_module": "@jupyter-widgets/controls",
          "model_name": "DescriptionStyleModel",
          "model_module_version": "1.5.0",
          "state": {
            "_model_module": "@jupyter-widgets/controls",
            "_model_module_version": "1.5.0",
            "_model_name": "DescriptionStyleModel",
            "_view_count": null,
            "_view_module": "@jupyter-widgets/base",
            "_view_module_version": "1.2.0",
            "_view_name": "StyleView",
            "description_width": ""
          }
        },
        "0700a3071c28400f86acd36060e402f0": {
          "model_module": "@jupyter-widgets/controls",
          "model_name": "HBoxModel",
          "model_module_version": "1.5.0",
          "state": {
            "_dom_classes": [],
            "_model_module": "@jupyter-widgets/controls",
            "_model_module_version": "1.5.0",
            "_model_name": "HBoxModel",
            "_view_count": null,
            "_view_module": "@jupyter-widgets/controls",
            "_view_module_version": "1.5.0",
            "_view_name": "HBoxView",
            "box_style": "",
            "children": [
              "IPY_MODEL_3ed1e0249b8841b6ac30eeff57a4d7c3",
              "IPY_MODEL_b78efd52e9e7411a9fdfe4b416fa417c",
              "IPY_MODEL_639d649e1fdf43ef878277cabfeb68ab"
            ],
            "layout": "IPY_MODEL_8ab516505955486da98990751e3cd0f3"
          }
        },
        "3ed1e0249b8841b6ac30eeff57a4d7c3": {
          "model_module": "@jupyter-widgets/controls",
          "model_name": "HTMLModel",
          "model_module_version": "1.5.0",
          "state": {
            "_dom_classes": [],
            "_model_module": "@jupyter-widgets/controls",
            "_model_module_version": "1.5.0",
            "_model_name": "HTMLModel",
            "_view_count": null,
            "_view_module": "@jupyter-widgets/controls",
            "_view_module_version": "1.5.0",
            "_view_name": "HTMLView",
            "description": "",
            "description_tooltip": null,
            "layout": "IPY_MODEL_a436d237eab94fdaaf07a4e5d3568d4d",
            "placeholder": "​",
            "style": "IPY_MODEL_9a9f1b6232ac4b0f9f794f6e0cacc72b",
            "value": "tokenizer_config.json: 100%"
          }
        },
        "b78efd52e9e7411a9fdfe4b416fa417c": {
          "model_module": "@jupyter-widgets/controls",
          "model_name": "FloatProgressModel",
          "model_module_version": "1.5.0",
          "state": {
            "_dom_classes": [],
            "_model_module": "@jupyter-widgets/controls",
            "_model_module_version": "1.5.0",
            "_model_name": "FloatProgressModel",
            "_view_count": null,
            "_view_module": "@jupyter-widgets/controls",
            "_view_module_version": "1.5.0",
            "_view_name": "ProgressView",
            "bar_style": "success",
            "description": "",
            "description_tooltip": null,
            "layout": "IPY_MODEL_95c13dc6fe9948eca43e489da1435e85",
            "max": 352,
            "min": 0,
            "orientation": "horizontal",
            "style": "IPY_MODEL_558efb3aed7e4de688fa1024564742b5",
            "value": 352
          }
        },
        "639d649e1fdf43ef878277cabfeb68ab": {
          "model_module": "@jupyter-widgets/controls",
          "model_name": "HTMLModel",
          "model_module_version": "1.5.0",
          "state": {
            "_dom_classes": [],
            "_model_module": "@jupyter-widgets/controls",
            "_model_module_version": "1.5.0",
            "_model_name": "HTMLModel",
            "_view_count": null,
            "_view_module": "@jupyter-widgets/controls",
            "_view_module_version": "1.5.0",
            "_view_name": "HTMLView",
            "description": "",
            "description_tooltip": null,
            "layout": "IPY_MODEL_efed31b8acc144d9b278abb265f5a285",
            "placeholder": "​",
            "style": "IPY_MODEL_8a63264d792a4fa1b9605cd62cdc43b6",
            "value": " 352/352 [00:00&lt;00:00, 37.6kB/s]"
          }
        },
        "8ab516505955486da98990751e3cd0f3": {
          "model_module": "@jupyter-widgets/base",
          "model_name": "LayoutModel",
          "model_module_version": "1.2.0",
          "state": {
            "_model_module": "@jupyter-widgets/base",
            "_model_module_version": "1.2.0",
            "_model_name": "LayoutModel",
            "_view_count": null,
            "_view_module": "@jupyter-widgets/base",
            "_view_module_version": "1.2.0",
            "_view_name": "LayoutView",
            "align_content": null,
            "align_items": null,
            "align_self": null,
            "border": null,
            "bottom": null,
            "display": null,
            "flex": null,
            "flex_flow": null,
            "grid_area": null,
            "grid_auto_columns": null,
            "grid_auto_flow": null,
            "grid_auto_rows": null,
            "grid_column": null,
            "grid_gap": null,
            "grid_row": null,
            "grid_template_areas": null,
            "grid_template_columns": null,
            "grid_template_rows": null,
            "height": null,
            "justify_content": null,
            "justify_items": null,
            "left": null,
            "margin": null,
            "max_height": null,
            "max_width": null,
            "min_height": null,
            "min_width": null,
            "object_fit": null,
            "object_position": null,
            "order": null,
            "overflow": null,
            "overflow_x": null,
            "overflow_y": null,
            "padding": null,
            "right": null,
            "top": null,
            "visibility": null,
            "width": null
          }
        },
        "a436d237eab94fdaaf07a4e5d3568d4d": {
          "model_module": "@jupyter-widgets/base",
          "model_name": "LayoutModel",
          "model_module_version": "1.2.0",
          "state": {
            "_model_module": "@jupyter-widgets/base",
            "_model_module_version": "1.2.0",
            "_model_name": "LayoutModel",
            "_view_count": null,
            "_view_module": "@jupyter-widgets/base",
            "_view_module_version": "1.2.0",
            "_view_name": "LayoutView",
            "align_content": null,
            "align_items": null,
            "align_self": null,
            "border": null,
            "bottom": null,
            "display": null,
            "flex": null,
            "flex_flow": null,
            "grid_area": null,
            "grid_auto_columns": null,
            "grid_auto_flow": null,
            "grid_auto_rows": null,
            "grid_column": null,
            "grid_gap": null,
            "grid_row": null,
            "grid_template_areas": null,
            "grid_template_columns": null,
            "grid_template_rows": null,
            "height": null,
            "justify_content": null,
            "justify_items": null,
            "left": null,
            "margin": null,
            "max_height": null,
            "max_width": null,
            "min_height": null,
            "min_width": null,
            "object_fit": null,
            "object_position": null,
            "order": null,
            "overflow": null,
            "overflow_x": null,
            "overflow_y": null,
            "padding": null,
            "right": null,
            "top": null,
            "visibility": null,
            "width": null
          }
        },
        "9a9f1b6232ac4b0f9f794f6e0cacc72b": {
          "model_module": "@jupyter-widgets/controls",
          "model_name": "DescriptionStyleModel",
          "model_module_version": "1.5.0",
          "state": {
            "_model_module": "@jupyter-widgets/controls",
            "_model_module_version": "1.5.0",
            "_model_name": "DescriptionStyleModel",
            "_view_count": null,
            "_view_module": "@jupyter-widgets/base",
            "_view_module_version": "1.2.0",
            "_view_name": "StyleView",
            "description_width": ""
          }
        },
        "95c13dc6fe9948eca43e489da1435e85": {
          "model_module": "@jupyter-widgets/base",
          "model_name": "LayoutModel",
          "model_module_version": "1.2.0",
          "state": {
            "_model_module": "@jupyter-widgets/base",
            "_model_module_version": "1.2.0",
            "_model_name": "LayoutModel",
            "_view_count": null,
            "_view_module": "@jupyter-widgets/base",
            "_view_module_version": "1.2.0",
            "_view_name": "LayoutView",
            "align_content": null,
            "align_items": null,
            "align_self": null,
            "border": null,
            "bottom": null,
            "display": null,
            "flex": null,
            "flex_flow": null,
            "grid_area": null,
            "grid_auto_columns": null,
            "grid_auto_flow": null,
            "grid_auto_rows": null,
            "grid_column": null,
            "grid_gap": null,
            "grid_row": null,
            "grid_template_areas": null,
            "grid_template_columns": null,
            "grid_template_rows": null,
            "height": null,
            "justify_content": null,
            "justify_items": null,
            "left": null,
            "margin": null,
            "max_height": null,
            "max_width": null,
            "min_height": null,
            "min_width": null,
            "object_fit": null,
            "object_position": null,
            "order": null,
            "overflow": null,
            "overflow_x": null,
            "overflow_y": null,
            "padding": null,
            "right": null,
            "top": null,
            "visibility": null,
            "width": null
          }
        },
        "558efb3aed7e4de688fa1024564742b5": {
          "model_module": "@jupyter-widgets/controls",
          "model_name": "ProgressStyleModel",
          "model_module_version": "1.5.0",
          "state": {
            "_model_module": "@jupyter-widgets/controls",
            "_model_module_version": "1.5.0",
            "_model_name": "ProgressStyleModel",
            "_view_count": null,
            "_view_module": "@jupyter-widgets/base",
            "_view_module_version": "1.2.0",
            "_view_name": "StyleView",
            "bar_color": null,
            "description_width": ""
          }
        },
        "efed31b8acc144d9b278abb265f5a285": {
          "model_module": "@jupyter-widgets/base",
          "model_name": "LayoutModel",
          "model_module_version": "1.2.0",
          "state": {
            "_model_module": "@jupyter-widgets/base",
            "_model_module_version": "1.2.0",
            "_model_name": "LayoutModel",
            "_view_count": null,
            "_view_module": "@jupyter-widgets/base",
            "_view_module_version": "1.2.0",
            "_view_name": "LayoutView",
            "align_content": null,
            "align_items": null,
            "align_self": null,
            "border": null,
            "bottom": null,
            "display": null,
            "flex": null,
            "flex_flow": null,
            "grid_area": null,
            "grid_auto_columns": null,
            "grid_auto_flow": null,
            "grid_auto_rows": null,
            "grid_column": null,
            "grid_gap": null,
            "grid_row": null,
            "grid_template_areas": null,
            "grid_template_columns": null,
            "grid_template_rows": null,
            "height": null,
            "justify_content": null,
            "justify_items": null,
            "left": null,
            "margin": null,
            "max_height": null,
            "max_width": null,
            "min_height": null,
            "min_width": null,
            "object_fit": null,
            "object_position": null,
            "order": null,
            "overflow": null,
            "overflow_x": null,
            "overflow_y": null,
            "padding": null,
            "right": null,
            "top": null,
            "visibility": null,
            "width": null
          }
        },
        "8a63264d792a4fa1b9605cd62cdc43b6": {
          "model_module": "@jupyter-widgets/controls",
          "model_name": "DescriptionStyleModel",
          "model_module_version": "1.5.0",
          "state": {
            "_model_module": "@jupyter-widgets/controls",
            "_model_module_version": "1.5.0",
            "_model_name": "DescriptionStyleModel",
            "_view_count": null,
            "_view_module": "@jupyter-widgets/base",
            "_view_module_version": "1.2.0",
            "_view_name": "StyleView",
            "description_width": ""
          }
        },
        "88ae8cc9e825478eb8c9934fc53652a6": {
          "model_module": "@jupyter-widgets/controls",
          "model_name": "HBoxModel",
          "model_module_version": "1.5.0",
          "state": {
            "_dom_classes": [],
            "_model_module": "@jupyter-widgets/controls",
            "_model_module_version": "1.5.0",
            "_model_name": "HBoxModel",
            "_view_count": null,
            "_view_module": "@jupyter-widgets/controls",
            "_view_module_version": "1.5.0",
            "_view_name": "HBoxView",
            "box_style": "",
            "children": [
              "IPY_MODEL_ccd6215fd62c4153af6632f1bdbac277",
              "IPY_MODEL_9908d0d6c01443dbb266d03e08e861f3",
              "IPY_MODEL_aee6de44098b462881501b9b0bce788c"
            ],
            "layout": "IPY_MODEL_4b185eac5d1d47f39cb45928677a5d8a"
          }
        },
        "ccd6215fd62c4153af6632f1bdbac277": {
          "model_module": "@jupyter-widgets/controls",
          "model_name": "HTMLModel",
          "model_module_version": "1.5.0",
          "state": {
            "_dom_classes": [],
            "_model_module": "@jupyter-widgets/controls",
            "_model_module_version": "1.5.0",
            "_model_name": "HTMLModel",
            "_view_count": null,
            "_view_module": "@jupyter-widgets/controls",
            "_view_module_version": "1.5.0",
            "_view_name": "HTMLView",
            "description": "",
            "description_tooltip": null,
            "layout": "IPY_MODEL_892ff56c0d0b407ea0e9259c1c907fce",
            "placeholder": "​",
            "style": "IPY_MODEL_468f90d620464c3f946d67a2773d4f23",
            "value": "vocab.txt: 100%"
          }
        },
        "9908d0d6c01443dbb266d03e08e861f3": {
          "model_module": "@jupyter-widgets/controls",
          "model_name": "FloatProgressModel",
          "model_module_version": "1.5.0",
          "state": {
            "_dom_classes": [],
            "_model_module": "@jupyter-widgets/controls",
            "_model_module_version": "1.5.0",
            "_model_name": "FloatProgressModel",
            "_view_count": null,
            "_view_module": "@jupyter-widgets/controls",
            "_view_module_version": "1.5.0",
            "_view_name": "ProgressView",
            "bar_style": "success",
            "description": "",
            "description_tooltip": null,
            "layout": "IPY_MODEL_49cce0a0219c4579902b755f007cb96e",
            "max": 231508,
            "min": 0,
            "orientation": "horizontal",
            "style": "IPY_MODEL_bfe42e35e3344dc3b4d3718b4c1d29a5",
            "value": 231508
          }
        },
        "aee6de44098b462881501b9b0bce788c": {
          "model_module": "@jupyter-widgets/controls",
          "model_name": "HTMLModel",
          "model_module_version": "1.5.0",
          "state": {
            "_dom_classes": [],
            "_model_module": "@jupyter-widgets/controls",
            "_model_module_version": "1.5.0",
            "_model_name": "HTMLModel",
            "_view_count": null,
            "_view_module": "@jupyter-widgets/controls",
            "_view_module_version": "1.5.0",
            "_view_name": "HTMLView",
            "description": "",
            "description_tooltip": null,
            "layout": "IPY_MODEL_0c942fd1557643a4bf28f1206fa00fd5",
            "placeholder": "​",
            "style": "IPY_MODEL_26de118bd9534d7ca44be9fea359354b",
            "value": " 232k/232k [00:00&lt;00:00, 2.97MB/s]"
          }
        },
        "4b185eac5d1d47f39cb45928677a5d8a": {
          "model_module": "@jupyter-widgets/base",
          "model_name": "LayoutModel",
          "model_module_version": "1.2.0",
          "state": {
            "_model_module": "@jupyter-widgets/base",
            "_model_module_version": "1.2.0",
            "_model_name": "LayoutModel",
            "_view_count": null,
            "_view_module": "@jupyter-widgets/base",
            "_view_module_version": "1.2.0",
            "_view_name": "LayoutView",
            "align_content": null,
            "align_items": null,
            "align_self": null,
            "border": null,
            "bottom": null,
            "display": null,
            "flex": null,
            "flex_flow": null,
            "grid_area": null,
            "grid_auto_columns": null,
            "grid_auto_flow": null,
            "grid_auto_rows": null,
            "grid_column": null,
            "grid_gap": null,
            "grid_row": null,
            "grid_template_areas": null,
            "grid_template_columns": null,
            "grid_template_rows": null,
            "height": null,
            "justify_content": null,
            "justify_items": null,
            "left": null,
            "margin": null,
            "max_height": null,
            "max_width": null,
            "min_height": null,
            "min_width": null,
            "object_fit": null,
            "object_position": null,
            "order": null,
            "overflow": null,
            "overflow_x": null,
            "overflow_y": null,
            "padding": null,
            "right": null,
            "top": null,
            "visibility": null,
            "width": null
          }
        },
        "892ff56c0d0b407ea0e9259c1c907fce": {
          "model_module": "@jupyter-widgets/base",
          "model_name": "LayoutModel",
          "model_module_version": "1.2.0",
          "state": {
            "_model_module": "@jupyter-widgets/base",
            "_model_module_version": "1.2.0",
            "_model_name": "LayoutModel",
            "_view_count": null,
            "_view_module": "@jupyter-widgets/base",
            "_view_module_version": "1.2.0",
            "_view_name": "LayoutView",
            "align_content": null,
            "align_items": null,
            "align_self": null,
            "border": null,
            "bottom": null,
            "display": null,
            "flex": null,
            "flex_flow": null,
            "grid_area": null,
            "grid_auto_columns": null,
            "grid_auto_flow": null,
            "grid_auto_rows": null,
            "grid_column": null,
            "grid_gap": null,
            "grid_row": null,
            "grid_template_areas": null,
            "grid_template_columns": null,
            "grid_template_rows": null,
            "height": null,
            "justify_content": null,
            "justify_items": null,
            "left": null,
            "margin": null,
            "max_height": null,
            "max_width": null,
            "min_height": null,
            "min_width": null,
            "object_fit": null,
            "object_position": null,
            "order": null,
            "overflow": null,
            "overflow_x": null,
            "overflow_y": null,
            "padding": null,
            "right": null,
            "top": null,
            "visibility": null,
            "width": null
          }
        },
        "468f90d620464c3f946d67a2773d4f23": {
          "model_module": "@jupyter-widgets/controls",
          "model_name": "DescriptionStyleModel",
          "model_module_version": "1.5.0",
          "state": {
            "_model_module": "@jupyter-widgets/controls",
            "_model_module_version": "1.5.0",
            "_model_name": "DescriptionStyleModel",
            "_view_count": null,
            "_view_module": "@jupyter-widgets/base",
            "_view_module_version": "1.2.0",
            "_view_name": "StyleView",
            "description_width": ""
          }
        },
        "49cce0a0219c4579902b755f007cb96e": {
          "model_module": "@jupyter-widgets/base",
          "model_name": "LayoutModel",
          "model_module_version": "1.2.0",
          "state": {
            "_model_module": "@jupyter-widgets/base",
            "_model_module_version": "1.2.0",
            "_model_name": "LayoutModel",
            "_view_count": null,
            "_view_module": "@jupyter-widgets/base",
            "_view_module_version": "1.2.0",
            "_view_name": "LayoutView",
            "align_content": null,
            "align_items": null,
            "align_self": null,
            "border": null,
            "bottom": null,
            "display": null,
            "flex": null,
            "flex_flow": null,
            "grid_area": null,
            "grid_auto_columns": null,
            "grid_auto_flow": null,
            "grid_auto_rows": null,
            "grid_column": null,
            "grid_gap": null,
            "grid_row": null,
            "grid_template_areas": null,
            "grid_template_columns": null,
            "grid_template_rows": null,
            "height": null,
            "justify_content": null,
            "justify_items": null,
            "left": null,
            "margin": null,
            "max_height": null,
            "max_width": null,
            "min_height": null,
            "min_width": null,
            "object_fit": null,
            "object_position": null,
            "order": null,
            "overflow": null,
            "overflow_x": null,
            "overflow_y": null,
            "padding": null,
            "right": null,
            "top": null,
            "visibility": null,
            "width": null
          }
        },
        "bfe42e35e3344dc3b4d3718b4c1d29a5": {
          "model_module": "@jupyter-widgets/controls",
          "model_name": "ProgressStyleModel",
          "model_module_version": "1.5.0",
          "state": {
            "_model_module": "@jupyter-widgets/controls",
            "_model_module_version": "1.5.0",
            "_model_name": "ProgressStyleModel",
            "_view_count": null,
            "_view_module": "@jupyter-widgets/base",
            "_view_module_version": "1.2.0",
            "_view_name": "StyleView",
            "bar_color": null,
            "description_width": ""
          }
        },
        "0c942fd1557643a4bf28f1206fa00fd5": {
          "model_module": "@jupyter-widgets/base",
          "model_name": "LayoutModel",
          "model_module_version": "1.2.0",
          "state": {
            "_model_module": "@jupyter-widgets/base",
            "_model_module_version": "1.2.0",
            "_model_name": "LayoutModel",
            "_view_count": null,
            "_view_module": "@jupyter-widgets/base",
            "_view_module_version": "1.2.0",
            "_view_name": "LayoutView",
            "align_content": null,
            "align_items": null,
            "align_self": null,
            "border": null,
            "bottom": null,
            "display": null,
            "flex": null,
            "flex_flow": null,
            "grid_area": null,
            "grid_auto_columns": null,
            "grid_auto_flow": null,
            "grid_auto_rows": null,
            "grid_column": null,
            "grid_gap": null,
            "grid_row": null,
            "grid_template_areas": null,
            "grid_template_columns": null,
            "grid_template_rows": null,
            "height": null,
            "justify_content": null,
            "justify_items": null,
            "left": null,
            "margin": null,
            "max_height": null,
            "max_width": null,
            "min_height": null,
            "min_width": null,
            "object_fit": null,
            "object_position": null,
            "order": null,
            "overflow": null,
            "overflow_x": null,
            "overflow_y": null,
            "padding": null,
            "right": null,
            "top": null,
            "visibility": null,
            "width": null
          }
        },
        "26de118bd9534d7ca44be9fea359354b": {
          "model_module": "@jupyter-widgets/controls",
          "model_name": "DescriptionStyleModel",
          "model_module_version": "1.5.0",
          "state": {
            "_model_module": "@jupyter-widgets/controls",
            "_model_module_version": "1.5.0",
            "_model_name": "DescriptionStyleModel",
            "_view_count": null,
            "_view_module": "@jupyter-widgets/base",
            "_view_module_version": "1.2.0",
            "_view_name": "StyleView",
            "description_width": ""
          }
        },
        "9445a23ce3ce467d80b8c2cabefe8fc1": {
          "model_module": "@jupyter-widgets/controls",
          "model_name": "HBoxModel",
          "model_module_version": "1.5.0",
          "state": {
            "_dom_classes": [],
            "_model_module": "@jupyter-widgets/controls",
            "_model_module_version": "1.5.0",
            "_model_name": "HBoxModel",
            "_view_count": null,
            "_view_module": "@jupyter-widgets/controls",
            "_view_module_version": "1.5.0",
            "_view_name": "HBoxView",
            "box_style": "",
            "children": [
              "IPY_MODEL_73a2ae1b98c042f4a97d66cba7108e62",
              "IPY_MODEL_fae04fbd00b542499087443766f67ad2",
              "IPY_MODEL_2bfa69ad7e8343e1b1f6425caa61be2e"
            ],
            "layout": "IPY_MODEL_a714723ad1404c469b8683e3273a1415"
          }
        },
        "73a2ae1b98c042f4a97d66cba7108e62": {
          "model_module": "@jupyter-widgets/controls",
          "model_name": "HTMLModel",
          "model_module_version": "1.5.0",
          "state": {
            "_dom_classes": [],
            "_model_module": "@jupyter-widgets/controls",
            "_model_module_version": "1.5.0",
            "_model_name": "HTMLModel",
            "_view_count": null,
            "_view_module": "@jupyter-widgets/controls",
            "_view_module_version": "1.5.0",
            "_view_name": "HTMLView",
            "description": "",
            "description_tooltip": null,
            "layout": "IPY_MODEL_861d5078342b4be6948a1bb87c151ebb",
            "placeholder": "​",
            "style": "IPY_MODEL_879c16d1e91240d89e6431b7203ba0a1",
            "value": "tokenizer.json: 100%"
          }
        },
        "fae04fbd00b542499087443766f67ad2": {
          "model_module": "@jupyter-widgets/controls",
          "model_name": "FloatProgressModel",
          "model_module_version": "1.5.0",
          "state": {
            "_dom_classes": [],
            "_model_module": "@jupyter-widgets/controls",
            "_model_module_version": "1.5.0",
            "_model_name": "FloatProgressModel",
            "_view_count": null,
            "_view_module": "@jupyter-widgets/controls",
            "_view_module_version": "1.5.0",
            "_view_name": "ProgressView",
            "bar_style": "success",
            "description": "",
            "description_tooltip": null,
            "layout": "IPY_MODEL_a52eef888c8f4405951744d03d1622c2",
            "max": 466247,
            "min": 0,
            "orientation": "horizontal",
            "style": "IPY_MODEL_35892c81d52f46b9a4b7a33160f03c56",
            "value": 466247
          }
        },
        "2bfa69ad7e8343e1b1f6425caa61be2e": {
          "model_module": "@jupyter-widgets/controls",
          "model_name": "HTMLModel",
          "model_module_version": "1.5.0",
          "state": {
            "_dom_classes": [],
            "_model_module": "@jupyter-widgets/controls",
            "_model_module_version": "1.5.0",
            "_model_name": "HTMLModel",
            "_view_count": null,
            "_view_module": "@jupyter-widgets/controls",
            "_view_module_version": "1.5.0",
            "_view_name": "HTMLView",
            "description": "",
            "description_tooltip": null,
            "layout": "IPY_MODEL_88c63e5d2b834a119ceea63282d3c4a3",
            "placeholder": "​",
            "style": "IPY_MODEL_3be34001677842079c761450eed3935b",
            "value": " 466k/466k [00:00&lt;00:00, 5.90MB/s]"
          }
        },
        "a714723ad1404c469b8683e3273a1415": {
          "model_module": "@jupyter-widgets/base",
          "model_name": "LayoutModel",
          "model_module_version": "1.2.0",
          "state": {
            "_model_module": "@jupyter-widgets/base",
            "_model_module_version": "1.2.0",
            "_model_name": "LayoutModel",
            "_view_count": null,
            "_view_module": "@jupyter-widgets/base",
            "_view_module_version": "1.2.0",
            "_view_name": "LayoutView",
            "align_content": null,
            "align_items": null,
            "align_self": null,
            "border": null,
            "bottom": null,
            "display": null,
            "flex": null,
            "flex_flow": null,
            "grid_area": null,
            "grid_auto_columns": null,
            "grid_auto_flow": null,
            "grid_auto_rows": null,
            "grid_column": null,
            "grid_gap": null,
            "grid_row": null,
            "grid_template_areas": null,
            "grid_template_columns": null,
            "grid_template_rows": null,
            "height": null,
            "justify_content": null,
            "justify_items": null,
            "left": null,
            "margin": null,
            "max_height": null,
            "max_width": null,
            "min_height": null,
            "min_width": null,
            "object_fit": null,
            "object_position": null,
            "order": null,
            "overflow": null,
            "overflow_x": null,
            "overflow_y": null,
            "padding": null,
            "right": null,
            "top": null,
            "visibility": null,
            "width": null
          }
        },
        "861d5078342b4be6948a1bb87c151ebb": {
          "model_module": "@jupyter-widgets/base",
          "model_name": "LayoutModel",
          "model_module_version": "1.2.0",
          "state": {
            "_model_module": "@jupyter-widgets/base",
            "_model_module_version": "1.2.0",
            "_model_name": "LayoutModel",
            "_view_count": null,
            "_view_module": "@jupyter-widgets/base",
            "_view_module_version": "1.2.0",
            "_view_name": "LayoutView",
            "align_content": null,
            "align_items": null,
            "align_self": null,
            "border": null,
            "bottom": null,
            "display": null,
            "flex": null,
            "flex_flow": null,
            "grid_area": null,
            "grid_auto_columns": null,
            "grid_auto_flow": null,
            "grid_auto_rows": null,
            "grid_column": null,
            "grid_gap": null,
            "grid_row": null,
            "grid_template_areas": null,
            "grid_template_columns": null,
            "grid_template_rows": null,
            "height": null,
            "justify_content": null,
            "justify_items": null,
            "left": null,
            "margin": null,
            "max_height": null,
            "max_width": null,
            "min_height": null,
            "min_width": null,
            "object_fit": null,
            "object_position": null,
            "order": null,
            "overflow": null,
            "overflow_x": null,
            "overflow_y": null,
            "padding": null,
            "right": null,
            "top": null,
            "visibility": null,
            "width": null
          }
        },
        "879c16d1e91240d89e6431b7203ba0a1": {
          "model_module": "@jupyter-widgets/controls",
          "model_name": "DescriptionStyleModel",
          "model_module_version": "1.5.0",
          "state": {
            "_model_module": "@jupyter-widgets/controls",
            "_model_module_version": "1.5.0",
            "_model_name": "DescriptionStyleModel",
            "_view_count": null,
            "_view_module": "@jupyter-widgets/base",
            "_view_module_version": "1.2.0",
            "_view_name": "StyleView",
            "description_width": ""
          }
        },
        "a52eef888c8f4405951744d03d1622c2": {
          "model_module": "@jupyter-widgets/base",
          "model_name": "LayoutModel",
          "model_module_version": "1.2.0",
          "state": {
            "_model_module": "@jupyter-widgets/base",
            "_model_module_version": "1.2.0",
            "_model_name": "LayoutModel",
            "_view_count": null,
            "_view_module": "@jupyter-widgets/base",
            "_view_module_version": "1.2.0",
            "_view_name": "LayoutView",
            "align_content": null,
            "align_items": null,
            "align_self": null,
            "border": null,
            "bottom": null,
            "display": null,
            "flex": null,
            "flex_flow": null,
            "grid_area": null,
            "grid_auto_columns": null,
            "grid_auto_flow": null,
            "grid_auto_rows": null,
            "grid_column": null,
            "grid_gap": null,
            "grid_row": null,
            "grid_template_areas": null,
            "grid_template_columns": null,
            "grid_template_rows": null,
            "height": null,
            "justify_content": null,
            "justify_items": null,
            "left": null,
            "margin": null,
            "max_height": null,
            "max_width": null,
            "min_height": null,
            "min_width": null,
            "object_fit": null,
            "object_position": null,
            "order": null,
            "overflow": null,
            "overflow_x": null,
            "overflow_y": null,
            "padding": null,
            "right": null,
            "top": null,
            "visibility": null,
            "width": null
          }
        },
        "35892c81d52f46b9a4b7a33160f03c56": {
          "model_module": "@jupyter-widgets/controls",
          "model_name": "ProgressStyleModel",
          "model_module_version": "1.5.0",
          "state": {
            "_model_module": "@jupyter-widgets/controls",
            "_model_module_version": "1.5.0",
            "_model_name": "ProgressStyleModel",
            "_view_count": null,
            "_view_module": "@jupyter-widgets/base",
            "_view_module_version": "1.2.0",
            "_view_name": "StyleView",
            "bar_color": null,
            "description_width": ""
          }
        },
        "88c63e5d2b834a119ceea63282d3c4a3": {
          "model_module": "@jupyter-widgets/base",
          "model_name": "LayoutModel",
          "model_module_version": "1.2.0",
          "state": {
            "_model_module": "@jupyter-widgets/base",
            "_model_module_version": "1.2.0",
            "_model_name": "LayoutModel",
            "_view_count": null,
            "_view_module": "@jupyter-widgets/base",
            "_view_module_version": "1.2.0",
            "_view_name": "LayoutView",
            "align_content": null,
            "align_items": null,
            "align_self": null,
            "border": null,
            "bottom": null,
            "display": null,
            "flex": null,
            "flex_flow": null,
            "grid_area": null,
            "grid_auto_columns": null,
            "grid_auto_flow": null,
            "grid_auto_rows": null,
            "grid_column": null,
            "grid_gap": null,
            "grid_row": null,
            "grid_template_areas": null,
            "grid_template_columns": null,
            "grid_template_rows": null,
            "height": null,
            "justify_content": null,
            "justify_items": null,
            "left": null,
            "margin": null,
            "max_height": null,
            "max_width": null,
            "min_height": null,
            "min_width": null,
            "object_fit": null,
            "object_position": null,
            "order": null,
            "overflow": null,
            "overflow_x": null,
            "overflow_y": null,
            "padding": null,
            "right": null,
            "top": null,
            "visibility": null,
            "width": null
          }
        },
        "3be34001677842079c761450eed3935b": {
          "model_module": "@jupyter-widgets/controls",
          "model_name": "DescriptionStyleModel",
          "model_module_version": "1.5.0",
          "state": {
            "_model_module": "@jupyter-widgets/controls",
            "_model_module_version": "1.5.0",
            "_model_name": "DescriptionStyleModel",
            "_view_count": null,
            "_view_module": "@jupyter-widgets/base",
            "_view_module_version": "1.2.0",
            "_view_name": "StyleView",
            "description_width": ""
          }
        },
        "3955a9598f8943578ffe52f7a54b6095": {
          "model_module": "@jupyter-widgets/controls",
          "model_name": "HBoxModel",
          "model_module_version": "1.5.0",
          "state": {
            "_dom_classes": [],
            "_model_module": "@jupyter-widgets/controls",
            "_model_module_version": "1.5.0",
            "_model_name": "HBoxModel",
            "_view_count": null,
            "_view_module": "@jupyter-widgets/controls",
            "_view_module_version": "1.5.0",
            "_view_name": "HBoxView",
            "box_style": "",
            "children": [
              "IPY_MODEL_61009fdf8e434b54a744c768fccad1db",
              "IPY_MODEL_b20cdecaea8c4846afad112080876829",
              "IPY_MODEL_2109dee2bf45469da98a853ccaff64b9"
            ],
            "layout": "IPY_MODEL_1126df99dde6443e885debe2f2ba831f"
          }
        },
        "61009fdf8e434b54a744c768fccad1db": {
          "model_module": "@jupyter-widgets/controls",
          "model_name": "HTMLModel",
          "model_module_version": "1.5.0",
          "state": {
            "_dom_classes": [],
            "_model_module": "@jupyter-widgets/controls",
            "_model_module_version": "1.5.0",
            "_model_name": "HTMLModel",
            "_view_count": null,
            "_view_module": "@jupyter-widgets/controls",
            "_view_module_version": "1.5.0",
            "_view_name": "HTMLView",
            "description": "",
            "description_tooltip": null,
            "layout": "IPY_MODEL_a1374eda22c94f94804dcdcb31eb7ab4",
            "placeholder": "​",
            "style": "IPY_MODEL_7529c384dd304b1e91440928c7ca324d",
            "value": "special_tokens_map.json: 100%"
          }
        },
        "b20cdecaea8c4846afad112080876829": {
          "model_module": "@jupyter-widgets/controls",
          "model_name": "FloatProgressModel",
          "model_module_version": "1.5.0",
          "state": {
            "_dom_classes": [],
            "_model_module": "@jupyter-widgets/controls",
            "_model_module_version": "1.5.0",
            "_model_name": "FloatProgressModel",
            "_view_count": null,
            "_view_module": "@jupyter-widgets/controls",
            "_view_module_version": "1.5.0",
            "_view_name": "ProgressView",
            "bar_style": "success",
            "description": "",
            "description_tooltip": null,
            "layout": "IPY_MODEL_848cc124561745a6b8325bcadc2070be",
            "max": 112,
            "min": 0,
            "orientation": "horizontal",
            "style": "IPY_MODEL_616854baa6274f9a9c3308b6ce752b28",
            "value": 112
          }
        },
        "2109dee2bf45469da98a853ccaff64b9": {
          "model_module": "@jupyter-widgets/controls",
          "model_name": "HTMLModel",
          "model_module_version": "1.5.0",
          "state": {
            "_dom_classes": [],
            "_model_module": "@jupyter-widgets/controls",
            "_model_module_version": "1.5.0",
            "_model_name": "HTMLModel",
            "_view_count": null,
            "_view_module": "@jupyter-widgets/controls",
            "_view_module_version": "1.5.0",
            "_view_name": "HTMLView",
            "description": "",
            "description_tooltip": null,
            "layout": "IPY_MODEL_7de7c719b994459f9f4a484a549c47c6",
            "placeholder": "​",
            "style": "IPY_MODEL_77bce0d27eb044f3812984428eac7cef",
            "value": " 112/112 [00:00&lt;00:00, 12.5kB/s]"
          }
        },
        "1126df99dde6443e885debe2f2ba831f": {
          "model_module": "@jupyter-widgets/base",
          "model_name": "LayoutModel",
          "model_module_version": "1.2.0",
          "state": {
            "_model_module": "@jupyter-widgets/base",
            "_model_module_version": "1.2.0",
            "_model_name": "LayoutModel",
            "_view_count": null,
            "_view_module": "@jupyter-widgets/base",
            "_view_module_version": "1.2.0",
            "_view_name": "LayoutView",
            "align_content": null,
            "align_items": null,
            "align_self": null,
            "border": null,
            "bottom": null,
            "display": null,
            "flex": null,
            "flex_flow": null,
            "grid_area": null,
            "grid_auto_columns": null,
            "grid_auto_flow": null,
            "grid_auto_rows": null,
            "grid_column": null,
            "grid_gap": null,
            "grid_row": null,
            "grid_template_areas": null,
            "grid_template_columns": null,
            "grid_template_rows": null,
            "height": null,
            "justify_content": null,
            "justify_items": null,
            "left": null,
            "margin": null,
            "max_height": null,
            "max_width": null,
            "min_height": null,
            "min_width": null,
            "object_fit": null,
            "object_position": null,
            "order": null,
            "overflow": null,
            "overflow_x": null,
            "overflow_y": null,
            "padding": null,
            "right": null,
            "top": null,
            "visibility": null,
            "width": null
          }
        },
        "a1374eda22c94f94804dcdcb31eb7ab4": {
          "model_module": "@jupyter-widgets/base",
          "model_name": "LayoutModel",
          "model_module_version": "1.2.0",
          "state": {
            "_model_module": "@jupyter-widgets/base",
            "_model_module_version": "1.2.0",
            "_model_name": "LayoutModel",
            "_view_count": null,
            "_view_module": "@jupyter-widgets/base",
            "_view_module_version": "1.2.0",
            "_view_name": "LayoutView",
            "align_content": null,
            "align_items": null,
            "align_self": null,
            "border": null,
            "bottom": null,
            "display": null,
            "flex": null,
            "flex_flow": null,
            "grid_area": null,
            "grid_auto_columns": null,
            "grid_auto_flow": null,
            "grid_auto_rows": null,
            "grid_column": null,
            "grid_gap": null,
            "grid_row": null,
            "grid_template_areas": null,
            "grid_template_columns": null,
            "grid_template_rows": null,
            "height": null,
            "justify_content": null,
            "justify_items": null,
            "left": null,
            "margin": null,
            "max_height": null,
            "max_width": null,
            "min_height": null,
            "min_width": null,
            "object_fit": null,
            "object_position": null,
            "order": null,
            "overflow": null,
            "overflow_x": null,
            "overflow_y": null,
            "padding": null,
            "right": null,
            "top": null,
            "visibility": null,
            "width": null
          }
        },
        "7529c384dd304b1e91440928c7ca324d": {
          "model_module": "@jupyter-widgets/controls",
          "model_name": "DescriptionStyleModel",
          "model_module_version": "1.5.0",
          "state": {
            "_model_module": "@jupyter-widgets/controls",
            "_model_module_version": "1.5.0",
            "_model_name": "DescriptionStyleModel",
            "_view_count": null,
            "_view_module": "@jupyter-widgets/base",
            "_view_module_version": "1.2.0",
            "_view_name": "StyleView",
            "description_width": ""
          }
        },
        "848cc124561745a6b8325bcadc2070be": {
          "model_module": "@jupyter-widgets/base",
          "model_name": "LayoutModel",
          "model_module_version": "1.2.0",
          "state": {
            "_model_module": "@jupyter-widgets/base",
            "_model_module_version": "1.2.0",
            "_model_name": "LayoutModel",
            "_view_count": null,
            "_view_module": "@jupyter-widgets/base",
            "_view_module_version": "1.2.0",
            "_view_name": "LayoutView",
            "align_content": null,
            "align_items": null,
            "align_self": null,
            "border": null,
            "bottom": null,
            "display": null,
            "flex": null,
            "flex_flow": null,
            "grid_area": null,
            "grid_auto_columns": null,
            "grid_auto_flow": null,
            "grid_auto_rows": null,
            "grid_column": null,
            "grid_gap": null,
            "grid_row": null,
            "grid_template_areas": null,
            "grid_template_columns": null,
            "grid_template_rows": null,
            "height": null,
            "justify_content": null,
            "justify_items": null,
            "left": null,
            "margin": null,
            "max_height": null,
            "max_width": null,
            "min_height": null,
            "min_width": null,
            "object_fit": null,
            "object_position": null,
            "order": null,
            "overflow": null,
            "overflow_x": null,
            "overflow_y": null,
            "padding": null,
            "right": null,
            "top": null,
            "visibility": null,
            "width": null
          }
        },
        "616854baa6274f9a9c3308b6ce752b28": {
          "model_module": "@jupyter-widgets/controls",
          "model_name": "ProgressStyleModel",
          "model_module_version": "1.5.0",
          "state": {
            "_model_module": "@jupyter-widgets/controls",
            "_model_module_version": "1.5.0",
            "_model_name": "ProgressStyleModel",
            "_view_count": null,
            "_view_module": "@jupyter-widgets/base",
            "_view_module_version": "1.2.0",
            "_view_name": "StyleView",
            "bar_color": null,
            "description_width": ""
          }
        },
        "7de7c719b994459f9f4a484a549c47c6": {
          "model_module": "@jupyter-widgets/base",
          "model_name": "LayoutModel",
          "model_module_version": "1.2.0",
          "state": {
            "_model_module": "@jupyter-widgets/base",
            "_model_module_version": "1.2.0",
            "_model_name": "LayoutModel",
            "_view_count": null,
            "_view_module": "@jupyter-widgets/base",
            "_view_module_version": "1.2.0",
            "_view_name": "LayoutView",
            "align_content": null,
            "align_items": null,
            "align_self": null,
            "border": null,
            "bottom": null,
            "display": null,
            "flex": null,
            "flex_flow": null,
            "grid_area": null,
            "grid_auto_columns": null,
            "grid_auto_flow": null,
            "grid_auto_rows": null,
            "grid_column": null,
            "grid_gap": null,
            "grid_row": null,
            "grid_template_areas": null,
            "grid_template_columns": null,
            "grid_template_rows": null,
            "height": null,
            "justify_content": null,
            "justify_items": null,
            "left": null,
            "margin": null,
            "max_height": null,
            "max_width": null,
            "min_height": null,
            "min_width": null,
            "object_fit": null,
            "object_position": null,
            "order": null,
            "overflow": null,
            "overflow_x": null,
            "overflow_y": null,
            "padding": null,
            "right": null,
            "top": null,
            "visibility": null,
            "width": null
          }
        },
        "77bce0d27eb044f3812984428eac7cef": {
          "model_module": "@jupyter-widgets/controls",
          "model_name": "DescriptionStyleModel",
          "model_module_version": "1.5.0",
          "state": {
            "_model_module": "@jupyter-widgets/controls",
            "_model_module_version": "1.5.0",
            "_model_name": "DescriptionStyleModel",
            "_view_count": null,
            "_view_module": "@jupyter-widgets/base",
            "_view_module_version": "1.2.0",
            "_view_name": "StyleView",
            "description_width": ""
          }
        },
        "60859bf830ee4e6baaef87ef7204b634": {
          "model_module": "@jupyter-widgets/controls",
          "model_name": "HBoxModel",
          "model_module_version": "1.5.0",
          "state": {
            "_dom_classes": [],
            "_model_module": "@jupyter-widgets/controls",
            "_model_module_version": "1.5.0",
            "_model_name": "HBoxModel",
            "_view_count": null,
            "_view_module": "@jupyter-widgets/controls",
            "_view_module_version": "1.5.0",
            "_view_name": "HBoxView",
            "box_style": "",
            "children": [
              "IPY_MODEL_965bab5d03f44276a76c144da6ad96a1",
              "IPY_MODEL_18ccd3ec63b94b7ebf376b7ee8697930",
              "IPY_MODEL_26b71ea927674c14b78ad7fc10cb8497"
            ],
            "layout": "IPY_MODEL_c19388bb011741808b7381eb51f04517"
          }
        },
        "965bab5d03f44276a76c144da6ad96a1": {
          "model_module": "@jupyter-widgets/controls",
          "model_name": "HTMLModel",
          "model_module_version": "1.5.0",
          "state": {
            "_dom_classes": [],
            "_model_module": "@jupyter-widgets/controls",
            "_model_module_version": "1.5.0",
            "_model_name": "HTMLModel",
            "_view_count": null,
            "_view_module": "@jupyter-widgets/controls",
            "_view_module_version": "1.5.0",
            "_view_name": "HTMLView",
            "description": "",
            "description_tooltip": null,
            "layout": "IPY_MODEL_00f544c2142a4efc85c9bf72f5c9d48b",
            "placeholder": "​",
            "style": "IPY_MODEL_b3a6f6a7454742d0a58aedbca35c8039",
            "value": "config.json: 100%"
          }
        },
        "18ccd3ec63b94b7ebf376b7ee8697930": {
          "model_module": "@jupyter-widgets/controls",
          "model_name": "FloatProgressModel",
          "model_module_version": "1.5.0",
          "state": {
            "_dom_classes": [],
            "_model_module": "@jupyter-widgets/controls",
            "_model_module_version": "1.5.0",
            "_model_name": "FloatProgressModel",
            "_view_count": null,
            "_view_module": "@jupyter-widgets/controls",
            "_view_module_version": "1.5.0",
            "_view_name": "ProgressView",
            "bar_style": "success",
            "description": "",
            "description_tooltip": null,
            "layout": "IPY_MODEL_04df43e1b6ce4532ab2b212fb11b2f39",
            "max": 190,
            "min": 0,
            "orientation": "horizontal",
            "style": "IPY_MODEL_a8fc1a98bd954a159e4fe018c8723743",
            "value": 190
          }
        },
        "26b71ea927674c14b78ad7fc10cb8497": {
          "model_module": "@jupyter-widgets/controls",
          "model_name": "HTMLModel",
          "model_module_version": "1.5.0",
          "state": {
            "_dom_classes": [],
            "_model_module": "@jupyter-widgets/controls",
            "_model_module_version": "1.5.0",
            "_model_name": "HTMLModel",
            "_view_count": null,
            "_view_module": "@jupyter-widgets/controls",
            "_view_module_version": "1.5.0",
            "_view_name": "HTMLView",
            "description": "",
            "description_tooltip": null,
            "layout": "IPY_MODEL_bea08253910c419d898f74d8eba0159d",
            "placeholder": "​",
            "style": "IPY_MODEL_9c31c434ead742699bfcc9137616487a",
            "value": " 190/190 [00:00&lt;00:00, 9.78kB/s]"
          }
        },
        "c19388bb011741808b7381eb51f04517": {
          "model_module": "@jupyter-widgets/base",
          "model_name": "LayoutModel",
          "model_module_version": "1.2.0",
          "state": {
            "_model_module": "@jupyter-widgets/base",
            "_model_module_version": "1.2.0",
            "_model_name": "LayoutModel",
            "_view_count": null,
            "_view_module": "@jupyter-widgets/base",
            "_view_module_version": "1.2.0",
            "_view_name": "LayoutView",
            "align_content": null,
            "align_items": null,
            "align_self": null,
            "border": null,
            "bottom": null,
            "display": null,
            "flex": null,
            "flex_flow": null,
            "grid_area": null,
            "grid_auto_columns": null,
            "grid_auto_flow": null,
            "grid_auto_rows": null,
            "grid_column": null,
            "grid_gap": null,
            "grid_row": null,
            "grid_template_areas": null,
            "grid_template_columns": null,
            "grid_template_rows": null,
            "height": null,
            "justify_content": null,
            "justify_items": null,
            "left": null,
            "margin": null,
            "max_height": null,
            "max_width": null,
            "min_height": null,
            "min_width": null,
            "object_fit": null,
            "object_position": null,
            "order": null,
            "overflow": null,
            "overflow_x": null,
            "overflow_y": null,
            "padding": null,
            "right": null,
            "top": null,
            "visibility": null,
            "width": null
          }
        },
        "00f544c2142a4efc85c9bf72f5c9d48b": {
          "model_module": "@jupyter-widgets/base",
          "model_name": "LayoutModel",
          "model_module_version": "1.2.0",
          "state": {
            "_model_module": "@jupyter-widgets/base",
            "_model_module_version": "1.2.0",
            "_model_name": "LayoutModel",
            "_view_count": null,
            "_view_module": "@jupyter-widgets/base",
            "_view_module_version": "1.2.0",
            "_view_name": "LayoutView",
            "align_content": null,
            "align_items": null,
            "align_self": null,
            "border": null,
            "bottom": null,
            "display": null,
            "flex": null,
            "flex_flow": null,
            "grid_area": null,
            "grid_auto_columns": null,
            "grid_auto_flow": null,
            "grid_auto_rows": null,
            "grid_column": null,
            "grid_gap": null,
            "grid_row": null,
            "grid_template_areas": null,
            "grid_template_columns": null,
            "grid_template_rows": null,
            "height": null,
            "justify_content": null,
            "justify_items": null,
            "left": null,
            "margin": null,
            "max_height": null,
            "max_width": null,
            "min_height": null,
            "min_width": null,
            "object_fit": null,
            "object_position": null,
            "order": null,
            "overflow": null,
            "overflow_x": null,
            "overflow_y": null,
            "padding": null,
            "right": null,
            "top": null,
            "visibility": null,
            "width": null
          }
        },
        "b3a6f6a7454742d0a58aedbca35c8039": {
          "model_module": "@jupyter-widgets/controls",
          "model_name": "DescriptionStyleModel",
          "model_module_version": "1.5.0",
          "state": {
            "_model_module": "@jupyter-widgets/controls",
            "_model_module_version": "1.5.0",
            "_model_name": "DescriptionStyleModel",
            "_view_count": null,
            "_view_module": "@jupyter-widgets/base",
            "_view_module_version": "1.2.0",
            "_view_name": "StyleView",
            "description_width": ""
          }
        },
        "04df43e1b6ce4532ab2b212fb11b2f39": {
          "model_module": "@jupyter-widgets/base",
          "model_name": "LayoutModel",
          "model_module_version": "1.2.0",
          "state": {
            "_model_module": "@jupyter-widgets/base",
            "_model_module_version": "1.2.0",
            "_model_name": "LayoutModel",
            "_view_count": null,
            "_view_module": "@jupyter-widgets/base",
            "_view_module_version": "1.2.0",
            "_view_name": "LayoutView",
            "align_content": null,
            "align_items": null,
            "align_self": null,
            "border": null,
            "bottom": null,
            "display": null,
            "flex": null,
            "flex_flow": null,
            "grid_area": null,
            "grid_auto_columns": null,
            "grid_auto_flow": null,
            "grid_auto_rows": null,
            "grid_column": null,
            "grid_gap": null,
            "grid_row": null,
            "grid_template_areas": null,
            "grid_template_columns": null,
            "grid_template_rows": null,
            "height": null,
            "justify_content": null,
            "justify_items": null,
            "left": null,
            "margin": null,
            "max_height": null,
            "max_width": null,
            "min_height": null,
            "min_width": null,
            "object_fit": null,
            "object_position": null,
            "order": null,
            "overflow": null,
            "overflow_x": null,
            "overflow_y": null,
            "padding": null,
            "right": null,
            "top": null,
            "visibility": null,
            "width": null
          }
        },
        "a8fc1a98bd954a159e4fe018c8723743": {
          "model_module": "@jupyter-widgets/controls",
          "model_name": "ProgressStyleModel",
          "model_module_version": "1.5.0",
          "state": {
            "_model_module": "@jupyter-widgets/controls",
            "_model_module_version": "1.5.0",
            "_model_name": "ProgressStyleModel",
            "_view_count": null,
            "_view_module": "@jupyter-widgets/base",
            "_view_module_version": "1.2.0",
            "_view_name": "StyleView",
            "bar_color": null,
            "description_width": ""
          }
        },
        "bea08253910c419d898f74d8eba0159d": {
          "model_module": "@jupyter-widgets/base",
          "model_name": "LayoutModel",
          "model_module_version": "1.2.0",
          "state": {
            "_model_module": "@jupyter-widgets/base",
            "_model_module_version": "1.2.0",
            "_model_name": "LayoutModel",
            "_view_count": null,
            "_view_module": "@jupyter-widgets/base",
            "_view_module_version": "1.2.0",
            "_view_name": "LayoutView",
            "align_content": null,
            "align_items": null,
            "align_self": null,
            "border": null,
            "bottom": null,
            "display": null,
            "flex": null,
            "flex_flow": null,
            "grid_area": null,
            "grid_auto_columns": null,
            "grid_auto_flow": null,
            "grid_auto_rows": null,
            "grid_column": null,
            "grid_gap": null,
            "grid_row": null,
            "grid_template_areas": null,
            "grid_template_columns": null,
            "grid_template_rows": null,
            "height": null,
            "justify_content": null,
            "justify_items": null,
            "left": null,
            "margin": null,
            "max_height": null,
            "max_width": null,
            "min_height": null,
            "min_width": null,
            "object_fit": null,
            "object_position": null,
            "order": null,
            "overflow": null,
            "overflow_x": null,
            "overflow_y": null,
            "padding": null,
            "right": null,
            "top": null,
            "visibility": null,
            "width": null
          }
        },
        "9c31c434ead742699bfcc9137616487a": {
          "model_module": "@jupyter-widgets/controls",
          "model_name": "DescriptionStyleModel",
          "model_module_version": "1.5.0",
          "state": {
            "_model_module": "@jupyter-widgets/controls",
            "_model_module_version": "1.5.0",
            "_model_name": "DescriptionStyleModel",
            "_view_count": null,
            "_view_module": "@jupyter-widgets/base",
            "_view_module_version": "1.2.0",
            "_view_name": "StyleView",
            "description_width": ""
          }
        }
      }
    }
  },
  "nbformat": 4,
  "nbformat_minor": 0
}